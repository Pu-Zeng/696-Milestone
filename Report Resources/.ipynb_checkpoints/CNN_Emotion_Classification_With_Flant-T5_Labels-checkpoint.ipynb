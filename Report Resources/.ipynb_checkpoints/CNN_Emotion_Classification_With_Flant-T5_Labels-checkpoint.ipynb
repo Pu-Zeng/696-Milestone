{
 "cells": [
  {
   "cell_type": "code",
   "execution_count": null,
   "metadata": {
    "colab": {
     "base_uri": "https://localhost:8080/"
    },
    "id": "3-ChWZxV6Q4f",
    "outputId": "40700328-f8eb-48ad-e076-40ac59995dc2"
   },
   "outputs": [
    {
     "name": "stdout",
     "output_type": "stream",
     "text": [
      "Archive:  /content/drive/MyDrive/Milestone 2/music_data.zip\n",
      "  inflating: /content/drive/MyDrive/Milestone 2/music_data1.bin  \n",
      "  inflating: /content/drive/MyDrive/Milestone 2/music_data2.bin  \n",
      "  inflating: /content/drive/MyDrive/Milestone 2/music_data3.bin  \n",
      "  inflating: /content/drive/MyDrive/Milestone 2/music_data4.bin  \n",
      "  inflating: /content/drive/MyDrive/Milestone 2/music_data5.bin  \n",
      "  inflating: /content/drive/MyDrive/Milestone 2/music_data6.bin  \n",
      "  inflating: /content/drive/MyDrive/Milestone 2/music_data7.bin  \n",
      "  inflating: /content/drive/MyDrive/Milestone 2/music_data8.bin  \n",
      "  inflating: /content/drive/MyDrive/Milestone 2/music_data9.bin  \n"
     ]
    }
   ],
   "source": [
    "!unzip \"/content/drive/MyDrive/Milestone 2/music_data.zip\" -d \"/content/drive/MyDrive/Milestone 2/\""
   ]
  },
  {
   "cell_type": "code",
   "execution_count": null,
   "metadata": {
    "id": "wRF6FLeb5DXz"
   },
   "outputs": [],
   "source": [
    "from google.colab import drive\n",
    "drive.mount('/content/drive')"
   ]
  },
  {
   "cell_type": "code",
   "execution_count": 45,
   "metadata": {
    "id": "u8eSS9tg62ge",
    "tags": []
   },
   "outputs": [],
   "source": [
    "import os\n",
    "import pandas as pd\n",
    "from tqdm import tqdm\n",
    "import matplotlib.pyplot as plt\n",
    "# import mido\n",
    "import string\n",
    "import numpy as np\n",
    "# from utilis import get_pianoroll_data\n",
    "import pickle\n",
    "import os\n",
    "import pandas as pd\n",
    "from tqdm import tqdm\n",
    "import matplotlib.pyplot as plt\n",
    "# import mido\n",
    "import string\n",
    "import numpy as np\n",
    "# from utilis import get_pianoroll_data\n",
    "import pickle\n",
    "from sklearn import preprocessing\n",
    "import torch\n",
    "import torch\n",
    "import torch.nn as nn\n",
    "import torch.nn.functional as F\n",
    "import torchvision\n",
    "import torchvision.transforms as transforms\n",
    "from sklearn.datasets import fetch_california_housing\n",
    "from sklearn.model_selection import train_test_split\n",
    "\n",
    "from torch.utils.data import TensorDataset\n"
   ]
  },
  {
   "cell_type": "code",
   "execution_count": 64,
   "metadata": {
    "tags": []
   },
   "outputs": [],
   "source": [
    "file=open(\"lakh_emotion.bin\",\"rb\")\n",
    "music_data = pickle.load(file) #保存list到文件\n",
    "file.close()"
   ]
  },
  {
   "cell_type": "code",
   "execution_count": 65,
   "metadata": {
    "tags": []
   },
   "outputs": [
    {
     "data": {
      "text/plain": [
       "array([\"a-livin'\", 'achey', 'ah', 'ah!',\n",
       "       \"ahah,ahva,vava.we'll take a dream on a sunday,we'll take a life,take a holiday.take a lie,take a dreamer,dream\",\n",
       "       'ahh', 'ahum', 'amazing', 'anger', 'angry', 'arousal', 'awe',\n",
       "       'bad', 'big', 'bitter', 'bittersweet', 'calm', 'cold', 'confused',\n",
       "       'darkness', 'ecstasy', 'ecstatic', 'eloquent',\n",
       "       'emertimenessed by midnight cinglight tying live phonebovelingney, ry where thing no more foremertimenessed by summertimemertimenesss-summertimemertime',\n",
       "       'emotion', 'emotional', 'emozione', 'enlightened', 'esattino',\n",
       "       'ethereal', 'euphoria',\n",
       "       'evtiiiiiiiiiiiiiiiiiiiiiiiiiiiiiiiiiiiiiiiiiiiiii', 'excited',\n",
       "       'fear', 'fearful', 'foolish', 'free as a bird', 'frightful',\n",
       "       \"frozen inside without your touch without your love, darling only you are the life among the dead of this i, i can't believe i couldn't see kept in the dark, but you were there in front of me]\",\n",
       "       'good', 'grateful', 'happy', 'happyness', 'hate', 'heart',\n",
       "       'heartbreaking', 'heartbroken', 'helpful', 'hopeful', 'hurt',\n",
       "       'hurts', 'hysterical', 'i',\n",
       "       'i and getgie you you getgiei and getgie you you getgiei and lyaly out in stuff you you and getgiei and getgies hoodoobie scooshoo scoobe',\n",
       "       'i lay down with an angel', 'i loved them so.',\n",
       "       \"i'm your top prime cut of meat, i'm your choice. i wanna be elected. i'm my top prime cut of meat, i'm your choice. i wanna be elected.\",\n",
       "       'joy', 'joyous', 'light', 'love', 'mean', 'na na na', 'negative',\n",
       "       'numbness',\n",
       "       \"ooooooooo,ooo.ooooooooo,ooo.if you,if you could return,don't let it burn,don't let it fade.i'm sure i'm not being rude\",\n",
       "       'positive', 'powerful', 'proud', 'raining', 'sad', 'sadness',\n",
       "       'shame',\n",
       "       'she feels she is a woman and she is a man and she is a woman and she is a man and she is a woman and she is a woman and she is a woman and she is a woman and',\n",
       "       'shock', 'sorrow', 'strange', 'strong', 'surprise', 'tenderness',\n",
       "       'time', 'tired', 'tiredness', 'trouble', 'uneasy', 'unsure',\n",
       "       'upset', 'vain',\n",
       "       \"webutwell and how nyr ilyed one but thing peenden itn't and how nyr y you buting we'velems you'relieve how thing how thing is answers but\",\n",
       "       'woo',\n",
       "       \"you have seen digcing Friday looking wheresic getting you anybody nightsic's with sicrything you're and youcingyounglyventeen.dancingfeelbourine.youhaving see digc\"],\n",
       "      dtype='<U191')"
      ]
     },
     "execution_count": 65,
     "metadata": {},
     "output_type": "execute_result"
    }
   ],
   "source": [
    "np.unique([x[1] for x in music_data])"
   ]
  },
  {
   "cell_type": "code",
   "execution_count": 66,
   "metadata": {
    "tags": []
   },
   "outputs": [
    {
     "data": {
      "text/plain": [
       "1810"
      ]
     },
     "execution_count": 66,
     "metadata": {},
     "output_type": "execute_result"
    }
   ],
   "source": [
    "len(music_data)"
   ]
  },
  {
   "cell_type": "code",
   "execution_count": 67,
   "metadata": {
    "id": "a5ONeVUU7MOU",
    "tags": []
   },
   "outputs": [],
   "source": [
    "from tqdm import tqdm\n",
    "X = []\n",
    "y = []\n",
    "chosen_label = ['sadness', 'happy', 'love', 'joy', 'negative', 'positive', 'anger',\n",
    "       'awe', 'emotional', 'hopeful', 'angry', 'excited', 'fear', 'hurt',\n",
    "       'fearful']\n",
    "# for i in tqdm(range(1,10)):\n",
    "file=open(\"lakh_emotion.bin\",\"rb\")\n",
    "music_data = pickle.load(file) #保存list到文件\n",
    "file.close()\n",
    "for m in music_data:\n",
    "    if m[1] in chosen_label:\n",
    "        X.append(m[0])\n",
    "        if m[1] == 'anger':\n",
    "            m[1] = 'angry'\n",
    "        if m[1] == 'fearful':\n",
    "            m[1] = 'fear'\n",
    "        if m[1] == 'joy':\n",
    "            m[1] = 'happy'\n",
    "        y.append(m[1])\n",
    "X = np.array(X)"
   ]
  },
  {
   "cell_type": "code",
   "execution_count": 68,
   "metadata": {
    "tags": []
   },
   "outputs": [],
   "source": [
    "num_labels = len(np.unique(y))"
   ]
  },
  {
   "cell_type": "code",
   "execution_count": 69,
   "metadata": {
    "tags": []
   },
   "outputs": [],
   "source": [
    "y_temp = np.array(y)\n",
    "d = {}\n",
    "for label in np.unique(y):\n",
    "    d[label] = (y_temp==label).sum()"
   ]
  },
  {
   "cell_type": "code",
   "execution_count": 91,
   "metadata": {
    "tags": []
   },
   "outputs": [
    {
     "data": {
      "text/plain": [
       "1143"
      ]
     },
     "execution_count": 91,
     "metadata": {},
     "output_type": "execute_result"
    }
   ],
   "source": [
    "len(y)"
   ]
  },
  {
   "cell_type": "code",
   "execution_count": 71,
   "metadata": {
    "tags": []
   },
   "outputs": [],
   "source": [
    "from sklearn import preprocessing\n",
    "import torch\n",
    "\n",
    "le = preprocessing.LabelEncoder()\n",
    "y = le.fit_transform(y)\n",
    "\n",
    "label_dict = {}\n",
    "for cl in le.classes_:\n",
    "    label_dict.update({cl:le.transform([cl])[0]})"
   ]
  },
  {
   "cell_type": "code",
   "execution_count": 72,
   "metadata": {
    "tags": []
   },
   "outputs": [],
   "source": [
    "class CNNModel(nn.Module):\n",
    "    def __init__(self, hiddenSize, outChannels, dropoutRate, activate):\n",
    "        super().__init__()\n",
    "        self.outChannels = outChannels\n",
    "        self.activate = nn.Sigmoid() if activate == \"Sigmoid\" else nn.ReLU()\n",
    "        self.conv1 = nn.Conv2d(1, 24, (10,1))\n",
    "        self.pool = nn.MaxPool2d((2, 1))\n",
    "        self.conv2 = nn.Conv2d(24, 48, (10,1))\n",
    "        self.conv3 = nn.Conv2d(48, 96, (10,1))\n",
    "        self.conv4 = nn.Conv2d(96, 192, (10,1))\n",
    "        self.conv5 = nn.Conv2d(192, 384, (5,2))\n",
    "        self.conv6 = nn.Conv2d(384, 192, (5,2))\n",
    "        self.dense1 = nn.Linear(48384, hiddenSize)\n",
    "        self.dropout = nn.Dropout(dropoutRate)\n",
    "        self.dense2 = nn.Linear(hiddenSize, num_labels)\n",
    "\n",
    "    def forward(self, x):\n",
    "        x = self.pool(self.activate(self.conv1(x)))\n",
    "        x = self.pool(self.activate(self.conv2(x)))\n",
    "        # print(x.shape)\n",
    "        x = self.dropout(self.pool(self.activate(self.conv3(x))))\n",
    "        x = self.pool(self.activate(self.conv4(x)))\n",
    "        x = self.pool(self.activate(self.conv5(x)))\n",
    "        x = self.pool(self.activate(self.conv6(x)))\n",
    "        # print(x.shape)\n",
    "        x = x.view(-1, 48384)\n",
    "        x = self.dropout(self.activate(self.dense1(x)))\n",
    "        return self.dense2(x)\n",
    "\n",
    "# Number of neurons in the first fully-connected layer\n",
    "hiddenSize = 4096\n",
    "# Number of feature filters in second convolutional layer\n",
    "numFilters = 25\n",
    "# Dropout rate\n",
    "dropoutRate = 0.2\n",
    "# Activation function\n",
    "activation = \"ReLU\"\n",
    "# Learning rate\n",
    "learningRate = 0.005\n",
    "# Momentum for SGD optimizer\n",
    "momentum = 0.9\n",
    "# Number of training epochs\n",
    "numEpochs = 20"
   ]
  },
  {
   "cell_type": "code",
   "execution_count": 73,
   "metadata": {
    "tags": []
   },
   "outputs": [],
   "source": [
    "from tqdm import tqdm\n",
    "def train_epoch(cnn,device,dataloader,loss_fn,optimizer):\n",
    "    cnn.train()\n",
    "    cnnRunningLoss = 0\n",
    "    total = 0\n",
    "    R2 = 0\n",
    "    cnnCorrect=0\n",
    "    total1=0\n",
    "    for i, (inputs, labels) in enumerate(dataloader, 0):\n",
    "        optimizer.zero_grad()\n",
    "        inputs = inputs.to('cuda').reshape(-1,1,512,128)\n",
    "        \n",
    "        labels = labels.to('cuda')\n",
    "        # Forward propagation\n",
    "        cnnOutputs = cnn(inputs)\n",
    "        # print(cnnOutputs.shape)\n",
    "        l2_lambda = 0.001\n",
    "        l2_reg = torch.tensor(0.).to('cuda')\n",
    "        for param in cnn.parameters():\n",
    "            l2_reg += torch.norm(param)\n",
    "        # Backpropagation\n",
    "        cnnLoss = criterion(cnnOutputs, labels)+l2_reg*l2_lambda\n",
    "        cnnLoss.backward()\n",
    "        # Gradient update\n",
    "        optimizer.step()\n",
    "        total += 1\n",
    "        total1+=labels.size(0)\n",
    "        cnnRunningLoss += cnnLoss.item()\n",
    "        _, cnnPredicted = torch.max(cnnOutputs.data, 1)\n",
    "        cnnCorrect += (cnnPredicted == labels).sum().item()\n",
    "    return cnnRunningLoss/total, cnnCorrect/total1\n",
    "\n",
    "def valid_epoch(cnn,device,dataloader,loss_fn):\n",
    "    cnn.eval()\n",
    "    totalLoss = 0\n",
    "    total = 0\n",
    "    total1 = 0\n",
    "    R2 = 0\n",
    "    cnnLoss = 0\n",
    "    cnnCorrect=0\n",
    "    for inputs, labels in dataloader:\n",
    "        inputs = inputs.to('cuda').reshape(-1,1,512,128)\n",
    "        labels = labels.to('cuda')\n",
    "        cnnOutputs = cnn(inputs)\n",
    "        cnnLoss = loss_fn(cnnOutputs, labels)\n",
    "        _, cnnPredicted = torch.max(cnnOutputs.data, 1)\n",
    "        total += labels.size(0)\n",
    "        total1 +=1\n",
    "        totalLoss += cnnLoss.item()\n",
    "        cnnCorrect += (cnnPredicted == labels).sum().item()\n",
    "    accuracy = cnnCorrect / total * 100\n",
    "    cnn.train()\n",
    "    return totalLoss/total1, accuracy"
   ]
  },
  {
   "cell_type": "code",
   "execution_count": 74,
   "metadata": {
    "tags": []
   },
   "outputs": [
    {
     "name": "stdout",
     "output_type": "stream",
     "text": [
      "Fold 1\n",
      "Train Loss: 2.54693922996521, Train_acc: 0.10083333333333333, Test Loss: 2.509760618209839, Test acc: 3.75\n",
      "Train Loss: 2.432154726982117, Train_acc: 0.17166666666666666, Test Loss: 2.575276494026184, Test acc: 8.75\n",
      "Train Loss: 2.166303515434265, Train_acc: 0.2683333333333333, Test Loss: 2.872212529182434, Test acc: 16.25\n",
      "Train Loss: 1.8634415864944458, Train_acc: 0.39916666666666667, Test Loss: 2.742924213409424, Test acc: 22.916666666666664\n",
      "Train Loss: 1.6107344388961793, Train_acc: 0.5075, Test Loss: 3.2595866918563843, Test acc: 30.0\n",
      "Train Loss: 1.4440710425376893, Train_acc: 0.5641666666666667, Test Loss: 2.9759310483932495, Test acc: 34.166666666666664\n",
      "Train Loss: 1.2971147179603577, Train_acc: 0.6241666666666666, Test Loss: 3.4962048530578613, Test acc: 37.5\n",
      "Train Loss: 1.1824334502220153, Train_acc: 0.63, Test Loss: 4.852903842926025, Test acc: 37.5\n",
      "Train Loss: 1.0968679368495942, Train_acc: 0.6541666666666667, Test Loss: 5.9636454582214355, Test acc: 35.0\n",
      "Train Loss: 1.140394687652588, Train_acc: 0.6566666666666666, Test Loss: 5.402667999267578, Test acc: 37.083333333333336\n",
      "Train Loss: 1.1371516346931458, Train_acc: 0.65, Test Loss: 6.560758590698242, Test acc: 36.25\n",
      "Train Loss: 1.0969563722610474, Train_acc: 0.6641666666666667, Test Loss: 6.696919679641724, Test acc: 37.083333333333336\n",
      "Train Loss: 1.2361123263835907, Train_acc: 0.66, Test Loss: 4.558703422546387, Test acc: 36.25\n",
      "Train Loss: 1.0824059665203094, Train_acc: 0.6783333333333333, Test Loss: 4.750430583953857, Test acc: 37.083333333333336\n",
      "Train Loss: 1.0225753486156464, Train_acc: 0.6883333333333334, Test Loss: 8.162421703338623, Test acc: 37.916666666666664\n",
      "Train Loss: 1.0899004876613616, Train_acc: 0.6741666666666667, Test Loss: 5.456668853759766, Test acc: 40.416666666666664\n",
      "Train Loss: 1.0418302893638611, Train_acc: 0.6966666666666667, Test Loss: 5.78740119934082, Test acc: 37.5\n",
      "Train Loss: 1.024521380662918, Train_acc: 0.6833333333333333, Test Loss: 5.538845062255859, Test acc: 37.5\n",
      "Train Loss: 1.0076925218105317, Train_acc: 0.6841666666666667, Test Loss: 6.364707946777344, Test acc: 40.0\n",
      "Train Loss: 0.9734763979911805, Train_acc: 0.7008333333333333, Test Loss: 6.873267650604248, Test acc: 39.166666666666664\n",
      "Fold 2\n",
      "Train Loss: 2.561113739013672, Train_acc: 0.12166666666666667, Test Loss: 2.4792205095291138, Test acc: 10.833333333333334\n",
      "Train Loss: 2.533825159072876, Train_acc: 0.16083333333333333, Test Loss: 2.458383560180664, Test acc: 10.833333333333334\n",
      "Train Loss: 2.4465691328048704, Train_acc: 0.18416666666666667, Test Loss: 2.4288687705993652, Test acc: 20.0\n",
      "Train Loss: 2.205732011795044, Train_acc: 0.2683333333333333, Test Loss: 2.910871982574463, Test acc: 22.916666666666664\n",
      "Train Loss: 2.0849866032600404, Train_acc: 0.3541666666666667, Test Loss: 2.3814446926116943, Test acc: 29.583333333333332\n",
      "Train Loss: 1.7696589469909667, Train_acc: 0.44666666666666666, Test Loss: 3.01533579826355, Test acc: 34.583333333333336\n",
      "Train Loss: 1.4880540013313293, Train_acc: 0.5358333333333334, Test Loss: 2.6646043062210083, Test acc: 39.166666666666664\n",
      "Train Loss: 1.2976189255714417, Train_acc: 0.5991666666666666, Test Loss: 2.592298448085785, Test acc: 44.166666666666664\n",
      "Train Loss: 1.257375133037567, Train_acc: 0.6275, Test Loss: 2.562231421470642, Test acc: 42.916666666666664\n",
      "Train Loss: 1.1532318234443664, Train_acc: 0.6683333333333333, Test Loss: 3.138120412826538, Test acc: 43.75\n",
      "Train Loss: 1.0784940123558044, Train_acc: 0.6725, Test Loss: 3.0130796432495117, Test acc: 43.333333333333336\n",
      "Train Loss: 0.9939927816390991, Train_acc: 0.7, Test Loss: 4.1229201555252075, Test acc: 46.666666666666664\n",
      "Train Loss: 0.972756290435791, Train_acc: 0.72, Test Loss: 4.773910284042358, Test acc: 38.333333333333336\n",
      "Train Loss: 1.3622495174407958, Train_acc: 0.6241666666666666, Test Loss: 2.4131473302841187, Test acc: 44.583333333333336\n",
      "Train Loss: 1.1229125559329987, Train_acc: 0.665, Test Loss: 2.5836575031280518, Test acc: 46.25\n",
      "Train Loss: 0.9758598566055298, Train_acc: 0.6991666666666667, Test Loss: 4.034003257751465, Test acc: 45.416666666666664\n",
      "Train Loss: 0.8809797108173371, Train_acc: 0.7091666666666666, Test Loss: 4.775081753730774, Test acc: 44.583333333333336\n",
      "Train Loss: 0.9422463238239288, Train_acc: 0.7191666666666666, Test Loss: 4.826853513717651, Test acc: 46.25\n",
      "Train Loss: 0.9924384236335755, Train_acc: 0.7266666666666667, Test Loss: 4.212681412696838, Test acc: 48.75\n",
      "Train Loss: 0.9913378357887268, Train_acc: 0.725, Test Loss: 3.8543649911880493, Test acc: 46.666666666666664\n",
      "Fold 3\n",
      "Train Loss: 2.553145956993103, Train_acc: 0.125, Test Loss: 2.47074818611145, Test acc: 7.916666666666666\n",
      "Train Loss: 2.484616231918335, Train_acc: 0.12583333333333332, Test Loss: 2.421732544898987, Test acc: 21.666666666666668\n",
      "Train Loss: 2.284190320968628, Train_acc: 0.2608333333333333, Test Loss: 2.362913131713867, Test acc: 26.25\n",
      "Train Loss: 2.138972043991089, Train_acc: 0.335, Test Loss: 2.273944139480591, Test acc: 26.25\n",
      "Train Loss: 1.8385292768478394, Train_acc: 0.4483333333333333, Test Loss: 2.4055875539779663, Test acc: 32.916666666666664\n",
      "Train Loss: 1.505008828639984, Train_acc: 0.5275, Test Loss: 2.4270776510238647, Test acc: 36.25\n",
      "Train Loss: 1.427746868133545, Train_acc: 0.5941666666666666, Test Loss: 2.2298253774642944, Test acc: 35.833333333333336\n",
      "Train Loss: 1.2033229291439056, Train_acc: 0.6516666666666666, Test Loss: 3.0709025263786316, Test acc: 36.666666666666664\n",
      "Train Loss: 1.0932104408740997, Train_acc: 0.6766666666666666, Test Loss: 4.495207190513611, Test acc: 37.083333333333336\n",
      "Train Loss: 1.2616306126117707, Train_acc: 0.6633333333333333, Test Loss: 2.396166741847992, Test acc: 36.25\n",
      "Train Loss: 1.1673271536827088, Train_acc: 0.6808333333333333, Test Loss: 3.5520421266555786, Test acc: 38.75\n",
      "Train Loss: 1.1206090033054352, Train_acc: 0.6825, Test Loss: 3.251874566078186, Test acc: 39.166666666666664\n",
      "Train Loss: 1.2532746613025665, Train_acc: 0.7066666666666667, Test Loss: 3.0358731746673584, Test acc: 39.58333333333333\n",
      "Train Loss: 1.1360315263271332, Train_acc: 0.695, Test Loss: 2.651867628097534, Test acc: 37.083333333333336\n",
      "Train Loss: 1.0059270322322846, Train_acc: 0.7133333333333334, Test Loss: 3.715033173561096, Test acc: 38.333333333333336\n",
      "Train Loss: 0.9054890215396881, Train_acc: 0.7258333333333333, Test Loss: 4.970216870307922, Test acc: 38.75\n",
      "Train Loss: 1.0610075056552888, Train_acc: 0.7275, Test Loss: 4.431901812553406, Test acc: 38.75\n",
      "Train Loss: 0.9142156720161438, Train_acc: 0.7341666666666666, Test Loss: 3.40893292427063, Test acc: 40.0\n",
      "Train Loss: 0.8855226039886475, Train_acc: 0.7433333333333333, Test Loss: 5.3240790367126465, Test acc: 41.25\n",
      "Train Loss: 0.883112108707428, Train_acc: 0.7425, Test Loss: 6.165318965911865, Test acc: 41.25\n",
      "Fold 4\n",
      "Train Loss: 2.5634938955307005, Train_acc: 0.08416666666666667, Test Loss: 2.469657778739929, Test acc: 15.0\n",
      "Train Loss: 2.534844970703125, Train_acc: 0.16, Test Loss: 2.4288829565048218, Test acc: 14.166666666666666\n",
      "Train Loss: 2.4512731552124025, Train_acc: 0.1825, Test Loss: 2.2889139652252197, Test acc: 20.833333333333336\n",
      "Train Loss: 2.2367791056632997, Train_acc: 0.29833333333333334, Test Loss: 2.7738428115844727, Test acc: 19.583333333333332\n",
      "Train Loss: 2.3959866523742677, Train_acc: 0.31083333333333335, Test Loss: 2.3084336519241333, Test acc: 19.583333333333332\n",
      "Train Loss: 2.0334284901618958, Train_acc: 0.36833333333333335, Test Loss: 2.3450571298599243, Test acc: 30.0\n",
      "Train Loss: 1.7407758116722107, Train_acc: 0.4791666666666667, Test Loss: 2.1651155948638916, Test acc: 35.0\n",
      "Train Loss: 1.5511009335517882, Train_acc: 0.5516666666666666, Test Loss: 2.217782497406006, Test acc: 37.916666666666664\n",
      "Train Loss: 1.2673636198043823, Train_acc: 0.6041666666666666, Test Loss: 3.029349684715271, Test acc: 42.916666666666664\n",
      "Train Loss: 1.3483216047286988, Train_acc: 0.6058333333333333, Test Loss: 2.447050929069519, Test acc: 37.916666666666664\n",
      "Train Loss: 1.3897960662841797, Train_acc: 0.5933333333333334, Test Loss: 2.081297755241394, Test acc: 41.66666666666667\n",
      "Train Loss: 1.1428454577922822, Train_acc: 0.6516666666666666, Test Loss: 3.2023704051971436, Test acc: 43.333333333333336\n",
      "Train Loss: 1.1235863089561462, Train_acc: 0.6708333333333333, Test Loss: 3.581562042236328, Test acc: 45.0\n",
      "Train Loss: 1.1032827079296113, Train_acc: 0.665, Test Loss: 2.9106684923171997, Test acc: 44.166666666666664\n",
      "Train Loss: 1.0397665441036223, Train_acc: 0.6816666666666666, Test Loss: 3.7040985822677612, Test acc: 47.91666666666667\n",
      "Train Loss: 0.9565585076808929, Train_acc: 0.6975, Test Loss: 4.825285077095032, Test acc: 46.666666666666664\n",
      "Train Loss: 0.9328932881355285, Train_acc: 0.7091666666666666, Test Loss: 5.136233568191528, Test acc: 45.416666666666664\n",
      "Train Loss: 1.1070720970630645, Train_acc: 0.6833333333333333, Test Loss: 3.9965556859970093, Test acc: 43.75\n",
      "Train Loss: 1.036659187078476, Train_acc: 0.6908333333333333, Test Loss: 3.3423174619674683, Test acc: 44.166666666666664\n",
      "Train Loss: 0.9566930770874024, Train_acc: 0.705, Test Loss: 5.209038019180298, Test acc: 42.916666666666664\n",
      "Fold 5\n",
      "Train Loss: 2.55818452835083, Train_acc: 0.10583333333333333, Test Loss: 2.479628324508667, Test acc: 8.75\n",
      "Train Loss: 2.503183960914612, Train_acc: 0.15416666666666667, Test Loss: 2.46530282497406, Test acc: 7.5\n",
      "Train Loss: 2.362368369102478, Train_acc: 0.20416666666666666, Test Loss: 2.4211111068725586, Test acc: 19.583333333333332\n",
      "Train Loss: 2.1206240177154543, Train_acc: 0.33416666666666667, Test Loss: 2.474224328994751, Test acc: 20.0\n",
      "Train Loss: 1.8099603533744812, Train_acc: 0.4475, Test Loss: 2.6867047548294067, Test acc: 27.083333333333332\n",
      "Train Loss: 1.582103717327118, Train_acc: 0.5091666666666667, Test Loss: 2.8091602325439453, Test acc: 36.25\n",
      "Train Loss: 1.5604054570198058, Train_acc: 0.5308333333333334, Test Loss: 2.295206665992737, Test acc: 38.75\n",
      "Train Loss: 1.267925775051117, Train_acc: 0.615, Test Loss: 3.1761356592178345, Test acc: 41.25\n",
      "Train Loss: 1.2013456046581268, Train_acc: 0.62, Test Loss: 2.375527262687683, Test acc: 40.0\n",
      "Train Loss: 1.1998870253562928, Train_acc: 0.6283333333333333, Test Loss: 2.999728202819824, Test acc: 43.75\n",
      "Train Loss: 1.0353328108787536, Train_acc: 0.6675, Test Loss: 4.364528179168701, Test acc: 43.75\n",
      "Train Loss: 1.1847102880477904, Train_acc: 0.6425, Test Loss: 2.846013069152832, Test acc: 38.75\n",
      "Train Loss: 1.1570802330970764, Train_acc: 0.6708333333333333, Test Loss: 2.747130870819092, Test acc: 44.583333333333336\n",
      "Train Loss: 1.0207275390625, Train_acc: 0.6825, Test Loss: 3.7429146766662598, Test acc: 45.416666666666664\n",
      "Train Loss: 1.0592129051685333, Train_acc: 0.6733333333333333, Test Loss: 3.1304078102111816, Test acc: 42.083333333333336\n",
      "Train Loss: 1.1181860983371734, Train_acc: 0.6891666666666667, Test Loss: 2.994546890258789, Test acc: 45.416666666666664\n",
      "Train Loss: 1.0214020431041717, Train_acc: 0.695, Test Loss: 3.5155516862869263, Test acc: 42.916666666666664\n",
      "Train Loss: 0.9420313775539398, Train_acc: 0.695, Test Loss: 4.281010031700134, Test acc: 43.75\n",
      "Train Loss: 0.8987975597381592, Train_acc: 0.7066666666666667, Test Loss: 5.361014366149902, Test acc: 44.583333333333336\n",
      "Train Loss: 0.9742670238018036, Train_acc: 0.7058333333333333, Test Loss: 5.221025466918945, Test acc: 44.583333333333336\n"
     ]
    }
   ],
   "source": [
    "import sklearn\n",
    "from sklearn.model_selection import StratifiedKFold\n",
    "X_train_v, X_test, y_train_v, y_test = train_test_split(X, y, test_size=0.2, random_state=42, stratify=y)\n",
    "\n",
    "X_train_v = torch.as_tensor(X_train_v, dtype=torch.float) # an alternative to torch.from_numpy\n",
    "y_train_v = torch.as_tensor(y_train_v, dtype=torch.float)\n",
    "X_test = torch.as_tensor(X_test, dtype=torch.float)\n",
    "y_test = torch.as_tensor(y_test, dtype=torch.float)\n",
    "splits=StratifiedKFold(n_splits=5,shuffle=True,random_state=99)\n",
    "train_dataset = TensorDataset(X_train_v, y_train_v)\n",
    "test_dataset = TensorDataset(X_test, y_test)\n",
    "batch_size=128\n",
    "models = []\n",
    "history = {'fold':[], 'train_loss': [], 'test_loss': [],'train_acc':[],'test_acc':[]}\n",
    "\n",
    "device = torch.device(\"cuda:0\" if torch.cuda.is_available() else \"cpu\")\n",
    "for fold, (train_idx,val_idx) in enumerate(splits.split(X_train_v,y_train_v)):\n",
    "    print('Fold {}'.format(fold + 1))\n",
    "    t = pd.DataFrame(y_train_v[train_idx], columns = ['class']).reset_index()\n",
    "    idx = []\n",
    "    y_train = []\n",
    "    for i in range(0,num_labels):\n",
    "      idx += list(t[t['class']==i].sample(100,replace=True)['index'])\n",
    "      y_train += [i]*100\n",
    "    X_train = X_train_v[train_idx][idx]\n",
    "\n",
    "    t = pd.DataFrame(y_train_v[val_idx], columns = ['class']).reset_index()\n",
    "    idx = []\n",
    "    y_val = []\n",
    "    for i in range(0,num_labels):\n",
    "      # print(i)\n",
    "      if i in t['class'].values:\n",
    "          idx += list(t[t['class']==i].sample(20,replace=True)['index'])\n",
    "          y_val += [i]*20\n",
    "    X_val =  X_train_v[val_idx][idx]\n",
    "\n",
    "    X_train = torch.as_tensor(X_train, dtype=torch.float) # an alternative to torch.from_numpy\n",
    "    y_train = torch.as_tensor(y_train, dtype=torch.float).type(torch.LongTensor)\n",
    "    X_val = torch.as_tensor(X_val, dtype=torch.float)\n",
    "    y_val = torch.as_tensor(y_val, dtype=torch.float).type(torch.LongTensor)\n",
    "\n",
    "    train_dataset = TensorDataset(X_train, y_train)\n",
    "    test_dataset = TensorDataset(X_val, y_val)\n",
    "\n",
    "    from torch.utils.data import Dataset, DataLoader\n",
    "    train_dataloader = DataLoader(train_dataset, batch_size=128, shuffle=True)\n",
    "    test_dataloader = DataLoader(test_dataset, batch_size=128, shuffle=False)\n",
    "    \n",
    "    model = CNNModel(hiddenSize, numFilters, dropoutRate, activation).to('cuda')\n",
    "    criterion = nn.CrossEntropyLoss()\n",
    "    optimizer = torch.optim.SGD(list(model.parameters()), lr=learningRate, momentum=momentum)\n",
    "    # optimizer = torch.optim.Adam(list(model.parameters()), lr=learningRate)\n",
    "    best_test = -np.inf\n",
    "    best_model = None\n",
    "    \n",
    "    for epoch in range(numEpochs):\n",
    "        train_loss, train_R2=train_epoch(model,device,train_dataloader,criterion,optimizer)\n",
    "        test_loss, test_R2=valid_epoch(model,device,test_dataloader,criterion)\n",
    "        history['fold'].append(fold)\n",
    "        history['train_loss'].append(train_loss)\n",
    "        history['test_loss'].append(test_loss)\n",
    "        history['train_acc'].append(train_R2)\n",
    "        history['test_acc'].append(test_R2)   \n",
    "        if test_R2>best_test:\n",
    "            test_test = test_R2\n",
    "            best_model = model\n",
    "        print('Train Loss: {}, Train_acc: {}, Test Loss: {}, Test acc: {}'.format(train_loss, train_R2, test_loss, test_R2))\n",
    "    models.append([best_model])"
   ]
  },
  {
   "cell_type": "code",
   "execution_count": 75,
   "metadata": {
    "tags": []
   },
   "outputs": [],
   "source": [
    "X_train_v, X_test, y_train_v, y_test = train_test_split(X, y, test_size=0.2, random_state=42, stratify=y)\n",
    "t = pd.DataFrame(y_test, columns = ['class']).reset_index()\n",
    "idx = []\n",
    "y_test = []\n",
    "for i in range(0,11):\n",
    "    if i in t['class'].values:\n",
    "        idx += list(t[t['class']==i].sample(20,replace=True)['index'])\n",
    "        y_test += [i]*20\n",
    "X_test =  X_test[idx]\n",
    "X_test = torch.as_tensor(X_test, dtype=torch.float)\n",
    "y_test = torch.as_tensor(y_test, dtype=torch.float).type(torch.LongTensor)\n",
    "test_dataset = TensorDataset(X_test, y_test)\n",
    "test_dataloader = DataLoader(test_dataset, batch_size=128, shuffle=False)\n",
    "acc=[]\n",
    "for best_model in models:\n",
    "    acc.append(valid_epoch(best_model[0],device,test_dataloader,criterion)[1])"
   ]
  },
  {
   "cell_type": "code",
   "execution_count": 76,
   "metadata": {
    "tags": []
   },
   "outputs": [
    {
     "data": {
      "text/plain": [
       "44.27272727272727"
      ]
     },
     "execution_count": 76,
     "metadata": {},
     "output_type": "execute_result"
    }
   ],
   "source": [
    "np.mean(acc)"
   ]
  },
  {
   "cell_type": "code",
   "execution_count": 77,
   "metadata": {
    "tags": []
   },
   "outputs": [],
   "source": [
    "def test(models,device,dataloader,loss_fn):\n",
    "    outputs = []    \n",
    "    for model in models:\n",
    "      model[0].eval()\n",
    "      model_output = []\n",
    "      for inputs, labels in dataloader:\n",
    "          inputs = inputs.to('cuda').reshape(-1,512,128)\n",
    "          labels = labels.to('cuda')\n",
    "          cnnOutputs = model[0](inputs)\n",
    "          model_output.append(cnnOutputs)\n",
    "      outputs.append(torch.tensor(model_output))\n",
    "\n",
    "    # totalLoss = 0\n",
    "    # total = 0\n",
    "    # total1 = 0\n",
    "    # R2 = 0\n",
    "    # cnnLoss = 0\n",
    "    # cnnCorrect=0\n",
    "    # cnnLoss = criterion(cnnOutputs, labels)\n",
    "    # _, cnnPredicted = torch.max(cnnOutputs.data, 1)\n",
    "    # total += labels.size(0)\n",
    "    # total1 +=1\n",
    "    # totalLoss += cnnLoss.item()\n",
    "    # cnnCorrect += (cnnPredicted == labels).sum().item()"
   ]
  },
  {
   "cell_type": "code",
   "execution_count": 78,
   "metadata": {
    "tags": []
   },
   "outputs": [],
   "source": [
    "outputs = []    \n",
    "for model in models:\n",
    "  model[0].eval()\n",
    "  model_output = []\n",
    "  label_= []\n",
    "  model[0].to('cpu')\n",
    "  for inputs, labels in test_dataloader:\n",
    "      inputs = inputs.to('cpu').reshape(-1,1,512,128)\n",
    "      labels = labels.to('cpu')\n",
    "      cnnOutputs = model[0](inputs)\n",
    "      model_output.append(cnnOutputs)\n",
    "      label_.append(labels)\n",
    "  outputs.append(torch.vstack(model_output))"
   ]
  },
  {
   "cell_type": "code",
   "execution_count": 79,
   "metadata": {
    "tags": []
   },
   "outputs": [
    {
     "data": {
      "text/plain": [
       "torch.Size([220, 12])"
      ]
     },
     "execution_count": 79,
     "metadata": {},
     "output_type": "execute_result"
    }
   ],
   "source": [
    "shape = outputs[0].shape\n",
    "shape"
   ]
  },
  {
   "cell_type": "code",
   "execution_count": 80,
   "metadata": {
    "tags": []
   },
   "outputs": [],
   "source": [
    "cnnresult = torch.vstack(outputs).reshape(-1,shape[0],shape[1]).mean(axis=0)"
   ]
  },
  {
   "cell_type": "code",
   "execution_count": 81,
   "metadata": {
    "tags": []
   },
   "outputs": [],
   "source": [
    "labels = np.hstack(label_)\n",
    "_, cnnPredicted = torch.max(cnnresult.data, 1)\n",
    "cnnCorrect = (cnnPredicted.detach().numpy() == labels).sum().item()"
   ]
  },
  {
   "cell_type": "code",
   "execution_count": 82,
   "metadata": {
    "tags": []
   },
   "outputs": [
    {
     "data": {
      "text/plain": [
       "54.54545454545454"
      ]
     },
     "execution_count": 82,
     "metadata": {},
     "output_type": "execute_result"
    }
   ],
   "source": [
    "cnnCorrect/len(labels)*100"
   ]
  },
  {
   "cell_type": "code",
   "execution_count": 83,
   "metadata": {
    "tags": []
   },
   "outputs": [
    {
     "data": {
      "text/plain": [
       "<Axes: >"
      ]
     },
     "execution_count": 83,
     "metadata": {},
     "output_type": "execute_result"
    },
    {
     "data": {
      "image/png": "[encoded data removed]",
      "text/plain": [
       "<Figure size 640x480 with 2 Axes>"
      ]
     },
     "metadata": {},
     "output_type": "display_data"
    }
   ],
   "source": [
    "from sklearn.metrics import confusion_matrix\n",
    "confu_m = confusion_matrix(labels, cnnPredicted)\n",
    "import seaborn as sns\n",
    "sns.heatmap(confu_m,square=False)"
   ]
  },
  {
   "cell_type": "code",
   "execution_count": 84,
   "metadata": {
    "tags": []
   },
   "outputs": [
    {
     "data": {
      "text/plain": [
       "{'angry': 0,\n",
       " 'awe': 1,\n",
       " 'emotional': 2,\n",
       " 'excited': 3,\n",
       " 'fear': 4,\n",
       " 'happy': 5,\n",
       " 'hopeful': 6,\n",
       " 'hurt': 7,\n",
       " 'love': 8,\n",
       " 'negative': 9,\n",
       " 'positive': 10,\n",
       " 'sadness': 11}"
      ]
     },
     "execution_count": 84,
     "metadata": {},
     "output_type": "execute_result"
    }
   ],
   "source": [
    "label_dict = {}\n",
    "for cl in le.classes_:\n",
    "    label_dict.update({cl:le.transform([cl])[0]})\n",
    "label_dict"
   ]
  },
  {
   "cell_type": "code",
   "execution_count": 85,
   "metadata": {
    "tags": []
   },
   "outputs": [
    {
     "name": "stderr",
     "output_type": "stream",
     "text": [
      "/mnt/storage/CIIP_group/Postdoc/Aiqi_Sun/anaconda/lib/python3.11/site-packages/sklearn/metrics/_classification.py:1469: UndefinedMetricWarning: Precision and F-score are ill-defined and being set to 0.0 in labels with no predicted samples. Use `zero_division` parameter to control this behavior.\n",
      "  _warn_prf(average, modifier, msg_start, len(result))\n",
      "/mnt/storage/CIIP_group/Postdoc/Aiqi_Sun/anaconda/lib/python3.11/site-packages/sklearn/metrics/_classification.py:1469: UndefinedMetricWarning: Recall and F-score are ill-defined and being set to 0.0 in labels with no true samples. Use `zero_division` parameter to control this behavior.\n",
      "  _warn_prf(average, modifier, msg_start, len(result))\n"
     ]
    },
    {
     "data": {
      "text/html": [
       "<div>\n",
       "<style scoped>\n",
       "    .dataframe tbody tr th:only-of-type {\n",
       "        vertical-align: middle;\n",
       "    }\n",
       "\n",
       "    .dataframe tbody tr th {\n",
       "        vertical-align: top;\n",
       "    }\n",
       "\n",
       "    .dataframe thead th {\n",
       "        text-align: right;\n",
       "    }\n",
       "</style>\n",
       "<table border=\"1\" class=\"dataframe\">\n",
       "  <thead>\n",
       "    <tr style=\"text-align: right;\">\n",
       "      <th></th>\n",
       "      <th>angry</th>\n",
       "      <th>awe</th>\n",
       "      <th>emotional</th>\n",
       "      <th>excited</th>\n",
       "      <th>fear</th>\n",
       "      <th>happy</th>\n",
       "      <th>hopeful</th>\n",
       "      <th>hurt</th>\n",
       "      <th>love</th>\n",
       "      <th>negative</th>\n",
       "      <th>positive</th>\n",
       "      <th>sadness</th>\n",
       "    </tr>\n",
       "  </thead>\n",
       "  <tbody>\n",
       "    <tr>\n",
       "      <th>precision</th>\n",
       "      <td>0.550000</td>\n",
       "      <td>1.0</td>\n",
       "      <td>0.750000</td>\n",
       "      <td>0.650000</td>\n",
       "      <td>1.000000</td>\n",
       "      <td>0.600000</td>\n",
       "      <td>0.45000</td>\n",
       "      <td>0.0</td>\n",
       "      <td>0.350000</td>\n",
       "      <td>0.200000</td>\n",
       "      <td>0.45</td>\n",
       "      <td>0.0</td>\n",
       "    </tr>\n",
       "    <tr>\n",
       "      <th>recall</th>\n",
       "      <td>0.846154</td>\n",
       "      <td>1.0</td>\n",
       "      <td>0.600000</td>\n",
       "      <td>1.000000</td>\n",
       "      <td>0.377358</td>\n",
       "      <td>0.333333</td>\n",
       "      <td>1.00000</td>\n",
       "      <td>0.0</td>\n",
       "      <td>0.368421</td>\n",
       "      <td>0.333333</td>\n",
       "      <td>0.90</td>\n",
       "      <td>0.0</td>\n",
       "    </tr>\n",
       "    <tr>\n",
       "      <th>f1</th>\n",
       "      <td>0.666667</td>\n",
       "      <td>1.0</td>\n",
       "      <td>0.666667</td>\n",
       "      <td>0.787879</td>\n",
       "      <td>0.547945</td>\n",
       "      <td>0.428571</td>\n",
       "      <td>0.62069</td>\n",
       "      <td>0.0</td>\n",
       "      <td>0.358974</td>\n",
       "      <td>0.250000</td>\n",
       "      <td>0.60</td>\n",
       "      <td>0.0</td>\n",
       "    </tr>\n",
       "    <tr>\n",
       "      <th>support</th>\n",
       "      <td>13.000000</td>\n",
       "      <td>20.0</td>\n",
       "      <td>25.000000</td>\n",
       "      <td>13.000000</td>\n",
       "      <td>53.000000</td>\n",
       "      <td>36.000000</td>\n",
       "      <td>9.00000</td>\n",
       "      <td>0.0</td>\n",
       "      <td>19.000000</td>\n",
       "      <td>12.000000</td>\n",
       "      <td>10.00</td>\n",
       "      <td>10.0</td>\n",
       "    </tr>\n",
       "  </tbody>\n",
       "</table>\n",
       "</div>"
      ],
      "text/plain": [
       "               angry   awe  emotional    excited       fear      happy  \\\n",
       "precision   0.550000   1.0   0.750000   0.650000   1.000000   0.600000   \n",
       "recall      0.846154   1.0   0.600000   1.000000   0.377358   0.333333   \n",
       "f1          0.666667   1.0   0.666667   0.787879   0.547945   0.428571   \n",
       "support    13.000000  20.0  25.000000  13.000000  53.000000  36.000000   \n",
       "\n",
       "           hopeful  hurt       love   negative  positive  sadness  \n",
       "precision  0.45000   0.0   0.350000   0.200000      0.45      0.0  \n",
       "recall     1.00000   0.0   0.368421   0.333333      0.90      0.0  \n",
       "f1         0.62069   0.0   0.358974   0.250000      0.60      0.0  \n",
       "support    9.00000   0.0  19.000000  12.000000     10.00     10.0  "
      ]
     },
     "execution_count": 85,
     "metadata": {},
     "output_type": "execute_result"
    }
   ],
   "source": [
    "from sklearn.metrics import precision_recall_fscore_support\n",
    "scores = pd.DataFrame(precision_recall_fscore_support(cnnPredicted, labels, labels = list(range(12))),index=['precision','recall','f1','support'], columns = list(label_dict)[:12])\n",
    "scores"
   ]
  },
  {
   "cell_type": "code",
   "execution_count": 86,
   "metadata": {
    "tags": []
   },
   "outputs": [],
   "source": [
    "import pickle\n",
    "file = open('midi_test_data','rb')\n",
    "music_data = pickle.load(file)\n",
    "file.close()"
   ]
  },
  {
   "cell_type": "code",
   "execution_count": 87,
   "metadata": {
    "tags": []
   },
   "outputs": [],
   "source": [
    "X_test_1 = []\n",
    "name = []\n",
    "for m in music_data:\n",
    "    if m[0].shape[0]>=612:\n",
    "        X_test_1.append(m[0][100:612,:])\n",
    "        name.append(m[1])\n",
    "X_test_1 = np.array(X_test_1)"
   ]
  },
  {
   "cell_type": "code",
   "execution_count": 88,
   "metadata": {
    "tags": []
   },
   "outputs": [
    {
     "data": {
      "text/plain": [
       "(11, 512, 128)"
      ]
     },
     "execution_count": 88,
     "metadata": {},
     "output_type": "execute_result"
    }
   ],
   "source": [
    "X_test_1.shape"
   ]
  },
  {
   "cell_type": "code",
   "execution_count": 89,
   "metadata": {
    "tags": []
   },
   "outputs": [],
   "source": [
    "y_test_1 = models[0][0](torch.as_tensor(X_test_1.reshape(-1,1,512,128), dtype=torch.float))"
   ]
  },
  {
   "cell_type": "code",
   "execution_count": null,
   "metadata": {
    "tags": []
   },
   "outputs": [],
   "source": []
  },
  {
   "cell_type": "code",
   "execution_count": 90,
   "metadata": {
    "tags": []
   },
   "outputs": [
    {
     "name": "stdout",
     "output_type": "stream",
     "text": [
      "Across_The_Stars(StarWar_II_Love_Theme) angry happy fear\n",
      "PAL1_theme-仙剑1 sadness fear excited\n",
      "上海滩 sadness angry happy\n",
      "月光奏鸣曲 angry happy awe\n",
      "枉凝眉 angry awe happy\n",
      "水调歌头·明月几时有 sadness fear love\n",
      "沧海一声笑 sadness angry positive\n",
      "笑傲江湖 sadness excited angry\n",
      "铁血丹心 sadness angry excited\n",
      "难念的经-天龙八部 sadness awe excited\n",
      "青花瓷 sadness angry happy\n"
     ]
    }
   ],
   "source": [
    "label = torch.argsort(-y_test_1).to('cpu').numpy()\n",
    "for i in range(len(label)):\n",
    "    print(name[i],le.classes_[label[i][0]], le.classes_[label[i][1]], le.classes_[label[i][2]])"
   ]
  },
  {
   "cell_type": "code",
   "execution_count": null,
   "metadata": {
    "tags": []
   },
   "outputs": [
    {
     "data": {
      "text/plain": [
       "3"
      ]
     },
     "execution_count": 128,
     "metadata": {},
     "output_type": "execute_result"
    }
   ],
   "source": [
    "l"
   ]
  },
  {
   "cell_type": "code",
   "execution_count": 74,
   "metadata": {
    "colab": {
     "base_uri": "https://localhost:8080/"
    },
    "id": "WzuA94i88EpO",
    "outputId": "39fb0326-c3dd-42d7-b1ea-7c5f690b9541",
    "tags": []
   },
   "outputs": [
    {
     "ename": "NameError",
     "evalue": "name 'cnn' is not defined",
     "output_type": "error",
     "traceback": [
      "\u001b[0;31m---------------------------------------------------------------------------\u001b[0m",
      "\u001b[0;31mNameError\u001b[0m                                 Traceback (most recent call last)",
      "Cell \u001b[0;32mIn[74], line 1\u001b[0m\n\u001b[0;32m----> 1\u001b[0m cnn\u001b[38;5;241m.\u001b[39meval()\n\u001b[1;32m      2\u001b[0m cnnCorrect \u001b[38;5;241m=\u001b[39m \u001b[38;5;241m0\u001b[39m\n\u001b[1;32m      3\u001b[0m total \u001b[38;5;241m=\u001b[39m \u001b[38;5;241m0\u001b[39m\n",
      "\u001b[0;31mNameError\u001b[0m: name 'cnn' is not defined"
     ]
    }
   ],
   "source": [
    "cnn.eval()\n",
    "cnnCorrect = 0\n",
    "total = 0\n",
    "for inputs, labels in test_dataloader:\n",
    "    inputs = inputs.to('cuda').reshape(-1,1,512,128)\n",
    "    labels = labels.to('cuda')\n",
    "    cnnOutputs = cnn(inputs)\n",
    "    _, cnnPredicted = torch.max(cnnOutputs.data, 1)\n",
    "    total += labels.size(0)\n",
    "    cnnCorrect += np.sum([labels[i] in torch.argsort(cnnOutputs)[:, -4:][i] for i in range(len(labels))])\n",
    "print('CNN validation accuracy: {}%'.format(cnnCorrect / total * 100))"
   ]
  },
  {
   "cell_type": "code",
   "execution_count": 77,
   "metadata": {
    "colab": {
     "base_uri": "https://localhost:8080/"
    },
    "id": "dRRi_Ai2_jU7",
    "outputId": "d22defa3-b353-4960-b27e-ed65f1af9d9e",
    "tags": []
   },
   "outputs": [
    {
     "ename": "OutOfMemoryError",
     "evalue": "CUDA out of memory. Tried to allocate 588.00 MiB (GPU 0; 31.74 GiB total capacity; 28.79 GiB already allocated; 464.31 MiB free; 30.88 GiB reserved in total by PyTorch) If reserved memory is >> allocated memory try setting max_split_size_mb to avoid fragmentation.  See documentation for Memory Management and PYTORCH_CUDA_ALLOC_CONF",
     "output_type": "error",
     "traceback": [
      "\u001b[0;31m---------------------------------------------------------------------------\u001b[0m",
      "\u001b[0;31mOutOfMemoryError\u001b[0m                          Traceback (most recent call last)",
      "Cell \u001b[0;32mIn[77], line 13\u001b[0m\n\u001b[1;32m     11\u001b[0m inputs \u001b[38;5;241m=\u001b[39m inputs\u001b[38;5;241m.\u001b[39mto(\u001b[38;5;124m'\u001b[39m\u001b[38;5;124mcuda\u001b[39m\u001b[38;5;124m'\u001b[39m)\u001b[38;5;241m.\u001b[39mreshape(\u001b[38;5;241m-\u001b[39m\u001b[38;5;241m1\u001b[39m,\u001b[38;5;241m1\u001b[39m,\u001b[38;5;241m512\u001b[39m,\u001b[38;5;241m128\u001b[39m)\n\u001b[1;32m     12\u001b[0m labels \u001b[38;5;241m=\u001b[39m labels\u001b[38;5;241m.\u001b[39mto(\u001b[38;5;124m'\u001b[39m\u001b[38;5;124mcuda\u001b[39m\u001b[38;5;124m'\u001b[39m)\n\u001b[0;32m---> 13\u001b[0m cnnOutputs \u001b[38;5;241m=\u001b[39m best_model[\u001b[38;5;241m0\u001b[39m](inputs)\n\u001b[1;32m     14\u001b[0m _, cnnPredicted \u001b[38;5;241m=\u001b[39m torch\u001b[38;5;241m.\u001b[39mmax(cnnOutputs\u001b[38;5;241m.\u001b[39mdata, \u001b[38;5;241m1\u001b[39m)\n\u001b[1;32m     15\u001b[0m total \u001b[38;5;241m+\u001b[39m\u001b[38;5;241m=\u001b[39m labels\u001b[38;5;241m.\u001b[39msize(\u001b[38;5;241m0\u001b[39m)\n",
      "File \u001b[0;32m/mnt/storage/CIIP_group/Postdoc/Aiqi_Sun/anaconda/lib/python3.11/site-packages/torch/nn/modules/module.py:1501\u001b[0m, in \u001b[0;36mModule._call_impl\u001b[0;34m(self, *args, **kwargs)\u001b[0m\n\u001b[1;32m   1496\u001b[0m \u001b[38;5;66;03m# If we don't have any hooks, we want to skip the rest of the logic in\u001b[39;00m\n\u001b[1;32m   1497\u001b[0m \u001b[38;5;66;03m# this function, and just call forward.\u001b[39;00m\n\u001b[1;32m   1498\u001b[0m \u001b[38;5;28;01mif\u001b[39;00m \u001b[38;5;129;01mnot\u001b[39;00m (\u001b[38;5;28mself\u001b[39m\u001b[38;5;241m.\u001b[39m_backward_hooks \u001b[38;5;129;01mor\u001b[39;00m \u001b[38;5;28mself\u001b[39m\u001b[38;5;241m.\u001b[39m_backward_pre_hooks \u001b[38;5;129;01mor\u001b[39;00m \u001b[38;5;28mself\u001b[39m\u001b[38;5;241m.\u001b[39m_forward_hooks \u001b[38;5;129;01mor\u001b[39;00m \u001b[38;5;28mself\u001b[39m\u001b[38;5;241m.\u001b[39m_forward_pre_hooks\n\u001b[1;32m   1499\u001b[0m         \u001b[38;5;129;01mor\u001b[39;00m _global_backward_pre_hooks \u001b[38;5;129;01mor\u001b[39;00m _global_backward_hooks\n\u001b[1;32m   1500\u001b[0m         \u001b[38;5;129;01mor\u001b[39;00m _global_forward_hooks \u001b[38;5;129;01mor\u001b[39;00m _global_forward_pre_hooks):\n\u001b[0;32m-> 1501\u001b[0m     \u001b[38;5;28;01mreturn\u001b[39;00m forward_call(\u001b[38;5;241m*\u001b[39margs, \u001b[38;5;241m*\u001b[39m\u001b[38;5;241m*\u001b[39mkwargs)\n\u001b[1;32m   1502\u001b[0m \u001b[38;5;66;03m# Do not call functions when jit is used\u001b[39;00m\n\u001b[1;32m   1503\u001b[0m full_backward_hooks, non_full_backward_hooks \u001b[38;5;241m=\u001b[39m [], []\n",
      "Cell \u001b[0;32mIn[7], line 21\u001b[0m, in \u001b[0;36mCNNModel.forward\u001b[0;34m(self, x)\u001b[0m\n\u001b[1;32m     19\u001b[0m x \u001b[38;5;241m=\u001b[39m \u001b[38;5;28mself\u001b[39m\u001b[38;5;241m.\u001b[39mpool(\u001b[38;5;28mself\u001b[39m\u001b[38;5;241m.\u001b[39mactivate(\u001b[38;5;28mself\u001b[39m\u001b[38;5;241m.\u001b[39mconv2(x)))\n\u001b[1;32m     20\u001b[0m \u001b[38;5;66;03m# print(x.shape)\u001b[39;00m\n\u001b[0;32m---> 21\u001b[0m x \u001b[38;5;241m=\u001b[39m \u001b[38;5;28mself\u001b[39m\u001b[38;5;241m.\u001b[39mdropout(\u001b[38;5;28mself\u001b[39m\u001b[38;5;241m.\u001b[39mpool(\u001b[38;5;28mself\u001b[39m\u001b[38;5;241m.\u001b[39mactivate(\u001b[38;5;28mself\u001b[39m\u001b[38;5;241m.\u001b[39mconv3(x))))\n\u001b[1;32m     22\u001b[0m x \u001b[38;5;241m=\u001b[39m \u001b[38;5;28mself\u001b[39m\u001b[38;5;241m.\u001b[39mpool(\u001b[38;5;28mself\u001b[39m\u001b[38;5;241m.\u001b[39mactivate(\u001b[38;5;28mself\u001b[39m\u001b[38;5;241m.\u001b[39mconv4(x)))\n\u001b[1;32m     23\u001b[0m x \u001b[38;5;241m=\u001b[39m \u001b[38;5;28mself\u001b[39m\u001b[38;5;241m.\u001b[39mpool(\u001b[38;5;28mself\u001b[39m\u001b[38;5;241m.\u001b[39mactivate(\u001b[38;5;28mself\u001b[39m\u001b[38;5;241m.\u001b[39mconv5(x)))\n",
      "File \u001b[0;32m/mnt/storage/CIIP_group/Postdoc/Aiqi_Sun/anaconda/lib/python3.11/site-packages/torch/nn/modules/module.py:1501\u001b[0m, in \u001b[0;36mModule._call_impl\u001b[0;34m(self, *args, **kwargs)\u001b[0m\n\u001b[1;32m   1496\u001b[0m \u001b[38;5;66;03m# If we don't have any hooks, we want to skip the rest of the logic in\u001b[39;00m\n\u001b[1;32m   1497\u001b[0m \u001b[38;5;66;03m# this function, and just call forward.\u001b[39;00m\n\u001b[1;32m   1498\u001b[0m \u001b[38;5;28;01mif\u001b[39;00m \u001b[38;5;129;01mnot\u001b[39;00m (\u001b[38;5;28mself\u001b[39m\u001b[38;5;241m.\u001b[39m_backward_hooks \u001b[38;5;129;01mor\u001b[39;00m \u001b[38;5;28mself\u001b[39m\u001b[38;5;241m.\u001b[39m_backward_pre_hooks \u001b[38;5;129;01mor\u001b[39;00m \u001b[38;5;28mself\u001b[39m\u001b[38;5;241m.\u001b[39m_forward_hooks \u001b[38;5;129;01mor\u001b[39;00m \u001b[38;5;28mself\u001b[39m\u001b[38;5;241m.\u001b[39m_forward_pre_hooks\n\u001b[1;32m   1499\u001b[0m         \u001b[38;5;129;01mor\u001b[39;00m _global_backward_pre_hooks \u001b[38;5;129;01mor\u001b[39;00m _global_backward_hooks\n\u001b[1;32m   1500\u001b[0m         \u001b[38;5;129;01mor\u001b[39;00m _global_forward_hooks \u001b[38;5;129;01mor\u001b[39;00m _global_forward_pre_hooks):\n\u001b[0;32m-> 1501\u001b[0m     \u001b[38;5;28;01mreturn\u001b[39;00m forward_call(\u001b[38;5;241m*\u001b[39margs, \u001b[38;5;241m*\u001b[39m\u001b[38;5;241m*\u001b[39mkwargs)\n\u001b[1;32m   1502\u001b[0m \u001b[38;5;66;03m# Do not call functions when jit is used\u001b[39;00m\n\u001b[1;32m   1503\u001b[0m full_backward_hooks, non_full_backward_hooks \u001b[38;5;241m=\u001b[39m [], []\n",
      "File \u001b[0;32m/mnt/storage/CIIP_group/Postdoc/Aiqi_Sun/anaconda/lib/python3.11/site-packages/torch/nn/modules/conv.py:463\u001b[0m, in \u001b[0;36mConv2d.forward\u001b[0;34m(self, input)\u001b[0m\n\u001b[1;32m    462\u001b[0m \u001b[38;5;28;01mdef\u001b[39;00m \u001b[38;5;21mforward\u001b[39m(\u001b[38;5;28mself\u001b[39m, \u001b[38;5;28minput\u001b[39m: Tensor) \u001b[38;5;241m-\u001b[39m\u001b[38;5;241m>\u001b[39m Tensor:\n\u001b[0;32m--> 463\u001b[0m     \u001b[38;5;28;01mreturn\u001b[39;00m \u001b[38;5;28mself\u001b[39m\u001b[38;5;241m.\u001b[39m_conv_forward(\u001b[38;5;28minput\u001b[39m, \u001b[38;5;28mself\u001b[39m\u001b[38;5;241m.\u001b[39mweight, \u001b[38;5;28mself\u001b[39m\u001b[38;5;241m.\u001b[39mbias)\n",
      "File \u001b[0;32m/mnt/storage/CIIP_group/Postdoc/Aiqi_Sun/anaconda/lib/python3.11/site-packages/torch/nn/modules/conv.py:459\u001b[0m, in \u001b[0;36mConv2d._conv_forward\u001b[0;34m(self, input, weight, bias)\u001b[0m\n\u001b[1;32m    455\u001b[0m \u001b[38;5;28;01mif\u001b[39;00m \u001b[38;5;28mself\u001b[39m\u001b[38;5;241m.\u001b[39mpadding_mode \u001b[38;5;241m!=\u001b[39m \u001b[38;5;124m'\u001b[39m\u001b[38;5;124mzeros\u001b[39m\u001b[38;5;124m'\u001b[39m:\n\u001b[1;32m    456\u001b[0m     \u001b[38;5;28;01mreturn\u001b[39;00m F\u001b[38;5;241m.\u001b[39mconv2d(F\u001b[38;5;241m.\u001b[39mpad(\u001b[38;5;28minput\u001b[39m, \u001b[38;5;28mself\u001b[39m\u001b[38;5;241m.\u001b[39m_reversed_padding_repeated_twice, mode\u001b[38;5;241m=\u001b[39m\u001b[38;5;28mself\u001b[39m\u001b[38;5;241m.\u001b[39mpadding_mode),\n\u001b[1;32m    457\u001b[0m                     weight, bias, \u001b[38;5;28mself\u001b[39m\u001b[38;5;241m.\u001b[39mstride,\n\u001b[1;32m    458\u001b[0m                     _pair(\u001b[38;5;241m0\u001b[39m), \u001b[38;5;28mself\u001b[39m\u001b[38;5;241m.\u001b[39mdilation, \u001b[38;5;28mself\u001b[39m\u001b[38;5;241m.\u001b[39mgroups)\n\u001b[0;32m--> 459\u001b[0m \u001b[38;5;28;01mreturn\u001b[39;00m F\u001b[38;5;241m.\u001b[39mconv2d(\u001b[38;5;28minput\u001b[39m, weight, bias, \u001b[38;5;28mself\u001b[39m\u001b[38;5;241m.\u001b[39mstride,\n\u001b[1;32m    460\u001b[0m                 \u001b[38;5;28mself\u001b[39m\u001b[38;5;241m.\u001b[39mpadding, \u001b[38;5;28mself\u001b[39m\u001b[38;5;241m.\u001b[39mdilation, \u001b[38;5;28mself\u001b[39m\u001b[38;5;241m.\u001b[39mgroups)\n",
      "\u001b[0;31mOutOfMemoryError\u001b[0m: CUDA out of memory. Tried to allocate 588.00 MiB (GPU 0; 31.74 GiB total capacity; 28.79 GiB already allocated; 464.31 MiB free; 30.88 GiB reserved in total by PyTorch) If reserved memory is >> allocated memory try setting max_split_size_mb to avoid fragmentation.  See documentation for Memory Management and PYTORCH_CUDA_ALLOC_CONF"
     ]
    },
    {
     "data": {
      "image/png": "[encoded data removed]",
      "text/plain": [
       "<Figure size 2000x400 with 5 Axes>"
      ]
     },
     "metadata": {},
     "output_type": "display_data"
    }
   ],
   "source": [
    "scores = []\n",
    "f,axes = plt.subplots(1,5, figsize=(20,4))\n",
    "for i, best_model in enumerate(models):\n",
    "    best_model[0].eval()\n",
    "    best_model[0].to('cuda')\n",
    "    cnnCorrect = 0\n",
    "    total = 0\n",
    "    pred = []\n",
    "    t_label = []\n",
    "    for inputs, labels in test_dataloader:\n",
    "        inputs = inputs.to('cuda').reshape(-1,1,512,128)\n",
    "        labels = labels.to('cuda')\n",
    "        cnnOutputs = best_model[0](inputs)\n",
    "        _, cnnPredicted = torch.max(cnnOutputs.data, 1)\n",
    "        total += labels.size(0)\n",
    "        t_label += labels.tolist()\n",
    "        pred += cnnOutputs.tolist()\n",
    "        cnnCorrect += np.sum([labels[i] in torch.argsort(cnnOutputs)[:, -3:][i] for i in range(len(labels))])\n",
    "    from sklearn.metrics import confusion_matrix\n",
    "    pred = np.argmax(pred, axis=1)\n",
    "    confu_m = confusion_matrix(t_label, pred)\n",
    "    import seaborn as sns\n",
    "    sns.heatmap(confu_m,square=False, ax=axes[i])\n",
    "    from sklearn.metrics import precision_recall_fscore_support\n",
    "    scores.append([pd.DataFrame(precision_recall_fscore_support(pred, t_label, labels = list(range(12))),index=['precision','recall','f1','support'], columns = list(label_dict)[:12])])\n",
    "    # scores"
   ]
  },
  {
   "cell_type": "code",
   "execution_count": 58,
   "metadata": {
    "tags": []
   },
   "outputs": [
    {
     "data": {
      "text/html": [
       "<div>\n",
       "<style scoped>\n",
       "    .dataframe tbody tr th:only-of-type {\n",
       "        vertical-align: middle;\n",
       "    }\n",
       "\n",
       "    .dataframe tbody tr th {\n",
       "        vertical-align: top;\n",
       "    }\n",
       "\n",
       "    .dataframe thead th {\n",
       "        text-align: right;\n",
       "    }\n",
       "</style>\n",
       "<table border=\"1\" class=\"dataframe\">\n",
       "  <thead>\n",
       "    <tr style=\"text-align: right;\">\n",
       "      <th></th>\n",
       "      <th>angry</th>\n",
       "      <th>awe</th>\n",
       "      <th>emotional</th>\n",
       "      <th>excited</th>\n",
       "      <th>fear</th>\n",
       "      <th>happy</th>\n",
       "      <th>hopeful</th>\n",
       "      <th>hurt</th>\n",
       "      <th>love</th>\n",
       "      <th>negative</th>\n",
       "      <th>positive</th>\n",
       "      <th>sadness</th>\n",
       "    </tr>\n",
       "  </thead>\n",
       "  <tbody>\n",
       "    <tr>\n",
       "      <th>precision</th>\n",
       "      <td>0.500000</td>\n",
       "      <td>0.0</td>\n",
       "      <td>0.250000</td>\n",
       "      <td>1.000000</td>\n",
       "      <td>0.200000</td>\n",
       "      <td>0.400000</td>\n",
       "      <td>0.0</td>\n",
       "      <td>0.0</td>\n",
       "      <td>0.200000</td>\n",
       "      <td>0.500000</td>\n",
       "      <td>0.45000</td>\n",
       "      <td>0.650000</td>\n",
       "    </tr>\n",
       "    <tr>\n",
       "      <th>recall</th>\n",
       "      <td>0.833333</td>\n",
       "      <td>0.0</td>\n",
       "      <td>0.833333</td>\n",
       "      <td>0.277778</td>\n",
       "      <td>1.000000</td>\n",
       "      <td>0.115942</td>\n",
       "      <td>0.0</td>\n",
       "      <td>0.0</td>\n",
       "      <td>0.400000</td>\n",
       "      <td>0.454545</td>\n",
       "      <td>1.00000</td>\n",
       "      <td>0.361111</td>\n",
       "    </tr>\n",
       "    <tr>\n",
       "      <th>f1</th>\n",
       "      <td>0.625000</td>\n",
       "      <td>0.0</td>\n",
       "      <td>0.384615</td>\n",
       "      <td>0.434783</td>\n",
       "      <td>0.333333</td>\n",
       "      <td>0.179775</td>\n",
       "      <td>0.0</td>\n",
       "      <td>0.0</td>\n",
       "      <td>0.266667</td>\n",
       "      <td>0.476190</td>\n",
       "      <td>0.62069</td>\n",
       "      <td>0.464286</td>\n",
       "    </tr>\n",
       "    <tr>\n",
       "      <th>support</th>\n",
       "      <td>12.000000</td>\n",
       "      <td>0.0</td>\n",
       "      <td>6.000000</td>\n",
       "      <td>72.000000</td>\n",
       "      <td>4.000000</td>\n",
       "      <td>69.000000</td>\n",
       "      <td>0.0</td>\n",
       "      <td>0.0</td>\n",
       "      <td>10.000000</td>\n",
       "      <td>22.000000</td>\n",
       "      <td>9.00000</td>\n",
       "      <td>36.000000</td>\n",
       "    </tr>\n",
       "  </tbody>\n",
       "</table>\n",
       "</div>"
      ],
      "text/plain": [
       "               angry  awe  emotional    excited      fear      happy  hopeful  \\\n",
       "precision   0.500000  0.0   0.250000   1.000000  0.200000   0.400000      0.0   \n",
       "recall      0.833333  0.0   0.833333   0.277778  1.000000   0.115942      0.0   \n",
       "f1          0.625000  0.0   0.384615   0.434783  0.333333   0.179775      0.0   \n",
       "support    12.000000  0.0   6.000000  72.000000  4.000000  69.000000      0.0   \n",
       "\n",
       "           hurt       love   negative  positive    sadness  \n",
       "precision   0.0   0.200000   0.500000   0.45000   0.650000  \n",
       "recall      0.0   0.400000   0.454545   1.00000   0.361111  \n",
       "f1          0.0   0.266667   0.476190   0.62069   0.464286  \n",
       "support     0.0  10.000000  22.000000   9.00000  36.000000  "
      ]
     },
     "execution_count": 58,
     "metadata": {},
     "output_type": "execute_result"
    }
   ],
   "source": [
    "scores[0][0]"
   ]
  },
  {
   "cell_type": "code",
   "execution_count": 46,
   "metadata": {
    "colab": {
     "base_uri": "https://localhost:8080/",
     "height": 452
    },
    "id": "z3xGBJynBQ-x",
    "outputId": "7a5e350b-f83e-449c-9d10-ab38a7621f49",
    "tags": []
   },
   "outputs": [
    {
     "ename": "AxisError",
     "evalue": "axis 1 is out of bounds for array of dimension 1",
     "output_type": "error",
     "traceback": [
      "\u001b[0;31m---------------------------------------------------------------------------\u001b[0m",
      "\u001b[0;31mAxisError\u001b[0m                                 Traceback (most recent call last)",
      "Cell \u001b[0;32mIn[46], line 2\u001b[0m\n\u001b[1;32m      1\u001b[0m \u001b[38;5;28;01mfrom\u001b[39;00m \u001b[38;5;21;01msklearn\u001b[39;00m\u001b[38;5;21;01m.\u001b[39;00m\u001b[38;5;21;01mmetrics\u001b[39;00m \u001b[38;5;28;01mimport\u001b[39;00m confusion_matrix\n\u001b[0;32m----> 2\u001b[0m pred \u001b[38;5;241m=\u001b[39m np\u001b[38;5;241m.\u001b[39margmax(pred, axis\u001b[38;5;241m=\u001b[39m\u001b[38;5;241m1\u001b[39m)\n\u001b[1;32m      3\u001b[0m confu_m \u001b[38;5;241m=\u001b[39m confusion_matrix(t_label, pred)\n\u001b[1;32m      4\u001b[0m \u001b[38;5;28;01mimport\u001b[39;00m \u001b[38;5;21;01mseaborn\u001b[39;00m \u001b[38;5;28;01mas\u001b[39;00m \u001b[38;5;21;01msns\u001b[39;00m\n",
      "File \u001b[0;32m<__array_function__ internals>:200\u001b[0m, in \u001b[0;36margmax\u001b[0;34m(*args, **kwargs)\u001b[0m\n",
      "File \u001b[0;32m/mnt/storage/CIIP_group/Postdoc/Aiqi_Sun/anaconda/lib/python3.11/site-packages/numpy/core/fromnumeric.py:1242\u001b[0m, in \u001b[0;36margmax\u001b[0;34m(a, axis, out, keepdims)\u001b[0m\n\u001b[1;32m   1155\u001b[0m \u001b[38;5;250m\u001b[39m\u001b[38;5;124;03m\"\"\"\u001b[39;00m\n\u001b[1;32m   1156\u001b[0m \u001b[38;5;124;03mReturns the indices of the maximum values along an axis.\u001b[39;00m\n\u001b[1;32m   1157\u001b[0m \n\u001b[0;32m   (...)\u001b[0m\n\u001b[1;32m   1239\u001b[0m \u001b[38;5;124;03m(2, 1, 4)\u001b[39;00m\n\u001b[1;32m   1240\u001b[0m \u001b[38;5;124;03m\"\"\"\u001b[39;00m\n\u001b[1;32m   1241\u001b[0m kwds \u001b[38;5;241m=\u001b[39m {\u001b[38;5;124m'\u001b[39m\u001b[38;5;124mkeepdims\u001b[39m\u001b[38;5;124m'\u001b[39m: keepdims} \u001b[38;5;28;01mif\u001b[39;00m keepdims \u001b[38;5;129;01mis\u001b[39;00m \u001b[38;5;129;01mnot\u001b[39;00m np\u001b[38;5;241m.\u001b[39m_NoValue \u001b[38;5;28;01melse\u001b[39;00m {}\n\u001b[0;32m-> 1242\u001b[0m \u001b[38;5;28;01mreturn\u001b[39;00m _wrapfunc(a, \u001b[38;5;124m'\u001b[39m\u001b[38;5;124margmax\u001b[39m\u001b[38;5;124m'\u001b[39m, axis\u001b[38;5;241m=\u001b[39maxis, out\u001b[38;5;241m=\u001b[39mout, \u001b[38;5;241m*\u001b[39m\u001b[38;5;241m*\u001b[39mkwds)\n",
      "File \u001b[0;32m/mnt/storage/CIIP_group/Postdoc/Aiqi_Sun/anaconda/lib/python3.11/site-packages/numpy/core/fromnumeric.py:57\u001b[0m, in \u001b[0;36m_wrapfunc\u001b[0;34m(obj, method, *args, **kwds)\u001b[0m\n\u001b[1;32m     54\u001b[0m     \u001b[38;5;28;01mreturn\u001b[39;00m _wrapit(obj, method, \u001b[38;5;241m*\u001b[39margs, \u001b[38;5;241m*\u001b[39m\u001b[38;5;241m*\u001b[39mkwds)\n\u001b[1;32m     56\u001b[0m \u001b[38;5;28;01mtry\u001b[39;00m:\n\u001b[0;32m---> 57\u001b[0m     \u001b[38;5;28;01mreturn\u001b[39;00m bound(\u001b[38;5;241m*\u001b[39margs, \u001b[38;5;241m*\u001b[39m\u001b[38;5;241m*\u001b[39mkwds)\n\u001b[1;32m     58\u001b[0m \u001b[38;5;28;01mexcept\u001b[39;00m \u001b[38;5;167;01mTypeError\u001b[39;00m:\n\u001b[1;32m     59\u001b[0m     \u001b[38;5;66;03m# A TypeError occurs if the object does have such a method in its\u001b[39;00m\n\u001b[1;32m     60\u001b[0m     \u001b[38;5;66;03m# class, but its signature is not identical to that of NumPy's. This\u001b[39;00m\n\u001b[0;32m   (...)\u001b[0m\n\u001b[1;32m     64\u001b[0m     \u001b[38;5;66;03m# Call _wrapit from within the except clause to ensure a potential\u001b[39;00m\n\u001b[1;32m     65\u001b[0m     \u001b[38;5;66;03m# exception has a traceback chain.\u001b[39;00m\n\u001b[1;32m     66\u001b[0m     \u001b[38;5;28;01mreturn\u001b[39;00m _wrapit(obj, method, \u001b[38;5;241m*\u001b[39margs, \u001b[38;5;241m*\u001b[39m\u001b[38;5;241m*\u001b[39mkwds)\n",
      "\u001b[0;31mAxisError\u001b[0m: axis 1 is out of bounds for array of dimension 1"
     ]
    }
   ],
   "source": [
    "from sklearn.metrics import confusion_matrix\n",
    "pred = np.argmax(pred, axis=1)\n",
    "confu_m = confusion_matrix(t_label, pred)\n",
    "import seaborn as sns\n",
    "sns.heatmap(confu_m,square=False)"
   ]
  },
  {
   "cell_type": "code",
   "execution_count": null,
   "metadata": {
    "tags": []
   },
   "outputs": [],
   "source": []
  },
  {
   "cell_type": "code",
   "execution_count": 45,
   "metadata": {
    "colab": {
     "base_uri": "https://localhost:8080/"
    },
    "id": "Kn0NCC2dCrTx",
    "outputId": "f2918339-1f7c-487a-ba9d-70d8c0851c76",
    "tags": []
   },
   "outputs": [
    {
     "data": {
      "text/plain": [
       "{'angry': 0,\n",
       " 'awe': 1,\n",
       " 'emotional': 2,\n",
       " 'excited': 3,\n",
       " 'fear': 4,\n",
       " 'happy': 5,\n",
       " 'hopeful': 6,\n",
       " 'hurt': 7,\n",
       " 'love': 8,\n",
       " 'negative': 9,\n",
       " 'positive': 10,\n",
       " 'sadness': 11}"
      ]
     },
     "execution_count": 45,
     "metadata": {},
     "output_type": "execute_result"
    }
   ],
   "source": [
    "label_dict = {}\n",
    "for cl in le.classes_:\n",
    "    label_dict.update({cl:le.transform([cl])[0]})\n",
    "label_dict"
   ]
  },
  {
   "cell_type": "code",
   "execution_count": 45,
   "metadata": {
    "colab": {
     "base_uri": "https://localhost:8080/"
    },
    "id": "5ECh6NJTDAZI",
    "outputId": "f91a6302-758d-4401-b469-b906f6d63ab4",
    "tags": []
   },
   "outputs": [
    {
     "data": {
      "text/plain": [
       "0.4266666666666667"
      ]
     },
     "execution_count": 45,
     "metadata": {},
     "output_type": "execute_result"
    }
   ],
   "source": [
    "idx = (np.array(t_label)!=16)\n",
    "(pred[idx] == np.array(t_label)[idx]).sum()/len(pred[idx])"
   ]
  },
  {
   "cell_type": "code",
   "execution_count": 47,
   "metadata": {
    "colab": {
     "base_uri": "https://localhost:8080/",
     "height": 264
    },
    "id": "GWGJSFyoDnzh",
    "outputId": "4ed5e9ca-e9cf-44a7-b6e3-ef34729e57fa",
    "tags": []
   },
   "outputs": [
    {
     "name": "stderr",
     "output_type": "stream",
     "text": [
      "/mnt/storage/CIIP_group/Postdoc/Aiqi_Sun/anaconda/lib/python3.11/site-packages/sklearn/metrics/_classification.py:1469: UndefinedMetricWarning: Precision and F-score are ill-defined and being set to 0.0 in labels with no predicted samples. Use `zero_division` parameter to control this behavior.\n",
      "  _warn_prf(average, modifier, msg_start, len(result))\n",
      "/mnt/storage/CIIP_group/Postdoc/Aiqi_Sun/anaconda/lib/python3.11/site-packages/sklearn/metrics/_classification.py:1469: UndefinedMetricWarning: Recall and F-score are ill-defined and being set to 0.0 in labels with no true samples. Use `zero_division` parameter to control this behavior.\n",
      "  _warn_prf(average, modifier, msg_start, len(result))\n"
     ]
    },
    {
     "ename": "ValueError",
     "evalue": "12 columns passed, passed data had 15 columns",
     "output_type": "error",
     "traceback": [
      "\u001b[0;31m---------------------------------------------------------------------------\u001b[0m",
      "\u001b[0;31mAssertionError\u001b[0m                            Traceback (most recent call last)",
      "File \u001b[0;32m/mnt/storage/CIIP_group/Postdoc/Aiqi_Sun/anaconda/lib/python3.11/site-packages/pandas/core/internals/construction.py:969\u001b[0m, in \u001b[0;36m_finalize_columns_and_data\u001b[0;34m(content, columns, dtype)\u001b[0m\n\u001b[1;32m    968\u001b[0m \u001b[38;5;28;01mtry\u001b[39;00m:\n\u001b[0;32m--> 969\u001b[0m     columns \u001b[38;5;241m=\u001b[39m _validate_or_indexify_columns(contents, columns)\n\u001b[1;32m    970\u001b[0m \u001b[38;5;28;01mexcept\u001b[39;00m \u001b[38;5;167;01mAssertionError\u001b[39;00m \u001b[38;5;28;01mas\u001b[39;00m err:\n\u001b[1;32m    971\u001b[0m     \u001b[38;5;66;03m# GH#26429 do not raise user-facing AssertionError\u001b[39;00m\n",
      "File \u001b[0;32m/mnt/storage/CIIP_group/Postdoc/Aiqi_Sun/anaconda/lib/python3.11/site-packages/pandas/core/internals/construction.py:1017\u001b[0m, in \u001b[0;36m_validate_or_indexify_columns\u001b[0;34m(content, columns)\u001b[0m\n\u001b[1;32m   1015\u001b[0m \u001b[38;5;28;01mif\u001b[39;00m \u001b[38;5;129;01mnot\u001b[39;00m is_mi_list \u001b[38;5;129;01mand\u001b[39;00m \u001b[38;5;28mlen\u001b[39m(columns) \u001b[38;5;241m!=\u001b[39m \u001b[38;5;28mlen\u001b[39m(content):  \u001b[38;5;66;03m# pragma: no cover\u001b[39;00m\n\u001b[1;32m   1016\u001b[0m     \u001b[38;5;66;03m# caller's responsibility to check for this...\u001b[39;00m\n\u001b[0;32m-> 1017\u001b[0m     \u001b[38;5;28;01mraise\u001b[39;00m \u001b[38;5;167;01mAssertionError\u001b[39;00m(\n\u001b[1;32m   1018\u001b[0m         \u001b[38;5;124mf\u001b[39m\u001b[38;5;124m\"\u001b[39m\u001b[38;5;132;01m{\u001b[39;00m\u001b[38;5;28mlen\u001b[39m(columns)\u001b[38;5;132;01m}\u001b[39;00m\u001b[38;5;124m columns passed, passed data had \u001b[39m\u001b[38;5;124m\"\u001b[39m\n\u001b[1;32m   1019\u001b[0m         \u001b[38;5;124mf\u001b[39m\u001b[38;5;124m\"\u001b[39m\u001b[38;5;132;01m{\u001b[39;00m\u001b[38;5;28mlen\u001b[39m(content)\u001b[38;5;132;01m}\u001b[39;00m\u001b[38;5;124m columns\u001b[39m\u001b[38;5;124m\"\u001b[39m\n\u001b[1;32m   1020\u001b[0m     )\n\u001b[1;32m   1021\u001b[0m \u001b[38;5;28;01melif\u001b[39;00m is_mi_list:\n\u001b[1;32m   1022\u001b[0m \n\u001b[1;32m   1023\u001b[0m     \u001b[38;5;66;03m# check if nested list column, length of each sub-list should be equal\u001b[39;00m\n",
      "\u001b[0;31mAssertionError\u001b[0m: 12 columns passed, passed data had 15 columns",
      "\nThe above exception was the direct cause of the following exception:\n",
      "\u001b[0;31mValueError\u001b[0m                                Traceback (most recent call last)",
      "Cell \u001b[0;32mIn[47], line 2\u001b[0m\n\u001b[1;32m      1\u001b[0m \u001b[38;5;28;01mfrom\u001b[39;00m \u001b[38;5;21;01msklearn\u001b[39;00m\u001b[38;5;21;01m.\u001b[39;00m\u001b[38;5;21;01mmetrics\u001b[39;00m \u001b[38;5;28;01mimport\u001b[39;00m precision_recall_fscore_support\n\u001b[0;32m----> 2\u001b[0m scores \u001b[38;5;241m=\u001b[39m pd\u001b[38;5;241m.\u001b[39mDataFrame(precision_recall_fscore_support(pred, t_label, labels \u001b[38;5;241m=\u001b[39m \u001b[38;5;28mlist\u001b[39m(\u001b[38;5;28mrange\u001b[39m(\u001b[38;5;241m15\u001b[39m))),index\u001b[38;5;241m=\u001b[39m[\u001b[38;5;124m'\u001b[39m\u001b[38;5;124mprecision\u001b[39m\u001b[38;5;124m'\u001b[39m,\u001b[38;5;124m'\u001b[39m\u001b[38;5;124mrecall\u001b[39m\u001b[38;5;124m'\u001b[39m,\u001b[38;5;124m'\u001b[39m\u001b[38;5;124mf1\u001b[39m\u001b[38;5;124m'\u001b[39m,\u001b[38;5;124m'\u001b[39m\u001b[38;5;124msupport\u001b[39m\u001b[38;5;124m'\u001b[39m], columns \u001b[38;5;241m=\u001b[39m \u001b[38;5;28mlist\u001b[39m(label_dict)[:\u001b[38;5;241m15\u001b[39m])\n\u001b[1;32m      3\u001b[0m scores\n",
      "File \u001b[0;32m/mnt/storage/CIIP_group/Postdoc/Aiqi_Sun/anaconda/lib/python3.11/site-packages/pandas/core/frame.py:746\u001b[0m, in \u001b[0;36mDataFrame.__init__\u001b[0;34m(self, data, index, columns, dtype, copy)\u001b[0m\n\u001b[1;32m    744\u001b[0m     \u001b[38;5;28;01mif\u001b[39;00m columns \u001b[38;5;129;01mis\u001b[39;00m \u001b[38;5;129;01mnot\u001b[39;00m \u001b[38;5;28;01mNone\u001b[39;00m:\n\u001b[1;32m    745\u001b[0m         columns \u001b[38;5;241m=\u001b[39m ensure_index(columns)\n\u001b[0;32m--> 746\u001b[0m     arrays, columns, index \u001b[38;5;241m=\u001b[39m nested_data_to_arrays(\n\u001b[1;32m    747\u001b[0m         \u001b[38;5;66;03m# error: Argument 3 to \"nested_data_to_arrays\" has incompatible\u001b[39;00m\n\u001b[1;32m    748\u001b[0m         \u001b[38;5;66;03m# type \"Optional[Collection[Any]]\"; expected \"Optional[Index]\"\u001b[39;00m\n\u001b[1;32m    749\u001b[0m         data,\n\u001b[1;32m    750\u001b[0m         columns,\n\u001b[1;32m    751\u001b[0m         index,  \u001b[38;5;66;03m# type: ignore[arg-type]\u001b[39;00m\n\u001b[1;32m    752\u001b[0m         dtype,\n\u001b[1;32m    753\u001b[0m     )\n\u001b[1;32m    754\u001b[0m     mgr \u001b[38;5;241m=\u001b[39m arrays_to_mgr(\n\u001b[1;32m    755\u001b[0m         arrays,\n\u001b[1;32m    756\u001b[0m         columns,\n\u001b[0;32m   (...)\u001b[0m\n\u001b[1;32m    759\u001b[0m         typ\u001b[38;5;241m=\u001b[39mmanager,\n\u001b[1;32m    760\u001b[0m     )\n\u001b[1;32m    761\u001b[0m \u001b[38;5;28;01melse\u001b[39;00m:\n",
      "File \u001b[0;32m/mnt/storage/CIIP_group/Postdoc/Aiqi_Sun/anaconda/lib/python3.11/site-packages/pandas/core/internals/construction.py:510\u001b[0m, in \u001b[0;36mnested_data_to_arrays\u001b[0;34m(data, columns, index, dtype)\u001b[0m\n\u001b[1;32m    507\u001b[0m \u001b[38;5;28;01mif\u001b[39;00m is_named_tuple(data[\u001b[38;5;241m0\u001b[39m]) \u001b[38;5;129;01mand\u001b[39;00m columns \u001b[38;5;129;01mis\u001b[39;00m \u001b[38;5;28;01mNone\u001b[39;00m:\n\u001b[1;32m    508\u001b[0m     columns \u001b[38;5;241m=\u001b[39m ensure_index(data[\u001b[38;5;241m0\u001b[39m]\u001b[38;5;241m.\u001b[39m_fields)\n\u001b[0;32m--> 510\u001b[0m arrays, columns \u001b[38;5;241m=\u001b[39m to_arrays(data, columns, dtype\u001b[38;5;241m=\u001b[39mdtype)\n\u001b[1;32m    511\u001b[0m columns \u001b[38;5;241m=\u001b[39m ensure_index(columns)\n\u001b[1;32m    513\u001b[0m \u001b[38;5;28;01mif\u001b[39;00m index \u001b[38;5;129;01mis\u001b[39;00m \u001b[38;5;28;01mNone\u001b[39;00m:\n",
      "File \u001b[0;32m/mnt/storage/CIIP_group/Postdoc/Aiqi_Sun/anaconda/lib/python3.11/site-packages/pandas/core/internals/construction.py:875\u001b[0m, in \u001b[0;36mto_arrays\u001b[0;34m(data, columns, dtype)\u001b[0m\n\u001b[1;32m    872\u001b[0m     data \u001b[38;5;241m=\u001b[39m [\u001b[38;5;28mtuple\u001b[39m(x) \u001b[38;5;28;01mfor\u001b[39;00m x \u001b[38;5;129;01min\u001b[39;00m data]\n\u001b[1;32m    873\u001b[0m     arr \u001b[38;5;241m=\u001b[39m _list_to_arrays(data)\n\u001b[0;32m--> 875\u001b[0m content, columns \u001b[38;5;241m=\u001b[39m _finalize_columns_and_data(arr, columns, dtype)\n\u001b[1;32m    876\u001b[0m \u001b[38;5;28;01mreturn\u001b[39;00m content, columns\n",
      "File \u001b[0;32m/mnt/storage/CIIP_group/Postdoc/Aiqi_Sun/anaconda/lib/python3.11/site-packages/pandas/core/internals/construction.py:972\u001b[0m, in \u001b[0;36m_finalize_columns_and_data\u001b[0;34m(content, columns, dtype)\u001b[0m\n\u001b[1;32m    969\u001b[0m     columns \u001b[38;5;241m=\u001b[39m _validate_or_indexify_columns(contents, columns)\n\u001b[1;32m    970\u001b[0m \u001b[38;5;28;01mexcept\u001b[39;00m \u001b[38;5;167;01mAssertionError\u001b[39;00m \u001b[38;5;28;01mas\u001b[39;00m err:\n\u001b[1;32m    971\u001b[0m     \u001b[38;5;66;03m# GH#26429 do not raise user-facing AssertionError\u001b[39;00m\n\u001b[0;32m--> 972\u001b[0m     \u001b[38;5;28;01mraise\u001b[39;00m \u001b[38;5;167;01mValueError\u001b[39;00m(err) \u001b[38;5;28;01mfrom\u001b[39;00m \u001b[38;5;21;01merr\u001b[39;00m\n\u001b[1;32m    974\u001b[0m \u001b[38;5;28;01mif\u001b[39;00m \u001b[38;5;28mlen\u001b[39m(contents) \u001b[38;5;129;01mand\u001b[39;00m contents[\u001b[38;5;241m0\u001b[39m]\u001b[38;5;241m.\u001b[39mdtype \u001b[38;5;241m==\u001b[39m np\u001b[38;5;241m.\u001b[39mobject_:\n\u001b[1;32m    975\u001b[0m     contents \u001b[38;5;241m=\u001b[39m _convert_object_array(contents, dtype\u001b[38;5;241m=\u001b[39mdtype)\n",
      "\u001b[0;31mValueError\u001b[0m: 12 columns passed, passed data had 15 columns"
     ]
    }
   ],
   "source": [
    "from sklearn.metrics import precision_recall_fscore_support\n",
    "scores = pd.DataFrame(precision_recall_fscore_support(pred, t_label, labels = list(range(15))),index=['precision','recall','f1','support'], columns = list(label_dict)[:15])\n",
    "scores"
   ]
  },
  {
   "cell_type": "code",
   "execution_count": 48,
   "metadata": {
    "colab": {
     "base_uri": "https://localhost:8080/"
    },
    "id": "4sI6ilxkD0ZB",
    "outputId": "8dc8ccbe-ffa8-4cdb-d789-aac99c79a484",
    "tags": []
   },
   "outputs": [
    {
     "data": {
      "text/plain": [
       "precision     0.426667\n",
       "recall        0.533124\n",
       "f1            0.430355\n",
       "support      20.000000\n",
       "dtype: float64"
      ]
     },
     "execution_count": 48,
     "metadata": {},
     "output_type": "execute_result"
    }
   ],
   "source": [
    "scores.mean(axis=1)"
   ]
  },
  {
   "cell_type": "code",
   "execution_count": null,
   "metadata": {
    "id": "CtA905R9OigX"
   },
   "outputs": [],
   "source": [
    "echo 'export PATH=\"/mnt/storage/CIIP_group/Postdoc/Aiqi_Sun/anaconda3/bin:$PATH\"' >> ~/.bashrc"
   ]
  }
 ],
 "metadata": {
  "accelerator": "GPU",
  "colab": {
   "gpuType": "T4",
   "machine_shape": "hm",
   "provenance": []
  },
  "kernelspec": {
   "display_name": "Python 3 (ipykernel)",
   "language": "python",
   "name": "python3"
  },
  "language_info": {
   "codemirror_mode": {
    "name": "ipython",
    "version": 3
   },
   "file_extension": ".py",
   "mimetype": "text/x-python",
   "name": "python",
   "nbconvert_exporter": "python",
   "pygments_lexer": "ipython3",
   "version": "3.11.4"
  }
 },
 "nbformat": 4,
 "nbformat_minor": 4
}
