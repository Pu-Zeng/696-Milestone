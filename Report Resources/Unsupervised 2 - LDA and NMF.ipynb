{
 "cells": [
  {
   "cell_type": "markdown",
   "id": "977bbd10-c5ff-4a49-bcea-5e6d5a3640be",
   "metadata": {},
   "source": [
    "# Data Preprocessing"
   ]
  },
  {
   "cell_type": "code",
   "execution_count": 1,
   "id": "e361d501-92e1-4831-957e-43a0cb31bca1",
   "metadata": {},
   "outputs": [],
   "source": [
    "from tqdm import tqdm\n",
    "import numpy as np\n",
    "\n",
    "with open('mxm_dataset_train_cleaned.txt', encoding='utf8') as f:\n",
    "    lines = f.readlines()\n",
    "    \n",
    "lines = lines[17:] #The first 17th lines are some introduction\n",
    "\n",
    "words = lines[0][1:].split(',') #The 18th line is the word vocabulary"
   ]
  },
  {
   "cell_type": "code",
   "execution_count": 2,
   "id": "42311a01-486f-409d-a68e-30ef34eb01d7",
   "metadata": {},
   "outputs": [
    {
     "name": "stderr",
     "output_type": "stream",
     "text": [
      "100%|████████████████████████████████████████████████████████████████████████| 210519/210519 [00:45<00:00, 4666.70it/s]\n"
     ]
    }
   ],
   "source": [
    "# Turn word-of-bag into tf-idf\n",
    "res = []\n",
    "for line in tqdm(lines[1:]):\n",
    "    embedding = np.zeros(50)\n",
    "    count = 0\n",
    "    words_ = []\n",
    "    for word in line.split(',')[2:]:\n",
    "        k,v = (int(x) for x in word.split(':'))\n",
    "        music_ID = line.split(',')[0]\n",
    "        words_+=([words[k-1]]*v)\n",
    "    res.append(' '.join(words_))"
   ]
  },
  {
   "cell_type": "code",
   "execution_count": 3,
   "id": "35676b32-1185-4fb7-92e2-91b06ca7939b",
   "metadata": {},
   "outputs": [
    {
     "name": "stderr",
     "output_type": "stream",
     "text": [
      "100%|█████████████████████████████████████████████████████████████████████████| 210519/210519 [10:41<00:00, 328.41it/s]\n"
     ]
    }
   ],
   "source": [
    "from langdetect import detect\n",
    "res1 = []\n",
    "for line in tqdm(res):\n",
    "    try:\n",
    "        if (len(line)>150) & (detect(line)=='en'):\n",
    "            res1.append(line)\n",
    "    except:\n",
    "        pass"
   ]
  },
  {
   "cell_type": "code",
   "execution_count": 36,
   "id": "e1baeb99-dbc6-48d8-bc0e-528a0493f111",
   "metadata": {},
   "outputs": [],
   "source": [
    "from tqdm import tqdm\n",
    "import numpy as np\n",
    "\n",
    "with open('mxm_dataset_test.txt', encoding='utf8') as f:\n",
    "    lines = f.readlines()\n",
    "    \n",
    "lines = lines[17:] #The first 17th lines are some introduction\n",
    "\n",
    "words = lines[0][1:].split(',') #The 18th line is the word vocabulary"
   ]
  },
  {
   "cell_type": "code",
   "execution_count": 37,
   "id": "a8168d84-e430-42a8-b61d-cfffbd1d74d4",
   "metadata": {},
   "outputs": [
    {
     "name": "stderr",
     "output_type": "stream",
     "text": [
      "100%|██████████████████████████████████████████████████████████████████████████| 27143/27143 [00:06<00:00, 4447.50it/s]\n"
     ]
    }
   ],
   "source": [
    "# Turn word-of-bag into tf-idf\n",
    "res_test = []\n",
    "for line in tqdm(lines[1:]):\n",
    "    embedding = np.zeros(50)\n",
    "    count = 0\n",
    "    words_ = []\n",
    "    for word in line.split(',')[2:]:\n",
    "        k,v = (int(x) for x in word.split(':'))\n",
    "        music_ID = line.split(',')[0]\n",
    "        words_+=([words[k-1]]*v)\n",
    "    res_test.append(' '.join(words_))"
   ]
  },
  {
   "cell_type": "code",
   "execution_count": 39,
   "id": "0faee572-70a7-4c95-98a9-f7bd30a44ebd",
   "metadata": {},
   "outputs": [
    {
     "name": "stderr",
     "output_type": "stream",
     "text": [
      "100%|███████████████████████████████████████████████████████████████████████████| 27143/27143 [01:24<00:00, 322.47it/s]\n"
     ]
    }
   ],
   "source": [
    "from langdetect import detect\n",
    "res1_test = []\n",
    "for line in tqdm(res_test):\n",
    "    try:\n",
    "        if (len(line)>150) & (detect(line)=='en'):\n",
    "            res1_test.append(line)\n",
    "    except:\n",
    "        pass"
   ]
  },
  {
   "cell_type": "markdown",
   "id": "a1ee78d6-e65c-46a2-ab29-392c5cb9b5da",
   "metadata": {},
   "source": [
    "# Find the optimal number of clusters"
   ]
  },
  {
   "cell_type": "code",
   "execution_count": 71,
   "id": "97d5d095-b34b-4b5a-85cd-f603dbf2e382",
   "metadata": {},
   "outputs": [],
   "source": [
    "import gensim.downloader as api\n",
    "from itertools import combinations\n",
    "glove_model = api.load(\"glove-wiki-gigaword-50\")\n",
    "def calculate_coherence(w2v_model, term_rankings):\n",
    "    overall_coherence = 0.0\n",
    "    for topic_index in range(len(term_rankings)):\n",
    "        # check each pair of terms\n",
    "        pair_scores = []\n",
    "        for pair in combinations(term_rankings[topic_index], 2):\n",
    "            try:\n",
    "                pair_scores.append( w2v_model.similarity(pair[0], pair[1]) )\n",
    "            except:\n",
    "                pass\n",
    "        # get the mean for all pairs in this topic\n",
    "        topic_score = sum(pair_scores) / len(pair_scores)\n",
    "        overall_coherence += topic_score\n",
    "    # get the mean score across all topics\n",
    "    return overall_coherence / len(term_rankings)\n",
    "\n",
    "def get_descriptor( all_terms, H, topic_index, top ):\n",
    "    # reverse sort the values to sort the indices\n",
    "    top_indices = np.argsort( H[topic_index,:] )[::-1]\n",
    "    # now get the terms corresponding to the top-ranked indices\n",
    "    top_terms = []\n",
    "    for term_index in top_indices[0:top]:\n",
    "        top_terms.append( all_terms[term_index] )\n",
    "    return top_terms"
   ]
  },
  {
   "cell_type": "code",
   "execution_count": 21,
   "id": "a8e91023-6085-45b8-867e-a14978246cef",
   "metadata": {},
   "outputs": [
    {
     "name": "stderr",
     "output_type": "stream",
     "text": [
      " 28%|██████████████████████▍                                                         | 7/25 [22:41<1:06:41, 222.28s/it]D:\\programing\\anaconda3\\lib\\site-packages\\sklearn\\decomposition\\_nmf.py:1665: ConvergenceWarning: Maximum number of iterations 200 reached. Increase it to improve convergence.\n",
      "  warnings.warn(\n",
      " 32%|█████████████████████████▌                                                      | 8/25 [26:40<1:04:25, 227.40s/it]D:\\programing\\anaconda3\\lib\\site-packages\\sklearn\\decomposition\\_nmf.py:1665: ConvergenceWarning: Maximum number of iterations 200 reached. Increase it to improve convergence.\n",
      "  warnings.warn(\n",
      " 44%|███████████████████████████████████▋                                             | 11/25 [38:44<55:16, 236.89s/it]D:\\programing\\anaconda3\\lib\\site-packages\\sklearn\\decomposition\\_nmf.py:1665: ConvergenceWarning: Maximum number of iterations 200 reached. Increase it to improve convergence.\n",
      "  warnings.warn(\n",
      " 60%|████████████████████████████████████████████████▌                                | 15/25 [54:30<39:14, 235.42s/it]D:\\programing\\anaconda3\\lib\\site-packages\\sklearn\\decomposition\\_nmf.py:1665: ConvergenceWarning: Maximum number of iterations 200 reached. Increase it to improve convergence.\n",
      "  warnings.warn(\n",
      " 68%|█████████████████████████████████████████████████████▋                         | 17/25 [1:03:13<33:09, 248.69s/it]D:\\programing\\anaconda3\\lib\\site-packages\\sklearn\\decomposition\\_nmf.py:1665: ConvergenceWarning: Maximum number of iterations 200 reached. Increase it to improve convergence.\n",
      "  warnings.warn(\n",
      " 88%|█████████████████████████████████████████████████████████████████████▌         | 22/25 [1:25:01<12:49, 256.36s/it]D:\\programing\\anaconda3\\lib\\site-packages\\sklearn\\decomposition\\_nmf.py:1665: ConvergenceWarning: Maximum number of iterations 200 reached. Increase it to improve convergence.\n",
      "  warnings.warn(\n",
      " 96%|███████████████████████████████████████████████████████████████████████████▊   | 24/25 [1:34:29<04:29, 269.39s/it]D:\\programing\\anaconda3\\lib\\site-packages\\sklearn\\decomposition\\_nmf.py:1665: ConvergenceWarning: Maximum number of iterations 200 reached. Increase it to improve convergence.\n",
      "  warnings.warn(\n",
      "100%|███████████████████████████████████████████████████████████████████████████████| 25/25 [1:39:29<00:00, 238.77s/it]\n"
     ]
    }
   ],
   "source": [
    "vectorizer = TfidfVectorizer(max_df=0.8, min_df=10, stop_words=\"english\")\n",
    "tf_idf_vec = vectorizer.fit_transform(res1)\n",
    "tf_idf_vec_test = vectorizer.transform(res1_test)\n",
    "terms =  list(vectorizer.get_feature_names_out())\n",
    "score_res = []\n",
    "for n in tqdm(list(range(5,30))):\n",
    "    nmf = NMF(n_components=n)\n",
    "    # pipeline = make_topic_pipeline(vectorizer, nmf)\n",
    "    nmf.fit(tf_idf_vec)\n",
    "    H = nmf.components_ \n",
    "    term_rankings=[]\n",
    "    for topic_index in range(n):\n",
    "        term_rankings.append(get_descriptor(terms, H, topic_index, 10))\n",
    "    nmf_score = calculate_coherence(glove_model, term_rankings)\n",
    "    \n",
    "    lda = LatentDirichletAllocation(n_components=n,random_state=0,n_jobs=-1)\n",
    "    lda.fit(tf_idf_vec)\n",
    "    H = lda.components_ \n",
    "    term_rankings=[]\n",
    "    for topic_index in range(n):\n",
    "        term_rankings.append(get_descriptor(terms, H, topic_index, 10))\n",
    "    lda_score = calculate_coherence(glove_model, term_rankings)\n",
    "    perplexity = lda.perplexity(tf_idf_vec)\n",
    "    score_res.append([n, nmf_score, lda_score, perplexity])\n",
    "score_df = pd.DataFrame(score_res, columns = ['num_clusters','nmf_coherence', 'lda_coherence', 'lda_perplexity'])"
   ]
  },
  {
   "cell_type": "code",
   "execution_count": 22,
   "id": "2c48209c-8989-4e56-a411-416f789d017a",
   "metadata": {},
   "outputs": [
    {
     "data": {
      "text/html": [
       "<div>\n",
       "<style scoped>\n",
       "    .dataframe tbody tr th:only-of-type {\n",
       "        vertical-align: middle;\n",
       "    }\n",
       "\n",
       "    .dataframe tbody tr th {\n",
       "        vertical-align: top;\n",
       "    }\n",
       "\n",
       "    .dataframe thead th {\n",
       "        text-align: right;\n",
       "    }\n",
       "</style>\n",
       "<table border=\"1\" class=\"dataframe\">\n",
       "  <thead>\n",
       "    <tr style=\"text-align: right;\">\n",
       "      <th></th>\n",
       "      <th>num_clusters</th>\n",
       "      <th>nmf_coherence</th>\n",
       "      <th>lda_coherence</th>\n",
       "      <th>lda_perplexity</th>\n",
       "    </tr>\n",
       "  </thead>\n",
       "  <tbody>\n",
       "    <tr>\n",
       "      <th>0</th>\n",
       "      <td>5</td>\n",
       "      <td>0.548400</td>\n",
       "      <td>0.594196</td>\n",
       "      <td>2326.091458</td>\n",
       "    </tr>\n",
       "    <tr>\n",
       "      <th>1</th>\n",
       "      <td>6</td>\n",
       "      <td>0.560330</td>\n",
       "      <td>0.585111</td>\n",
       "      <td>2432.926737</td>\n",
       "    </tr>\n",
       "    <tr>\n",
       "      <th>2</th>\n",
       "      <td>7</td>\n",
       "      <td>0.530232</td>\n",
       "      <td>0.570736</td>\n",
       "      <td>2532.164720</td>\n",
       "    </tr>\n",
       "    <tr>\n",
       "      <th>3</th>\n",
       "      <td>8</td>\n",
       "      <td>0.520299</td>\n",
       "      <td>0.611368</td>\n",
       "      <td>2617.705872</td>\n",
       "    </tr>\n",
       "    <tr>\n",
       "      <th>4</th>\n",
       "      <td>9</td>\n",
       "      <td>0.518371</td>\n",
       "      <td>0.561187</td>\n",
       "      <td>2700.081852</td>\n",
       "    </tr>\n",
       "    <tr>\n",
       "      <th>5</th>\n",
       "      <td>10</td>\n",
       "      <td>0.500586</td>\n",
       "      <td>0.564699</td>\n",
       "      <td>2764.781161</td>\n",
       "    </tr>\n",
       "    <tr>\n",
       "      <th>6</th>\n",
       "      <td>11</td>\n",
       "      <td>0.474753</td>\n",
       "      <td>0.545693</td>\n",
       "      <td>2842.617689</td>\n",
       "    </tr>\n",
       "    <tr>\n",
       "      <th>7</th>\n",
       "      <td>12</td>\n",
       "      <td>0.456964</td>\n",
       "      <td>0.569501</td>\n",
       "      <td>2918.077975</td>\n",
       "    </tr>\n",
       "    <tr>\n",
       "      <th>8</th>\n",
       "      <td>13</td>\n",
       "      <td>0.474827</td>\n",
       "      <td>0.577244</td>\n",
       "      <td>3000.728172</td>\n",
       "    </tr>\n",
       "    <tr>\n",
       "      <th>9</th>\n",
       "      <td>14</td>\n",
       "      <td>0.484242</td>\n",
       "      <td>0.557617</td>\n",
       "      <td>3045.081623</td>\n",
       "    </tr>\n",
       "    <tr>\n",
       "      <th>10</th>\n",
       "      <td>15</td>\n",
       "      <td>0.447415</td>\n",
       "      <td>0.545707</td>\n",
       "      <td>3100.574554</td>\n",
       "    </tr>\n",
       "    <tr>\n",
       "      <th>11</th>\n",
       "      <td>16</td>\n",
       "      <td>0.444533</td>\n",
       "      <td>0.532494</td>\n",
       "      <td>3186.004046</td>\n",
       "    </tr>\n",
       "    <tr>\n",
       "      <th>12</th>\n",
       "      <td>17</td>\n",
       "      <td>0.440878</td>\n",
       "      <td>0.561094</td>\n",
       "      <td>3278.772525</td>\n",
       "    </tr>\n",
       "    <tr>\n",
       "      <th>13</th>\n",
       "      <td>18</td>\n",
       "      <td>0.454155</td>\n",
       "      <td>0.509590</td>\n",
       "      <td>3334.733358</td>\n",
       "    </tr>\n",
       "    <tr>\n",
       "      <th>14</th>\n",
       "      <td>19</td>\n",
       "      <td>0.445772</td>\n",
       "      <td>0.550932</td>\n",
       "      <td>3417.930424</td>\n",
       "    </tr>\n",
       "    <tr>\n",
       "      <th>15</th>\n",
       "      <td>20</td>\n",
       "      <td>0.407689</td>\n",
       "      <td>0.528411</td>\n",
       "      <td>3474.094421</td>\n",
       "    </tr>\n",
       "    <tr>\n",
       "      <th>16</th>\n",
       "      <td>21</td>\n",
       "      <td>0.425891</td>\n",
       "      <td>0.513522</td>\n",
       "      <td>3557.729900</td>\n",
       "    </tr>\n",
       "    <tr>\n",
       "      <th>17</th>\n",
       "      <td>22</td>\n",
       "      <td>0.421128</td>\n",
       "      <td>0.523765</td>\n",
       "      <td>3593.557541</td>\n",
       "    </tr>\n",
       "    <tr>\n",
       "      <th>18</th>\n",
       "      <td>23</td>\n",
       "      <td>0.407840</td>\n",
       "      <td>0.509989</td>\n",
       "      <td>3686.174307</td>\n",
       "    </tr>\n",
       "    <tr>\n",
       "      <th>19</th>\n",
       "      <td>24</td>\n",
       "      <td>0.414378</td>\n",
       "      <td>0.528581</td>\n",
       "      <td>3773.560625</td>\n",
       "    </tr>\n",
       "    <tr>\n",
       "      <th>20</th>\n",
       "      <td>25</td>\n",
       "      <td>0.417919</td>\n",
       "      <td>0.495626</td>\n",
       "      <td>3764.396974</td>\n",
       "    </tr>\n",
       "    <tr>\n",
       "      <th>21</th>\n",
       "      <td>26</td>\n",
       "      <td>0.411553</td>\n",
       "      <td>0.499086</td>\n",
       "      <td>3838.966837</td>\n",
       "    </tr>\n",
       "    <tr>\n",
       "      <th>22</th>\n",
       "      <td>27</td>\n",
       "      <td>0.408026</td>\n",
       "      <td>0.510916</td>\n",
       "      <td>3943.322054</td>\n",
       "    </tr>\n",
       "    <tr>\n",
       "      <th>23</th>\n",
       "      <td>28</td>\n",
       "      <td>0.415227</td>\n",
       "      <td>0.481706</td>\n",
       "      <td>3987.854593</td>\n",
       "    </tr>\n",
       "    <tr>\n",
       "      <th>24</th>\n",
       "      <td>29</td>\n",
       "      <td>0.395546</td>\n",
       "      <td>0.516116</td>\n",
       "      <td>4106.657969</td>\n",
       "    </tr>\n",
       "  </tbody>\n",
       "</table>\n",
       "</div>"
      ],
      "text/plain": [
       "    num_clusters  nmf_coherence  lda_coherence  lda_perplexity\n",
       "0              5       0.548400       0.594196     2326.091458\n",
       "1              6       0.560330       0.585111     2432.926737\n",
       "2              7       0.530232       0.570736     2532.164720\n",
       "3              8       0.520299       0.611368     2617.705872\n",
       "4              9       0.518371       0.561187     2700.081852\n",
       "5             10       0.500586       0.564699     2764.781161\n",
       "6             11       0.474753       0.545693     2842.617689\n",
       "7             12       0.456964       0.569501     2918.077975\n",
       "8             13       0.474827       0.577244     3000.728172\n",
       "9             14       0.484242       0.557617     3045.081623\n",
       "10            15       0.447415       0.545707     3100.574554\n",
       "11            16       0.444533       0.532494     3186.004046\n",
       "12            17       0.440878       0.561094     3278.772525\n",
       "13            18       0.454155       0.509590     3334.733358\n",
       "14            19       0.445772       0.550932     3417.930424\n",
       "15            20       0.407689       0.528411     3474.094421\n",
       "16            21       0.425891       0.513522     3557.729900\n",
       "17            22       0.421128       0.523765     3593.557541\n",
       "18            23       0.407840       0.509989     3686.174307\n",
       "19            24       0.414378       0.528581     3773.560625\n",
       "20            25       0.417919       0.495626     3764.396974\n",
       "21            26       0.411553       0.499086     3838.966837\n",
       "22            27       0.408026       0.510916     3943.322054\n",
       "23            28       0.415227       0.481706     3987.854593\n",
       "24            29       0.395546       0.516116     4106.657969"
      ]
     },
     "execution_count": 22,
     "metadata": {},
     "output_type": "execute_result"
    }
   ],
   "source": [
    "score_df = pd.DataFrame(score_res, columns = ['num_clusters','nmf_coherence', 'lda_coherence', 'lda_perplexity'])\n",
    "score_df"
   ]
  },
  {
   "cell_type": "code",
   "execution_count": 86,
   "id": "36f2e449-7bc1-4b2a-b77a-b0e758ab34a2",
   "metadata": {},
   "outputs": [
    {
     "data": {
      "text/plain": [
       "Text(0, 0.5, 'TC-W2V')"
      ]
     },
     "execution_count": 86,
     "metadata": {},
     "output_type": "execute_result"
    },
    {
     "data": {
      "image/png": "[encoded data removed]",
      "text/plain": [
       "<Figure size 640x480 with 1 Axes>"
      ]
     },
     "metadata": {},
     "output_type": "display_data"
    }
   ],
   "source": [
    "import matplotlib.pyplot as plt\n",
    "plt.plot(score_df['num_clusters'], score_df['nmf_coherence'], label = 'nmf')\n",
    "plt.plot(score_df['num_clusters'], score_df['lda_coherence'], label = 'lda')\n",
    "plt.legend()\n",
    "plt.xlabel('num_clusters')\n",
    "plt.ylabel('TC-W2V')"
   ]
  },
  {
   "cell_type": "code",
   "execution_count": 28,
   "id": "508c5af6-cf1a-400f-9b52-3f5c3a7b11c4",
   "metadata": {},
   "outputs": [
    {
     "data": {
      "text/plain": [
       "[<matplotlib.lines.Line2D at 0x14f153534f0>]"
      ]
     },
     "execution_count": 28,
     "metadata": {},
     "output_type": "execute_result"
    },
    {
     "data": {
      "image/png": "[encoded data removed]",
      "text/plain": [
       "<Figure size 640x480 with 1 Axes>"
      ]
     },
     "metadata": {},
     "output_type": "display_data"
    }
   ],
   "source": [
    "plt.plot(score_df['num_clusters'], score_df['lda_perplexity'], label = 'nmf')"
   ]
  },
  {
   "cell_type": "markdown",
   "id": "796177f8-049d-44ab-a683-4c2273df8707",
   "metadata": {},
   "source": [
    "# NMF"
   ]
  },
  {
   "cell_type": "markdown",
   "id": "c2e0ff2f-ce36-458b-b648-42149c312577",
   "metadata": {},
   "source": [
    "# Milestone 2\n",
    "\n",
    "### By Patrick Thornton, Braedon Shick, Pu Zeng\n",
    "\n",
    "The Code is tested under Google Colab with both CPU and T4 environments, and we strongly recommend using Colab to run our code. Please use your UM Email to open the Colab links below.\n",
    "\n",
    "## Supervised learning\n",
    "\n",
    "**2. CNN Genre Classification**\n",
    "- We recommand using T4 for this code.\n",
    "\n",
    "- https://colab.research.google.com/drive/1mM1gr5zNGnKEmYkOrF5Rdiw6beGFqpMM\n",
    "\n",
    "**3. RNN Genre Classification**\n",
    "- Both CPU or T4 will take a super long time to train the model. We recommand using V100/A100 to train the model.\n",
    "\n",
    "- https://colab.research.google.com/drive/1PHJQzMdMgTzsmX-byRvSU8atASMQyLDT\n",
    "\n",
    "**4. CNN Emotion Classificaton**\n",
    "- We recommand using T4 for this notebook, as transformers are needed to generate the labels.\n",
    "\n",
    "- https://colab.research.google.com/drive/11hK8EbE94ZXcOvYemIleYNVEHwC0VzWQ\n",
    "\n",
    "**5. CNN Regresson with MIDI files**\n",
    "- Both CPU and T4 works well for this notebook, while T4 is significantly faster.\n",
    "\n",
    "- https://colab.research.google.com/drive/1kyOV-ov1QQsJ2df-u6rK1447iZLDzq5x\n",
    "\n",
    "**6. CNN Regression with MP3 files**\n",
    "- Both CPU and T4 works well for this notebook, while T4 is significantly faster.\n",
    "\n",
    "- https://colab.research.google.com/drive/1Up8aXdtNe5ho945bja13-Nx2v6u7ut6m\n",
    "\n",
    "## Unsupervised learning\n",
    "GPU is not used in this notebook, so there's no need to use T4.\n",
    "\n",
    "To see the UMAP plot of the clusters, please click on the link generated by the NMF and LDA code.\n",
    "\n",
    "After installing the visualization library, Colab need to be restarted to work properly. We've added some code to restart the notbook after the library install. However, you need to run the \"import library\" cell again after the restart.\n",
    "\n",
    "**1. TSNE on Average Glove Embeddings**\n",
    "- https://colab.research.google.com/drive/1BCZr--eTRAna5L54C4b3jESrbjMdoknC\n",
    "\n",
    "**2. LDA and NMF on Lyrics**\n",
    "- https://colab.research.google.com/drive/1YbBROY315WVXjzLUXgZMTn1PehCgKCId"
   ]
  },
  {
   "cell_type": "code",
   "execution_count": 29,
   "id": "74a7a43d-2779-44bc-82ff-be7d948ec837",
   "metadata": {},
   "outputs": [],
   "source": [
    "# Setting up topic modelling pipeline\n",
    "from sklearn.feature_extraction.text import TfidfVectorizer\n",
    "from sklearn.decomposition import NMF\n",
    "from sklearn.feature_extraction.text import CountVectorizer\n",
    "import topicwizard\n",
    "from topicwizard.pipeline import make_topic_pipeline\n",
    "from sklearn.decomposition import LatentDirichletAllocation\n",
    "import pandas as pd"
   ]
  },
  {
   "cell_type": "code",
   "execution_count": 78,
   "id": "cf03c1d5-5ca8-4e1c-958d-73ed7f199658",
   "metadata": {},
   "outputs": [
    {
     "data": {
      "text/html": [
       "<style>#sk-container-id-5 {color: black;background-color: white;}#sk-container-id-5 pre{padding: 0;}#sk-container-id-5 div.sk-toggleable {background-color: white;}#sk-container-id-5 label.sk-toggleable__label {cursor: pointer;display: block;width: 100%;margin-bottom: 0;padding: 0.3em;box-sizing: border-box;text-align: center;}#sk-container-id-5 label.sk-toggleable__label-arrow:before {content: \"▸\";float: left;margin-right: 0.25em;color: #696969;}#sk-container-id-5 label.sk-toggleable__label-arrow:hover:before {color: black;}#sk-container-id-5 div.sk-estimator:hover label.sk-toggleable__label-arrow:before {color: black;}#sk-container-id-5 div.sk-toggleable__content {max-height: 0;max-width: 0;overflow: hidden;text-align: left;background-color: #f0f8ff;}#sk-container-id-5 div.sk-toggleable__content pre {margin: 0.2em;color: black;border-radius: 0.25em;background-color: #f0f8ff;}#sk-container-id-5 input.sk-toggleable__control:checked~div.sk-toggleable__content {max-height: 200px;max-width: 100%;overflow: auto;}#sk-container-id-5 input.sk-toggleable__control:checked~label.sk-toggleable__label-arrow:before {content: \"▾\";}#sk-container-id-5 div.sk-estimator input.sk-toggleable__control:checked~label.sk-toggleable__label {background-color: #d4ebff;}#sk-container-id-5 div.sk-label input.sk-toggleable__control:checked~label.sk-toggleable__label {background-color: #d4ebff;}#sk-container-id-5 input.sk-hidden--visually {border: 0;clip: rect(1px 1px 1px 1px);clip: rect(1px, 1px, 1px, 1px);height: 1px;margin: -1px;overflow: hidden;padding: 0;position: absolute;width: 1px;}#sk-container-id-5 div.sk-estimator {font-family: monospace;background-color: #f0f8ff;border: 1px dotted black;border-radius: 0.25em;box-sizing: border-box;margin-bottom: 0.5em;}#sk-container-id-5 div.sk-estimator:hover {background-color: #d4ebff;}#sk-container-id-5 div.sk-parallel-item::after {content: \"\";width: 100%;border-bottom: 1px solid gray;flex-grow: 1;}#sk-container-id-5 div.sk-label:hover label.sk-toggleable__label {background-color: #d4ebff;}#sk-container-id-5 div.sk-serial::before {content: \"\";position: absolute;border-left: 1px solid gray;box-sizing: border-box;top: 0;bottom: 0;left: 50%;z-index: 0;}#sk-container-id-5 div.sk-serial {display: flex;flex-direction: column;align-items: center;background-color: white;padding-right: 0.2em;padding-left: 0.2em;position: relative;}#sk-container-id-5 div.sk-item {position: relative;z-index: 1;}#sk-container-id-5 div.sk-parallel {display: flex;align-items: stretch;justify-content: center;background-color: white;position: relative;}#sk-container-id-5 div.sk-item::before, #sk-container-id-5 div.sk-parallel-item::before {content: \"\";position: absolute;border-left: 1px solid gray;box-sizing: border-box;top: 0;bottom: 0;left: 50%;z-index: -1;}#sk-container-id-5 div.sk-parallel-item {display: flex;flex-direction: column;z-index: 1;position: relative;background-color: white;}#sk-container-id-5 div.sk-parallel-item:first-child::after {align-self: flex-end;width: 50%;}#sk-container-id-5 div.sk-parallel-item:last-child::after {align-self: flex-start;width: 50%;}#sk-container-id-5 div.sk-parallel-item:only-child::after {width: 0;}#sk-container-id-5 div.sk-dashed-wrapped {border: 1px dashed gray;margin: 0 0.4em 0.5em 0.4em;box-sizing: border-box;padding-bottom: 0.4em;background-color: white;}#sk-container-id-5 div.sk-label label {font-family: monospace;font-weight: bold;display: inline-block;line-height: 1.2em;}#sk-container-id-5 div.sk-label-container {text-align: center;}#sk-container-id-5 div.sk-container {/* jupyter's `normalize.less` sets `[hidden] { display: none; }` but bootstrap.min.css set `[hidden] { display: none !important; }` so we also need the `!important` here to be able to override the default hidden behavior on the sphinx rendered scikit-learn.org. See: https://github.com/scikit-learn/scikit-learn/issues/21755 */display: inline-block !important;position: relative;}#sk-container-id-5 div.sk-text-repr-fallback {display: none;}</style><div id=\"sk-container-id-5\" class=\"sk-top-container\"><div class=\"sk-text-repr-fallback\"><pre>TopicPipeline(steps=[(&#x27;tfidfvectorizer&#x27;,\n",
       "                      TfidfVectorizer(max_df=0.8, min_df=10,\n",
       "                                      stop_words=&#x27;english&#x27;)),\n",
       "                     (&#x27;nmf&#x27;, NMF(n_components=6))])</pre><b>In a Jupyter environment, please rerun this cell to show the HTML representation or trust the notebook. <br />On GitHub, the HTML representation is unable to render, please try loading this page with nbviewer.org.</b></div><div class=\"sk-container\" hidden><div class=\"sk-item sk-dashed-wrapped\"><div class=\"sk-label-container\"><div class=\"sk-label sk-toggleable\"><input class=\"sk-toggleable__control sk-hidden--visually\" id=\"sk-estimator-id-13\" type=\"checkbox\" ><label for=\"sk-estimator-id-13\" class=\"sk-toggleable__label sk-toggleable__label-arrow\">TopicPipeline</label><div class=\"sk-toggleable__content\"><pre>TopicPipeline(steps=[(&#x27;tfidfvectorizer&#x27;,\n",
       "                      TfidfVectorizer(max_df=0.8, min_df=10,\n",
       "                                      stop_words=&#x27;english&#x27;)),\n",
       "                     (&#x27;nmf&#x27;, NMF(n_components=6))])</pre></div></div></div><div class=\"sk-serial\"><div class=\"sk-item\"><div class=\"sk-estimator sk-toggleable\"><input class=\"sk-toggleable__control sk-hidden--visually\" id=\"sk-estimator-id-14\" type=\"checkbox\" ><label for=\"sk-estimator-id-14\" class=\"sk-toggleable__label sk-toggleable__label-arrow\">TfidfVectorizer</label><div class=\"sk-toggleable__content\"><pre>TfidfVectorizer(max_df=0.8, min_df=10, stop_words=&#x27;english&#x27;)</pre></div></div></div><div class=\"sk-item\"><div class=\"sk-estimator sk-toggleable\"><input class=\"sk-toggleable__control sk-hidden--visually\" id=\"sk-estimator-id-15\" type=\"checkbox\" ><label for=\"sk-estimator-id-15\" class=\"sk-toggleable__label sk-toggleable__label-arrow\">NMF</label><div class=\"sk-toggleable__content\"><pre>NMF(n_components=6)</pre></div></div></div></div></div></div></div>"
      ],
      "text/plain": [
       "TopicPipeline(steps=[('tfidfvectorizer',\n",
       "                      TfidfVectorizer(max_df=0.8, min_df=10,\n",
       "                                      stop_words='english')),\n",
       "                     ('nmf', NMF(n_components=6))])"
      ]
     },
     "execution_count": 78,
     "metadata": {},
     "output_type": "execute_result"
    }
   ],
   "source": [
    "# Fitting pipeline\n",
    "vectorizer = TfidfVectorizer(max_df=0.8, min_df=10, stop_words=\"english\")\n",
    "# NMF topic model with 20 topics\n",
    "nmf = NMF(n_components=6)\n",
    "pipeline = make_topic_pipeline(vectorizer, nmf)\n",
    "pipeline.fit(res1)\n",
    "# topicwizard.visualize(res1, pipeline=pipeline,exclude_pages=[\"documents\"])"
   ]
  },
  {
   "cell_type": "code",
   "execution_count": 79,
   "id": "48a30cae-81d5-414a-a3f6-ba5376e3defc",
   "metadata": {
    "tags": []
   },
   "outputs": [
    {
     "name": "stdout",
     "output_type": "stream",
     "text": [
      "Preprocessing\n",
      "Dash is running on http://127.0.0.1:8050/\n",
      "\n",
      "Dash is running on http://127.0.0.1:8050/\n",
      "\n",
      "Dash is running on http://127.0.0.1:8050/\n",
      "\n",
      "Dash is running on http://127.0.0.1:8050/\n",
      "\n",
      " * Serving Flask app \"topicwizard.app\" (lazy loading)\n",
      " * Environment: production\n",
      "\u001b[31m   WARNING: This is a development server. Do not use it in a production deployment.\u001b[0m\n",
      "\u001b[2m   Use a production WSGI server instead.\u001b[0m\n",
      " * Debug mode: off\n"
     ]
    },
    {
     "name": "stderr",
     "output_type": "stream",
     "text": [
      " * Running on http://127.0.0.1:8050/ (Press CTRL+C to quit)\n",
      "127.0.0.1 - - [20/Oct/2023 17:11:08] \"GET / HTTP/1.1\" 200 -\n",
      "127.0.0.1 - - [20/Oct/2023 17:11:08] \"GET /_dash-dependencies HTTP/1.1\" 200 -\n",
      "127.0.0.1 - - [20/Oct/2023 17:11:08] \"GET /_dash-layout HTTP/1.1\" 200 -\n",
      "127.0.0.1 - - [20/Oct/2023 17:11:09] \"GET /_dash-component-suites/dash/dcc/async-graph.js HTTP/1.1\" 200 -\n",
      "127.0.0.1 - - [20/Oct/2023 17:11:09] \"POST /_dash-update-component HTTP/1.1\" 204 -\n",
      "127.0.0.1 - - [20/Oct/2023 17:11:09] \"GET /_dash-component-suites/dash/dcc/async-plotlyjs.js HTTP/1.1\" 200 -\n",
      "127.0.0.1 - - [20/Oct/2023 17:11:09] \"GET /_dash-component-suites/dash/dcc/async-dropdown.js HTTP/1.1\" 200 -\n",
      "D:\\programing\\anaconda3\\lib\\site-packages\\topicwizard\\prepare\\topics.py:92: RuntimeWarning:\n",
      "\n",
      "divide by zero encountered in log\n",
      "\n",
      "D:\\programing\\anaconda3\\lib\\site-packages\\topicwizard\\prepare\\topics.py:94: RuntimeWarning:\n",
      "\n",
      "divide by zero encountered in log\n",
      "\n",
      "127.0.0.1 - - [20/Oct/2023 17:11:09] \"POST /_dash-update-component HTTP/1.1\" 200 -\n",
      "D:\\programing\\anaconda3\\lib\\site-packages\\topicwizard\\prepare\\topics.py:92: RuntimeWarning:\n",
      "\n",
      "divide by zero encountered in log\n",
      "\n",
      "D:\\programing\\anaconda3\\lib\\site-packages\\topicwizard\\prepare\\topics.py:94: RuntimeWarning:\n",
      "\n",
      "divide by zero encountered in log\n",
      "\n",
      "127.0.0.1 - - [20/Oct/2023 17:11:09] \"POST /_dash-update-component HTTP/1.1\" 204 -\n",
      "127.0.0.1 - - [20/Oct/2023 17:11:11] \"POST /_dash-update-component HTTP/1.1\" 200 -\n",
      "127.0.0.1 - - [20/Oct/2023 17:13:51] \"GET /_dash-dependencies HTTP/1.1\" 200 -\n",
      "127.0.0.1 - - [20/Oct/2023 17:13:51] \"GET /_dash-layout HTTP/1.1\" 200 -\n",
      "127.0.0.1 - - [20/Oct/2023 17:13:51] \"GET /_dash-component-suites/dash/dcc/async-graph.js HTTP/1.1\" 200 -\n",
      "127.0.0.1 - - [20/Oct/2023 17:13:51] \"GET /_dash-component-suites/dash/dcc/async-dropdown.js HTTP/1.1\" 200 -\n",
      "127.0.0.1 - - [20/Oct/2023 17:13:51] \"GET /_dash-component-suites/dash/dcc/async-plotlyjs.js HTTP/1.1\" 200 -\n",
      "127.0.0.1 - - [20/Oct/2023 17:13:51] \"POST /_dash-update-component HTTP/1.1\" 204 -\n",
      "127.0.0.1 - - [20/Oct/2023 17:13:52] \"POST /_dash-update-component HTTP/1.1\" 200 -\n",
      "127.0.0.1 - - [20/Oct/2023 17:13:52] \"POST /_dash-update-component HTTP/1.1\" 200 -\n",
      "127.0.0.1 - - [20/Oct/2023 17:13:52] \"POST /_dash-update-component HTTP/1.1\" 204 -\n",
      "D:\\programing\\anaconda3\\lib\\site-packages\\topicwizard\\prepare\\topics.py:92: RuntimeWarning:\n",
      "\n",
      "divide by zero encountered in log\n",
      "\n",
      "D:\\programing\\anaconda3\\lib\\site-packages\\topicwizard\\prepare\\topics.py:94: RuntimeWarning:\n",
      "\n",
      "divide by zero encountered in log\n",
      "\n",
      "D:\\programing\\anaconda3\\lib\\site-packages\\topicwizard\\prepare\\topics.py:92: RuntimeWarning:\n",
      "\n",
      "divide by zero encountered in log\n",
      "\n",
      "D:\\programing\\anaconda3\\lib\\site-packages\\topicwizard\\prepare\\topics.py:94: RuntimeWarning:\n",
      "\n",
      "divide by zero encountered in log\n",
      "\n",
      "127.0.0.1 - - [20/Oct/2023 17:13:57] \"POST /_dash-update-component HTTP/1.1\" 204 -\n",
      "127.0.0.1 - - [20/Oct/2023 17:13:58] \"POST /_dash-update-component HTTP/1.1\" 200 -\n",
      "D:\\programing\\anaconda3\\lib\\site-packages\\topicwizard\\prepare\\topics.py:92: RuntimeWarning:\n",
      "\n",
      "divide by zero encountered in log\n",
      "\n",
      "D:\\programing\\anaconda3\\lib\\site-packages\\topicwizard\\prepare\\topics.py:94: RuntimeWarning:\n",
      "\n",
      "divide by zero encountered in log\n",
      "\n",
      "D:\\programing\\anaconda3\\lib\\site-packages\\topicwizard\\prepare\\topics.py:92: RuntimeWarning:\n",
      "\n",
      "divide by zero encountered in log\n",
      "\n",
      "D:\\programing\\anaconda3\\lib\\site-packages\\topicwizard\\prepare\\topics.py:94: RuntimeWarning:\n",
      "\n",
      "divide by zero encountered in log\n",
      "\n",
      "127.0.0.1 - - [20/Oct/2023 17:13:59] \"POST /_dash-update-component HTTP/1.1\" 204 -\n",
      "127.0.0.1 - - [20/Oct/2023 17:14:00] \"POST /_dash-update-component HTTP/1.1\" 200 -\n",
      "D:\\programing\\anaconda3\\lib\\site-packages\\topicwizard\\prepare\\topics.py:92: RuntimeWarning:\n",
      "\n",
      "divide by zero encountered in log\n",
      "\n",
      "D:\\programing\\anaconda3\\lib\\site-packages\\topicwizard\\prepare\\topics.py:94: RuntimeWarning:\n",
      "\n",
      "divide by zero encountered in log\n",
      "\n",
      "D:\\programing\\anaconda3\\lib\\site-packages\\topicwizard\\prepare\\topics.py:92: RuntimeWarning:\n",
      "\n",
      "divide by zero encountered in log\n",
      "\n",
      "D:\\programing\\anaconda3\\lib\\site-packages\\topicwizard\\prepare\\topics.py:94: RuntimeWarning:\n",
      "\n",
      "divide by zero encountered in log\n",
      "\n",
      "127.0.0.1 - - [20/Oct/2023 17:14:01] \"POST /_dash-update-component HTTP/1.1\" 204 -\n",
      "127.0.0.1 - - [20/Oct/2023 17:14:02] \"POST /_dash-update-component HTTP/1.1\" 200 -\n",
      "127.0.0.1 - - [20/Oct/2023 17:14:02] \"GET / HTTP/1.1\" 200 -\n",
      "127.0.0.1 - - [20/Oct/2023 17:14:02] \"GET /_dash-dependencies HTTP/1.1\" 200 -\n",
      "127.0.0.1 - - [20/Oct/2023 17:14:03] \"GET /_dash-layout HTTP/1.1\" 200 -\n",
      "127.0.0.1 - - [20/Oct/2023 17:14:03] \"GET /assets/favicon.ico?m=1697598870.628191 HTTP/1.1\" 200 -\n",
      "127.0.0.1 - - [20/Oct/2023 17:14:03] \"GET /_dash-component-suites/dash/dcc/async-graph.js HTTP/1.1\" 200 -\n",
      "127.0.0.1 - - [20/Oct/2023 17:14:03] \"GET /_dash-component-suites/dash/dcc/async-dropdown.js HTTP/1.1\" 200 -\n",
      "127.0.0.1 - - [20/Oct/2023 17:14:03] \"GET /_dash-component-suites/dash/dcc/async-plotlyjs.js HTTP/1.1\" 200 -\n",
      "127.0.0.1 - - [20/Oct/2023 17:14:03] \"POST /_dash-update-component HTTP/1.1\" 204 -\n",
      "127.0.0.1 - - [20/Oct/2023 17:14:03] \"POST /_dash-update-component HTTP/1.1\" 200 -\n",
      "127.0.0.1 - - [20/Oct/2023 17:14:03] \"POST /_dash-update-component HTTP/1.1\" 200 -\n",
      "127.0.0.1 - - [20/Oct/2023 17:14:03] \"POST /_dash-update-component HTTP/1.1\" 204 -\n",
      "127.0.0.1 - - [20/Oct/2023 17:14:08] \"GET /_dash-component-suites/dash_iconify/async-DashIconify.js.map HTTP/1.1\" 200 -\n",
      "127.0.0.1 - - [20/Oct/2023 17:14:08] \"GET /_dash-component-suites/dash_iconify/dash_iconify.min.js.map HTTP/1.1\" 200 -\n",
      "127.0.0.1 - - [20/Oct/2023 17:14:08] \"GET /_dash-component-suites/dash_extensions/dash_extensions.min.js.map HTTP/1.1\" 200 -\n",
      "127.0.0.1 - - [20/Oct/2023 17:14:08] \"GET /_dash-component-suites/dash/dcc/async-dropdown.js.map HTTP/1.1\" 200 -\n",
      "127.0.0.1 - - [20/Oct/2023 17:14:08] \"GET /_dash-component-suites/dash/html/dash_html_components.min.js.map HTTP/1.1\" 200 -\n",
      "127.0.0.1 - - [20/Oct/2023 17:14:08] \"GET /_dash-component-suites/dash/dcc/dash_core_components.js.map HTTP/1.1\" 200 -\n",
      "127.0.0.1 - - [20/Oct/2023 17:14:08] \"GET /_dash-component-suites/dash/dcc/dash_core_components-shared.js.map HTTP/1.1\" 200 -\n",
      "127.0.0.1 - - [20/Oct/2023 17:14:08] \"GET /_dash-component-suites/dash/dash_table/bundle.js.map HTTP/1.1\" 200 -\n",
      "127.0.0.1 - - [20/Oct/2023 17:14:08] \"GET /_dash-component-suites/dash/dcc/async-graph.js.map HTTP/1.1\" 200 -\n",
      "127.0.0.1 - - [20/Oct/2023 17:14:21] \"POST /_dash-update-component HTTP/1.1\" 200 -\n",
      "127.0.0.1 - - [20/Oct/2023 17:14:21] \"POST /_dash-update-component HTTP/1.1\" 204 -\n",
      "127.0.0.1 - - [20/Oct/2023 17:14:22] \"POST /_dash-update-component HTTP/1.1\" 200 -\n",
      "127.0.0.1 - - [20/Oct/2023 17:14:22] \"POST /_dash-update-component HTTP/1.1\" 204 -\n",
      "127.0.0.1 - - [20/Oct/2023 17:15:08] \"POST /_dash-update-component HTTP/1.1\" 200 -\n",
      "127.0.0.1 - - [20/Oct/2023 17:15:08] \"POST /_dash-update-component HTTP/1.1\" 204 -\n",
      "127.0.0.1 - - [20/Oct/2023 17:15:10] \"POST /_dash-update-component HTTP/1.1\" 200 -\n",
      "127.0.0.1 - - [20/Oct/2023 17:15:10] \"POST /_dash-update-component HTTP/1.1\" 200 -\n",
      "127.0.0.1 - - [20/Oct/2023 17:15:51] \"POST /_dash-update-component HTTP/1.1\" 200 -\n",
      "127.0.0.1 - - [20/Oct/2023 17:15:51] \"POST /_dash-update-component HTTP/1.1\" 200 -\n"
     ]
    }
   ],
   "source": [
    "# Fitting pipeline\n",
    "pipeline = make_topic_pipeline(vectorizer, nmf)\n",
    "pipeline.fit(res1)\n",
    "topicwizard.visualize(res1, pipeline=pipeline,exclude_pages=[\"documents\"])"
   ]
  },
  {
   "cell_type": "markdown",
   "id": "bfd9370e-4ca5-41ea-841f-6815864e20a0",
   "metadata": {},
   "source": [
    "# LDA"
   ]
  },
  {
   "cell_type": "code",
   "execution_count": 92,
   "id": "09d280e9-e68c-413b-bb64-3b86a96e5d14",
   "metadata": {},
   "outputs": [
    {
     "data": {
      "text/html": [
       "<style>#sk-container-id-7 {color: black;background-color: white;}#sk-container-id-7 pre{padding: 0;}#sk-container-id-7 div.sk-toggleable {background-color: white;}#sk-container-id-7 label.sk-toggleable__label {cursor: pointer;display: block;width: 100%;margin-bottom: 0;padding: 0.3em;box-sizing: border-box;text-align: center;}#sk-container-id-7 label.sk-toggleable__label-arrow:before {content: \"▸\";float: left;margin-right: 0.25em;color: #696969;}#sk-container-id-7 label.sk-toggleable__label-arrow:hover:before {color: black;}#sk-container-id-7 div.sk-estimator:hover label.sk-toggleable__label-arrow:before {color: black;}#sk-container-id-7 div.sk-toggleable__content {max-height: 0;max-width: 0;overflow: hidden;text-align: left;background-color: #f0f8ff;}#sk-container-id-7 div.sk-toggleable__content pre {margin: 0.2em;color: black;border-radius: 0.25em;background-color: #f0f8ff;}#sk-container-id-7 input.sk-toggleable__control:checked~div.sk-toggleable__content {max-height: 200px;max-width: 100%;overflow: auto;}#sk-container-id-7 input.sk-toggleable__control:checked~label.sk-toggleable__label-arrow:before {content: \"▾\";}#sk-container-id-7 div.sk-estimator input.sk-toggleable__control:checked~label.sk-toggleable__label {background-color: #d4ebff;}#sk-container-id-7 div.sk-label input.sk-toggleable__control:checked~label.sk-toggleable__label {background-color: #d4ebff;}#sk-container-id-7 input.sk-hidden--visually {border: 0;clip: rect(1px 1px 1px 1px);clip: rect(1px, 1px, 1px, 1px);height: 1px;margin: -1px;overflow: hidden;padding: 0;position: absolute;width: 1px;}#sk-container-id-7 div.sk-estimator {font-family: monospace;background-color: #f0f8ff;border: 1px dotted black;border-radius: 0.25em;box-sizing: border-box;margin-bottom: 0.5em;}#sk-container-id-7 div.sk-estimator:hover {background-color: #d4ebff;}#sk-container-id-7 div.sk-parallel-item::after {content: \"\";width: 100%;border-bottom: 1px solid gray;flex-grow: 1;}#sk-container-id-7 div.sk-label:hover label.sk-toggleable__label {background-color: #d4ebff;}#sk-container-id-7 div.sk-serial::before {content: \"\";position: absolute;border-left: 1px solid gray;box-sizing: border-box;top: 0;bottom: 0;left: 50%;z-index: 0;}#sk-container-id-7 div.sk-serial {display: flex;flex-direction: column;align-items: center;background-color: white;padding-right: 0.2em;padding-left: 0.2em;position: relative;}#sk-container-id-7 div.sk-item {position: relative;z-index: 1;}#sk-container-id-7 div.sk-parallel {display: flex;align-items: stretch;justify-content: center;background-color: white;position: relative;}#sk-container-id-7 div.sk-item::before, #sk-container-id-7 div.sk-parallel-item::before {content: \"\";position: absolute;border-left: 1px solid gray;box-sizing: border-box;top: 0;bottom: 0;left: 50%;z-index: -1;}#sk-container-id-7 div.sk-parallel-item {display: flex;flex-direction: column;z-index: 1;position: relative;background-color: white;}#sk-container-id-7 div.sk-parallel-item:first-child::after {align-self: flex-end;width: 50%;}#sk-container-id-7 div.sk-parallel-item:last-child::after {align-self: flex-start;width: 50%;}#sk-container-id-7 div.sk-parallel-item:only-child::after {width: 0;}#sk-container-id-7 div.sk-dashed-wrapped {border: 1px dashed gray;margin: 0 0.4em 0.5em 0.4em;box-sizing: border-box;padding-bottom: 0.4em;background-color: white;}#sk-container-id-7 div.sk-label label {font-family: monospace;font-weight: bold;display: inline-block;line-height: 1.2em;}#sk-container-id-7 div.sk-label-container {text-align: center;}#sk-container-id-7 div.sk-container {/* jupyter's `normalize.less` sets `[hidden] { display: none; }` but bootstrap.min.css set `[hidden] { display: none !important; }` so we also need the `!important` here to be able to override the default hidden behavior on the sphinx rendered scikit-learn.org. See: https://github.com/scikit-learn/scikit-learn/issues/21755 */display: inline-block !important;position: relative;}#sk-container-id-7 div.sk-text-repr-fallback {display: none;}</style><div id=\"sk-container-id-7\" class=\"sk-top-container\"><div class=\"sk-text-repr-fallback\"><pre>TopicPipeline(steps=[(&#x27;tfidfvectorizer&#x27;,\n",
       "                      TfidfVectorizer(max_df=0.8, min_df=10,\n",
       "                                      stop_words=&#x27;english&#x27;)),\n",
       "                     (&#x27;latentdirichletallocation&#x27;,\n",
       "                      LatentDirichletAllocation(n_components=8, n_jobs=-1,\n",
       "                                                random_state=0))])</pre><b>In a Jupyter environment, please rerun this cell to show the HTML representation or trust the notebook. <br />On GitHub, the HTML representation is unable to render, please try loading this page with nbviewer.org.</b></div><div class=\"sk-container\" hidden><div class=\"sk-item sk-dashed-wrapped\"><div class=\"sk-label-container\"><div class=\"sk-label sk-toggleable\"><input class=\"sk-toggleable__control sk-hidden--visually\" id=\"sk-estimator-id-19\" type=\"checkbox\" ><label for=\"sk-estimator-id-19\" class=\"sk-toggleable__label sk-toggleable__label-arrow\">TopicPipeline</label><div class=\"sk-toggleable__content\"><pre>TopicPipeline(steps=[(&#x27;tfidfvectorizer&#x27;,\n",
       "                      TfidfVectorizer(max_df=0.8, min_df=10,\n",
       "                                      stop_words=&#x27;english&#x27;)),\n",
       "                     (&#x27;latentdirichletallocation&#x27;,\n",
       "                      LatentDirichletAllocation(n_components=8, n_jobs=-1,\n",
       "                                                random_state=0))])</pre></div></div></div><div class=\"sk-serial\"><div class=\"sk-item\"><div class=\"sk-estimator sk-toggleable\"><input class=\"sk-toggleable__control sk-hidden--visually\" id=\"sk-estimator-id-20\" type=\"checkbox\" ><label for=\"sk-estimator-id-20\" class=\"sk-toggleable__label sk-toggleable__label-arrow\">TfidfVectorizer</label><div class=\"sk-toggleable__content\"><pre>TfidfVectorizer(max_df=0.8, min_df=10, stop_words=&#x27;english&#x27;)</pre></div></div></div><div class=\"sk-item\"><div class=\"sk-estimator sk-toggleable\"><input class=\"sk-toggleable__control sk-hidden--visually\" id=\"sk-estimator-id-21\" type=\"checkbox\" ><label for=\"sk-estimator-id-21\" class=\"sk-toggleable__label sk-toggleable__label-arrow\">LatentDirichletAllocation</label><div class=\"sk-toggleable__content\"><pre>LatentDirichletAllocation(n_components=8, n_jobs=-1, random_state=0)</pre></div></div></div></div></div></div></div>"
      ],
      "text/plain": [
       "TopicPipeline(steps=[('tfidfvectorizer',\n",
       "                      TfidfVectorizer(max_df=0.8, min_df=10,\n",
       "                                      stop_words='english')),\n",
       "                     ('latentdirichletallocation',\n",
       "                      LatentDirichletAllocation(n_components=8, n_jobs=-1,\n",
       "                                                random_state=0))])"
      ]
     },
     "execution_count": 92,
     "metadata": {},
     "output_type": "execute_result"
    }
   ],
   "source": [
    "from sklearn.decomposition import LatentDirichletAllocation\n",
    "lda = LatentDirichletAllocation(n_components=8,random_state=0,n_jobs=-1)\n",
    "# vectorizer = CountVectorizer(max_df=0.8, min_df=10, stop_words=\"english\")\n",
    "vectorizer = TfidfVectorizer(max_df=0.8, min_df=10, stop_words=\"english\")\n",
    "pipeline_lda = make_topic_pipeline(vectorizer, lda)\n",
    "pipeline_lda.fit(res1)"
   ]
  },
  {
   "cell_type": "code",
   "execution_count": null,
   "id": "e8d1d93a-2629-44ab-b13f-271154ef845d",
   "metadata": {},
   "outputs": [
    {
     "name": "stdout",
     "output_type": "stream",
     "text": [
      "Preprocessing\n",
      "Dash is running on http://127.0.0.1:8050/\n",
      "\n",
      "Dash is running on http://127.0.0.1:8050/\n",
      "\n",
      "Dash is running on http://127.0.0.1:8050/\n",
      "\n",
      "Dash is running on http://127.0.0.1:8050/\n",
      "\n",
      "Dash is running on http://127.0.0.1:8050/\n",
      "\n",
      "Dash is running on http://127.0.0.1:8050/\n",
      "\n",
      " * Serving Flask app \"topicwizard.app\" (lazy loading)\n",
      " * Environment: production\n",
      "\u001b[31m   WARNING: This is a development server. Do not use it in a production deployment.\u001b[0m\n",
      "\u001b[2m   Use a production WSGI server instead.\u001b[0m\n",
      " * Debug mode: off\n"
     ]
    },
    {
     "name": "stderr",
     "output_type": "stream",
     "text": [
      " * Running on http://127.0.0.1:8050/ (Press CTRL+C to quit)\n",
      "127.0.0.1 - - [20/Oct/2023 17:33:09] \"GET / HTTP/1.1\" 200 -\n",
      "127.0.0.1 - - [20/Oct/2023 17:33:10] \"GET /_dash-dependencies HTTP/1.1\" 200 -\n",
      "127.0.0.1 - - [20/Oct/2023 17:33:10] \"GET /_dash-layout HTTP/1.1\" 200 -\n",
      "127.0.0.1 - - [20/Oct/2023 17:33:10] \"GET /_dash-component-suites/dash/dcc/async-plotlyjs.js HTTP/1.1\" 200 -\n",
      "127.0.0.1 - - [20/Oct/2023 17:33:10] \"POST /_dash-update-component HTTP/1.1\" 204 -\n",
      "127.0.0.1 - - [20/Oct/2023 17:33:10] \"GET /_dash-component-suites/dash/dcc/async-graph.js HTTP/1.1\" 200 -\n",
      "127.0.0.1 - - [20/Oct/2023 17:33:10] \"GET /_dash-component-suites/dash/dcc/async-dropdown.js HTTP/1.1\" 200 -\n",
      "127.0.0.1 - - [20/Oct/2023 17:33:10] \"POST /_dash-update-component HTTP/1.1\" 200 -\n",
      "127.0.0.1 - - [20/Oct/2023 17:33:10] \"POST /_dash-update-component HTTP/1.1\" 204 -\n",
      "127.0.0.1 - - [20/Oct/2023 17:33:12] \"POST /_dash-update-component HTTP/1.1\" 200 -\n",
      "127.0.0.1 - - [20/Oct/2023 17:33:31] \"POST /_dash-update-component HTTP/1.1\" 204 -\n",
      "127.0.0.1 - - [20/Oct/2023 17:33:32] \"POST /_dash-update-component HTTP/1.1\" 204 -\n",
      "127.0.0.1 - - [20/Oct/2023 17:33:32] \"POST /_dash-update-component HTTP/1.1\" 200 -\n",
      "127.0.0.1 - - [20/Oct/2023 17:33:32] \"POST /_dash-update-component HTTP/1.1\" 204 -\n",
      "127.0.0.1 - - [20/Oct/2023 17:33:33] \"POST /_dash-update-component HTTP/1.1\" 204 -\n",
      "127.0.0.1 - - [20/Oct/2023 17:33:33] \"POST /_dash-update-component HTTP/1.1\" 200 -\n",
      "127.0.0.1 - - [20/Oct/2023 17:33:34] \"POST /_dash-update-component HTTP/1.1\" 200 -\n",
      "127.0.0.1 - - [20/Oct/2023 17:33:34] \"POST /_dash-update-component HTTP/1.1\" 204 -\n",
      "127.0.0.1 - - [20/Oct/2023 17:33:34] \"POST /_dash-update-component HTTP/1.1\" 200 -\n",
      "127.0.0.1 - - [20/Oct/2023 17:33:35] \"POST /_dash-update-component HTTP/1.1\" 200 -\n",
      "127.0.0.1 - - [20/Oct/2023 17:33:35] \"POST /_dash-update-component HTTP/1.1\" 204 -\n",
      "127.0.0.1 - - [20/Oct/2023 17:33:36] \"POST /_dash-update-component HTTP/1.1\" 204 -\n",
      "127.0.0.1 - - [20/Oct/2023 17:33:37] \"POST /_dash-update-component HTTP/1.1\" 200 -\n",
      "127.0.0.1 - - [20/Oct/2023 17:33:37] \"POST /_dash-update-component HTTP/1.1\" 200 -\n",
      "127.0.0.1 - - [20/Oct/2023 17:33:39] \"POST /_dash-update-component HTTP/1.1\" 204 -\n",
      "127.0.0.1 - - [20/Oct/2023 17:33:40] \"POST /_dash-update-component HTTP/1.1\" 200 -\n",
      "127.0.0.1 - - [20/Oct/2023 17:33:41] \"POST /_dash-update-component HTTP/1.1\" 200 -\n",
      "127.0.0.1 - - [20/Oct/2023 17:33:41] \"POST /_dash-update-component HTTP/1.1\" 204 -\n",
      "127.0.0.1 - - [20/Oct/2023 17:33:41] \"POST /_dash-update-component HTTP/1.1\" 200 -\n",
      "127.0.0.1 - - [20/Oct/2023 17:33:41] \"POST /_dash-update-component HTTP/1.1\" 204 -\n",
      "127.0.0.1 - - [20/Oct/2023 17:33:43] \"POST /_dash-update-component HTTP/1.1\" 200 -\n",
      "127.0.0.1 - - [20/Oct/2023 17:33:43] \"POST /_dash-update-component HTTP/1.1\" 204 -\n",
      "127.0.0.1 - - [20/Oct/2023 17:33:44] \"POST /_dash-update-component HTTP/1.1\" 200 -\n",
      "127.0.0.1 - - [20/Oct/2023 17:33:44] \"POST /_dash-update-component HTTP/1.1\" 204 -\n",
      "127.0.0.1 - - [20/Oct/2023 17:33:46] \"POST /_dash-update-component HTTP/1.1\" 200 -\n",
      "127.0.0.1 - - [20/Oct/2023 17:33:46] \"POST /_dash-update-component HTTP/1.1\" 204 -\n",
      "127.0.0.1 - - [20/Oct/2023 17:33:48] \"POST /_dash-update-component HTTP/1.1\" 200 -\n",
      "127.0.0.1 - - [20/Oct/2023 17:33:48] \"POST /_dash-update-component HTTP/1.1\" 204 -\n",
      "127.0.0.1 - - [20/Oct/2023 17:33:50] \"POST /_dash-update-component HTTP/1.1\" 200 -\n",
      "127.0.0.1 - - [20/Oct/2023 17:33:50] \"POST /_dash-update-component HTTP/1.1\" 204 -\n",
      "127.0.0.1 - - [20/Oct/2023 17:33:57] \"POST /_dash-update-component HTTP/1.1\" 204 -\n",
      "127.0.0.1 - - [20/Oct/2023 17:33:59] \"POST /_dash-update-component HTTP/1.1\" 200 -\n",
      "127.0.0.1 - - [20/Oct/2023 17:34:01] \"POST /_dash-update-component HTTP/1.1\" 200 -\n",
      "127.0.0.1 - - [20/Oct/2023 17:34:01] \"POST /_dash-update-component HTTP/1.1\" 204 -\n",
      "127.0.0.1 - - [20/Oct/2023 17:34:04] \"POST /_dash-update-component HTTP/1.1\" 200 -\n",
      "127.0.0.1 - - [20/Oct/2023 17:34:04] \"POST /_dash-update-component HTTP/1.1\" 204 -\n",
      "127.0.0.1 - - [20/Oct/2023 17:34:06] \"POST /_dash-update-component HTTP/1.1\" 200 -\n",
      "127.0.0.1 - - [20/Oct/2023 17:34:06] \"POST /_dash-update-component HTTP/1.1\" 204 -\n",
      "127.0.0.1 - - [20/Oct/2023 17:34:30] \"POST /_dash-update-component HTTP/1.1\" 200 -\n",
      "127.0.0.1 - - [20/Oct/2023 17:34:30] \"POST /_dash-update-component HTTP/1.1\" 204 -\n",
      "127.0.0.1 - - [20/Oct/2023 17:34:32] \"POST /_dash-update-component HTTP/1.1\" 200 -\n",
      "127.0.0.1 - - [20/Oct/2023 17:34:32] \"POST /_dash-update-component HTTP/1.1\" 204 -\n",
      "127.0.0.1 - - [20/Oct/2023 17:34:36] \"POST /_dash-update-component HTTP/1.1\" 200 -\n",
      "127.0.0.1 - - [20/Oct/2023 17:34:36] \"POST /_dash-update-component HTTP/1.1\" 204 -\n",
      "127.0.0.1 - - [20/Oct/2023 17:34:42] \"POST /_dash-update-component HTTP/1.1\" 200 -\n",
      "127.0.0.1 - - [20/Oct/2023 17:34:42] \"POST /_dash-update-component HTTP/1.1\" 204 -\n"
     ]
    }
   ],
   "source": [
    "topicwizard.visualize(res1, pipeline=pipeline_lda,exclude_pages=[\"documents\"])"
   ]
  },
  {
   "cell_type": "markdown",
   "id": "371088ba-d9dd-4a94-9349-e8524bd6a2e6",
   "metadata": {},
   "source": [
    "# Evaluation"
   ]
  },
  {
   "cell_type": "code",
   "execution_count": null,
   "id": "3fdb47b5-e2a6-404e-9548-9e9549040171",
   "metadata": {},
   "outputs": [],
   "source": []
  },
  {
   "cell_type": "code",
   "execution_count": 25,
   "id": "93e99101-1f30-4659-bb34-e9ee5cd9d8fc",
   "metadata": {},
   "outputs": [
    {
     "data": {
      "text/plain": [
       "728.3351516442941"
      ]
     },
     "execution_count": 25,
     "metadata": {},
     "output_type": "execute_result"
    }
   ],
   "source": [
    "lda.perplexity(vectorizer.transform(res1))"
   ]
  },
  {
   "cell_type": "code",
   "execution_count": 27,
   "id": "df9c67af-c229-438a-b026-33265f139b3c",
   "metadata": {},
   "outputs": [],
   "source": [
    "import math\n",
    "def get_umass_score(dt_matrix, i, j):\n",
    "    zo_matrix = (dt_matrix > 0).astype(int)\n",
    "    col_i, col_j = zo_matrix[:, i], zo_matrix[:, j]\n",
    "    col_ij = col_i + col_j\n",
    "    col_ij = (col_ij == 2).astype(int)    \n",
    "    Di, Dij = col_i.sum(), col_ij.sum()    \n",
    "    return math.log((Dij + 1) / Di)\n",
    "\n",
    "def get_topic_coherence(dt_matrix, topic, n_top_words):\n",
    "    indexed_topic = zip(topic, range(0, len(topic)))\n",
    "    topic_top = sorted(indexed_topic, key=lambda x: 1 - x[0])[0:n_top_words]\n",
    "    coherence = 0\n",
    "    for j_index in range(0, len(topic_top)):\n",
    "        for i_index in range(0, j_index - 1):\n",
    "            i = topic_top[i_index][1]\n",
    "            j = topic_top[j_index][1]\n",
    "            coherence += get_umass_score(dt_matrix, i, j)\n",
    "    return coherence\n",
    "\n",
    "def get_average_topic_coherence(dt_matrix, topics, n_top_words):\n",
    "    total_coherence = 0\n",
    "    for i in range(0, len(topics)):\n",
    "        total_coherence += get_topic_coherence(dt_matrix, topics[i], n_top_words)\n",
    "    return total_coherence / len(topics)"
   ]
  },
  {
   "cell_type": "code",
   "execution_count": 28,
   "id": "e8722331-5d71-4220-b691-434e02ca9359",
   "metadata": {},
   "outputs": [],
   "source": [
    "avg_coherence = get_average_topic_coherence(vectorizer.transform(res1), lda.components_, 10)"
   ]
  },
  {
   "cell_type": "code",
   "execution_count": 29,
   "id": "a410dc8a-c5df-4673-a393-2e03338ec956",
   "metadata": {},
   "outputs": [
    {
     "data": {
      "text/plain": [
       "-72.91902301423343"
      ]
     },
     "execution_count": 29,
     "metadata": {},
     "output_type": "execute_result"
    }
   ],
   "source": [
    "avg_coherence"
   ]
  },
  {
   "cell_type": "code",
   "execution_count": 30,
   "id": "b261eb26-1af2-4c69-be47-14fd79b0ce3f",
   "metadata": {},
   "outputs": [],
   "source": [
    "avg_coherence = get_average_topic_coherence(vectorizer.transform(res1), nmf.components_, 10)"
   ]
  },
  {
   "cell_type": "code",
   "execution_count": 31,
   "id": "624b3f66-9bae-43f7-aa15-6239c40e3ca3",
   "metadata": {},
   "outputs": [
    {
     "data": {
      "text/plain": [
       "-70.43615499524506"
      ]
     },
     "execution_count": 31,
     "metadata": {},
     "output_type": "execute_result"
    }
   ],
   "source": [
    "avg_coherence"
   ]
  },
  {
   "cell_type": "markdown",
   "id": "e071e323-4193-40ee-bef3-f95c914e4b5f",
   "metadata": {},
   "source": [
    "# Sensitivity"
   ]
  },
  {
   "cell_type": "code",
   "execution_count": 53,
   "id": "d8eff25a-2071-4ed1-bbef-1e8546fa9584",
   "metadata": {},
   "outputs": [
    {
     "data": {
      "text/plain": [
       "array([0.05, 0.1 , 0.15, 0.2 , 0.25, 0.3 ])"
      ]
     },
     "execution_count": 53,
     "metadata": {},
     "output_type": "execute_result"
    }
   ],
   "source": [
    "np.linspace(0.05, 0.3, 6)"
   ]
  },
  {
   "cell_type": "code",
   "execution_count": 63,
   "id": "9c076c90-e34f-4f57-9354-34861ef0788b",
   "metadata": {},
   "outputs": [
    {
     "data": {
      "text/plain": [
       "[[0.21287496748707432, 2617.7058723474015],\n",
       " [0.21287496748707432, 2617.7058723474015],\n",
       " [0.21287496748707432, 2617.7058723474015],\n",
       " [0.21287496748707432, 2617.7058723474015]]"
      ]
     },
     "execution_count": 63,
     "metadata": {},
     "output_type": "execute_result"
    }
   ],
   "source": []
  },
  {
   "cell_type": "code",
   "execution_count": 73,
   "id": "b9fbf2cc-503f-4cef-b7ab-4660502fee27",
   "metadata": {
    "tags": []
   },
   "outputs": [
    {
     "name": "stderr",
     "output_type": "stream",
     "text": [
      "100%|███████████████████████████████████████████████████████████████████████████████████| 6/6 [28:39<00:00, 286.63s/it]\n"
     ]
    }
   ],
   "source": [
    "vectorizer = TfidfVectorizer(max_df=0.8, min_df=10, stop_words=\"english\")\n",
    "tf_idf_vec = vectorizer.fit_transform(res1)\n",
    "# tf_idf_vec_test = vectorizer.fit_transform(res1_test)\n",
    "terms =  list(vectorizer.get_feature_names_out())\n",
    "score_res = []\n",
    "for i in tqdm(np.linspace(0.05, 0.2, 6)):\n",
    "    for j in np.linspace(0.05, 0.3, 6):    \n",
    "        lda = LatentDirichletAllocation(n_components=8,random_state=0,n_jobs=-1,doc_topic_prior=i,topic_word_prior=j)\n",
    "        lda.fit(tf_idf_vec)\n",
    "        H = lda.components_ \n",
    "        term_rankings=[]\n",
    "        for topic_index in range(8):\n",
    "            term_rankings.append(get_descriptor(terms, H, topic_index, 10))\n",
    "        lda_score = calculate_coherence(glove_model, term_rankings)\n",
    "        perplexity = lda.perplexity(tf_idf_vec_test)\n",
    "        score_res.append([i, j, lda_score, perplexity, lda])\n"
   ]
  },
  {
   "cell_type": "code",
   "execution_count": 75,
   "id": "0e825951-4abf-40ac-8f25-f5a95104b936",
   "metadata": {},
   "outputs": [],
   "source": [
    "sensitivity_score = pd.DataFrame([x[:-1] for x in score_res], columns = ['doc_topic_prior', 'topic_word_prior', 'coherence','perplexity'])"
   ]
  },
  {
   "cell_type": "code",
   "execution_count": 76,
   "id": "b20f81c7-455a-4b59-a922-9b06be290f0b",
   "metadata": {},
   "outputs": [
    {
     "data": {
      "text/html": [
       "<div>\n",
       "<style scoped>\n",
       "    .dataframe tbody tr th:only-of-type {\n",
       "        vertical-align: middle;\n",
       "    }\n",
       "\n",
       "    .dataframe tbody tr th {\n",
       "        vertical-align: top;\n",
       "    }\n",
       "\n",
       "    .dataframe thead th {\n",
       "        text-align: right;\n",
       "    }\n",
       "</style>\n",
       "<table border=\"1\" class=\"dataframe\">\n",
       "  <thead>\n",
       "    <tr style=\"text-align: right;\">\n",
       "      <th>topic_word_prior</th>\n",
       "      <th>0.05</th>\n",
       "      <th>0.10</th>\n",
       "      <th>0.15</th>\n",
       "      <th>0.20</th>\n",
       "      <th>0.25</th>\n",
       "      <th>0.30</th>\n",
       "    </tr>\n",
       "    <tr>\n",
       "      <th>doc_topic_prior</th>\n",
       "      <th></th>\n",
       "      <th></th>\n",
       "      <th></th>\n",
       "      <th></th>\n",
       "      <th></th>\n",
       "      <th></th>\n",
       "    </tr>\n",
       "  </thead>\n",
       "  <tbody>\n",
       "    <tr>\n",
       "      <th>0.05</th>\n",
       "      <td>0.614032</td>\n",
       "      <td>0.612816</td>\n",
       "      <td>0.613805</td>\n",
       "      <td>0.613805</td>\n",
       "      <td>0.613805</td>\n",
       "      <td>0.613805</td>\n",
       "    </tr>\n",
       "    <tr>\n",
       "      <th>0.08</th>\n",
       "      <td>0.619294</td>\n",
       "      <td>0.618078</td>\n",
       "      <td>0.618078</td>\n",
       "      <td>0.613958</td>\n",
       "      <td>0.619448</td>\n",
       "      <td>0.612547</td>\n",
       "    </tr>\n",
       "    <tr>\n",
       "      <th>0.11</th>\n",
       "      <td>0.613024</td>\n",
       "      <td>0.613116</td>\n",
       "      <td>0.613270</td>\n",
       "      <td>0.592325</td>\n",
       "      <td>0.587604</td>\n",
       "      <td>0.587604</td>\n",
       "    </tr>\n",
       "    <tr>\n",
       "      <th>0.14</th>\n",
       "      <td>0.607966</td>\n",
       "      <td>0.608955</td>\n",
       "      <td>0.608174</td>\n",
       "      <td>0.609242</td>\n",
       "      <td>0.604304</td>\n",
       "      <td>0.602364</td>\n",
       "    </tr>\n",
       "    <tr>\n",
       "      <th>0.17</th>\n",
       "      <td>0.605106</td>\n",
       "      <td>0.605106</td>\n",
       "      <td>0.597409</td>\n",
       "      <td>0.596370</td>\n",
       "      <td>0.596496</td>\n",
       "      <td>0.597592</td>\n",
       "    </tr>\n",
       "    <tr>\n",
       "      <th>0.20</th>\n",
       "      <td>0.591605</td>\n",
       "      <td>0.592476</td>\n",
       "      <td>0.590624</td>\n",
       "      <td>0.590067</td>\n",
       "      <td>0.591957</td>\n",
       "      <td>0.591957</td>\n",
       "    </tr>\n",
       "  </tbody>\n",
       "</table>\n",
       "</div>"
      ],
      "text/plain": [
       "topic_word_prior      0.05      0.10      0.15      0.20      0.25      0.30\n",
       "doc_topic_prior                                                             \n",
       "0.05              0.614032  0.612816  0.613805  0.613805  0.613805  0.613805\n",
       "0.08              0.619294  0.618078  0.618078  0.613958  0.619448  0.612547\n",
       "0.11              0.613024  0.613116  0.613270  0.592325  0.587604  0.587604\n",
       "0.14              0.607966  0.608955  0.608174  0.609242  0.604304  0.602364\n",
       "0.17              0.605106  0.605106  0.597409  0.596370  0.596496  0.597592\n",
       "0.20              0.591605  0.592476  0.590624  0.590067  0.591957  0.591957"
      ]
     },
     "execution_count": 76,
     "metadata": {},
     "output_type": "execute_result"
    }
   ],
   "source": [
    "sensitivity_score.pivot_table(index='doc_topic_prior', columns = 'topic_word_prior', values = 'coherence')"
   ]
  },
  {
   "cell_type": "code",
   "execution_count": 77,
   "id": "039db5fa-e54c-4ab7-ae1b-b089c76bf843",
   "metadata": {},
   "outputs": [
    {
     "data": {
      "text/html": [
       "<div>\n",
       "<style scoped>\n",
       "    .dataframe tbody tr th:only-of-type {\n",
       "        vertical-align: middle;\n",
       "    }\n",
       "\n",
       "    .dataframe tbody tr th {\n",
       "        vertical-align: top;\n",
       "    }\n",
       "\n",
       "    .dataframe thead th {\n",
       "        text-align: right;\n",
       "    }\n",
       "</style>\n",
       "<table border=\"1\" class=\"dataframe\">\n",
       "  <thead>\n",
       "    <tr style=\"text-align: right;\">\n",
       "      <th>topic_word_prior</th>\n",
       "      <th>0.05</th>\n",
       "      <th>0.10</th>\n",
       "      <th>0.15</th>\n",
       "      <th>0.20</th>\n",
       "      <th>0.25</th>\n",
       "      <th>0.30</th>\n",
       "    </tr>\n",
       "    <tr>\n",
       "      <th>doc_topic_prior</th>\n",
       "      <th></th>\n",
       "      <th></th>\n",
       "      <th></th>\n",
       "      <th></th>\n",
       "      <th></th>\n",
       "      <th></th>\n",
       "    </tr>\n",
       "  </thead>\n",
       "  <tbody>\n",
       "    <tr>\n",
       "      <th>0.05</th>\n",
       "      <td>77944.442772</td>\n",
       "      <td>63438.360544</td>\n",
       "      <td>55316.775947</td>\n",
       "      <td>50486.717441</td>\n",
       "      <td>47579.443662</td>\n",
       "      <td>44890.047694</td>\n",
       "    </tr>\n",
       "    <tr>\n",
       "      <th>0.08</th>\n",
       "      <td>70695.939874</td>\n",
       "      <td>59101.417518</td>\n",
       "      <td>53678.683834</td>\n",
       "      <td>49597.018914</td>\n",
       "      <td>47377.456240</td>\n",
       "      <td>44970.905960</td>\n",
       "    </tr>\n",
       "    <tr>\n",
       "      <th>0.11</th>\n",
       "      <td>65751.774993</td>\n",
       "      <td>56283.910562</td>\n",
       "      <td>52195.922469</td>\n",
       "      <td>48921.997905</td>\n",
       "      <td>46451.041699</td>\n",
       "      <td>44496.196592</td>\n",
       "    </tr>\n",
       "    <tr>\n",
       "      <th>0.14</th>\n",
       "      <td>63253.270370</td>\n",
       "      <td>54461.032206</td>\n",
       "      <td>51227.271621</td>\n",
       "      <td>48527.591142</td>\n",
       "      <td>46280.654185</td>\n",
       "      <td>44450.893117</td>\n",
       "    </tr>\n",
       "    <tr>\n",
       "      <th>0.17</th>\n",
       "      <td>60248.733315</td>\n",
       "      <td>53100.088819</td>\n",
       "      <td>49820.009074</td>\n",
       "      <td>47785.375520</td>\n",
       "      <td>46048.885195</td>\n",
       "      <td>44503.300653</td>\n",
       "    </tr>\n",
       "    <tr>\n",
       "      <th>0.20</th>\n",
       "      <td>56826.679069</td>\n",
       "      <td>51793.921076</td>\n",
       "      <td>48174.138625</td>\n",
       "      <td>46761.251817</td>\n",
       "      <td>45333.855115</td>\n",
       "      <td>44130.322975</td>\n",
       "    </tr>\n",
       "  </tbody>\n",
       "</table>\n",
       "</div>"
      ],
      "text/plain": [
       "topic_word_prior          0.05          0.10          0.15          0.20  \\\n",
       "doc_topic_prior                                                            \n",
       "0.05              77944.442772  63438.360544  55316.775947  50486.717441   \n",
       "0.08              70695.939874  59101.417518  53678.683834  49597.018914   \n",
       "0.11              65751.774993  56283.910562  52195.922469  48921.997905   \n",
       "0.14              63253.270370  54461.032206  51227.271621  48527.591142   \n",
       "0.17              60248.733315  53100.088819  49820.009074  47785.375520   \n",
       "0.20              56826.679069  51793.921076  48174.138625  46761.251817   \n",
       "\n",
       "topic_word_prior          0.25          0.30  \n",
       "doc_topic_prior                               \n",
       "0.05              47579.443662  44890.047694  \n",
       "0.08              47377.456240  44970.905960  \n",
       "0.11              46451.041699  44496.196592  \n",
       "0.14              46280.654185  44450.893117  \n",
       "0.17              46048.885195  44503.300653  \n",
       "0.20              45333.855115  44130.322975  "
      ]
     },
     "execution_count": 77,
     "metadata": {},
     "output_type": "execute_result"
    }
   ],
   "source": [
    "sensitivity_score.pivot_table(index='doc_topic_prior', columns = 'topic_word_prior', values = 'perplexity')"
   ]
  },
  {
   "cell_type": "code",
   "execution_count": null,
   "id": "29c9c49e-a287-48e8-89e9-15124a8f1c7f",
   "metadata": {},
   "outputs": [],
   "source": []
  }
 ],
 "metadata": {
  "kernelspec": {
   "display_name": "Python 3 (ipykernel)",
   "language": "python",
   "name": "python3"
  },
  "language_info": {
   "codemirror_mode": {
    "name": "ipython",
    "version": 3
   },
   "file_extension": ".py",
   "mimetype": "text/x-python",
   "name": "python",
   "nbconvert_exporter": "python",
   "pygments_lexer": "ipython3",
   "version": "3.9.13"
  },
  "widgets": {
   "application/vnd.jupyter.widget-state+json": {
    "state": {},
    "version_major": 2,
    "version_minor": 0
   }
  }
 },
 "nbformat": 4,
 "nbformat_minor": 5
}
