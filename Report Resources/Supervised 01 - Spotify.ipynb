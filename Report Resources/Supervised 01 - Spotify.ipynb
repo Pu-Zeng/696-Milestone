{
 "cells": [
  {
   "cell_type": "code",
   "execution_count": 1,
   "id": "26abd0d4-6e64-4dc1-b57b-d9f22d0cc545",
   "metadata": {},
   "outputs": [],
   "source": [
    "import pandas as pd\n",
    "import numpy as np\n",
    "import matplotlib.pyplot as plt\n",
    "from sklearn.metrics import classification_report, confusion_matrix  \n",
    "from sklearn.model_selection import GridSearchCV, cross_val_score, cross_val_predict, StratifiedKFold\n",
    "import time"
   ]
  },
  {
   "cell_type": "code",
   "execution_count": 2,
   "id": "7c11eb6e",
   "metadata": {},
   "outputs": [],
   "source": [
    "# !pip install mlxtend"
   ]
  },
  {
   "cell_type": "markdown",
   "id": "682bf94d",
   "metadata": {},
   "source": [
    "## Data Loading and Exploration"
   ]
  },
  {
   "cell_type": "code",
   "execution_count": 3,
   "id": "eec799d1-2261-495a-8895-db2cba0eefdc",
   "metadata": {},
   "outputs": [],
   "source": [
    "data = pd.read_csv('spotify_songs.csv')"
   ]
  },
  {
   "cell_type": "code",
   "execution_count": 4,
   "id": "0f2c5c90",
   "metadata": {},
   "outputs": [
    {
     "data": {
      "text/html": [
       "<div>\n",
       "<style scoped>\n",
       "    .dataframe tbody tr th:only-of-type {\n",
       "        vertical-align: middle;\n",
       "    }\n",
       "\n",
       "    .dataframe tbody tr th {\n",
       "        vertical-align: top;\n",
       "    }\n",
       "\n",
       "    .dataframe thead th {\n",
       "        text-align: right;\n",
       "    }\n",
       "</style>\n",
       "<table border=\"1\" class=\"dataframe\">\n",
       "  <thead>\n",
       "    <tr style=\"text-align: right;\">\n",
       "      <th></th>\n",
       "      <th>track_id</th>\n",
       "      <th>track_name</th>\n",
       "      <th>track_artist</th>\n",
       "      <th>lyrics</th>\n",
       "      <th>track_popularity</th>\n",
       "      <th>track_album_id</th>\n",
       "      <th>track_album_name</th>\n",
       "      <th>track_album_release_date</th>\n",
       "      <th>playlist_name</th>\n",
       "      <th>playlist_id</th>\n",
       "      <th>...</th>\n",
       "      <th>loudness</th>\n",
       "      <th>mode</th>\n",
       "      <th>speechiness</th>\n",
       "      <th>acousticness</th>\n",
       "      <th>instrumentalness</th>\n",
       "      <th>liveness</th>\n",
       "      <th>valence</th>\n",
       "      <th>tempo</th>\n",
       "      <th>duration_ms</th>\n",
       "      <th>language</th>\n",
       "    </tr>\n",
       "  </thead>\n",
       "  <tbody>\n",
       "    <tr>\n",
       "      <th>0</th>\n",
       "      <td>0017A6SJgTbfQVU2EtsPNo</td>\n",
       "      <td>Pangarap</td>\n",
       "      <td>Barbie's Cradle</td>\n",
       "      <td>Minsan pa Nang ako'y napalingon Hindi ko alam ...</td>\n",
       "      <td>41</td>\n",
       "      <td>1srJQ0njEQgd8w4XSqI4JQ</td>\n",
       "      <td>Trip</td>\n",
       "      <td>2001-01-01</td>\n",
       "      <td>Pinoy Classic Rock</td>\n",
       "      <td>37i9dQZF1DWYDQ8wBxd7xt</td>\n",
       "      <td>...</td>\n",
       "      <td>-10.068</td>\n",
       "      <td>1</td>\n",
       "      <td>0.0236</td>\n",
       "      <td>0.27900</td>\n",
       "      <td>0.01170</td>\n",
       "      <td>0.0887</td>\n",
       "      <td>0.566</td>\n",
       "      <td>97.091</td>\n",
       "      <td>235440</td>\n",
       "      <td>tl</td>\n",
       "    </tr>\n",
       "    <tr>\n",
       "      <th>1</th>\n",
       "      <td>004s3t0ONYlzxII9PLgU6z</td>\n",
       "      <td>I Feel Alive</td>\n",
       "      <td>Steady Rollin</td>\n",
       "      <td>The trees, are singing in the wind The sky blu...</td>\n",
       "      <td>28</td>\n",
       "      <td>3z04Lb9Dsilqw68SHt6jLB</td>\n",
       "      <td>Love &amp; Loss</td>\n",
       "      <td>2017-11-21</td>\n",
       "      <td>Hard Rock Workout</td>\n",
       "      <td>3YouF0u7waJnolytf9JCXf</td>\n",
       "      <td>...</td>\n",
       "      <td>-4.739</td>\n",
       "      <td>1</td>\n",
       "      <td>0.0442</td>\n",
       "      <td>0.01170</td>\n",
       "      <td>0.00994</td>\n",
       "      <td>0.3470</td>\n",
       "      <td>0.404</td>\n",
       "      <td>135.225</td>\n",
       "      <td>373512</td>\n",
       "      <td>en</td>\n",
       "    </tr>\n",
       "    <tr>\n",
       "      <th>2</th>\n",
       "      <td>00chLpzhgVjxs1zKC9UScL</td>\n",
       "      <td>Poison</td>\n",
       "      <td>Bell Biv DeVoe</td>\n",
       "      <td>NA Yeah, Spyderman and Freeze in full effect U...</td>\n",
       "      <td>0</td>\n",
       "      <td>6oZ6brjB8x3GoeSYdwJdPc</td>\n",
       "      <td>Gold</td>\n",
       "      <td>2005-01-01</td>\n",
       "      <td>Back in the day - R&amp;B, New Jack Swing, Swingbe...</td>\n",
       "      <td>3a9y4eeCJRmG9p4YKfqYIx</td>\n",
       "      <td>...</td>\n",
       "      <td>-7.504</td>\n",
       "      <td>0</td>\n",
       "      <td>0.2160</td>\n",
       "      <td>0.00432</td>\n",
       "      <td>0.00723</td>\n",
       "      <td>0.4890</td>\n",
       "      <td>0.650</td>\n",
       "      <td>111.904</td>\n",
       "      <td>262467</td>\n",
       "      <td>en</td>\n",
       "    </tr>\n",
       "    <tr>\n",
       "      <th>3</th>\n",
       "      <td>00cqd6ZsSkLZqGMlQCR0Zo</td>\n",
       "      <td>Baby It's Cold Outside (feat. Christina Aguilera)</td>\n",
       "      <td>CeeLo Green</td>\n",
       "      <td>I really can't stay Baby it's cold outside I'v...</td>\n",
       "      <td>41</td>\n",
       "      <td>3ssspRe42CXkhPxdc12xcp</td>\n",
       "      <td>CeeLo's Magic Moment</td>\n",
       "      <td>2012-10-29</td>\n",
       "      <td>Christmas Soul</td>\n",
       "      <td>6FZYc2BvF7tColxO8PBShV</td>\n",
       "      <td>...</td>\n",
       "      <td>-5.819</td>\n",
       "      <td>0</td>\n",
       "      <td>0.0341</td>\n",
       "      <td>0.68900</td>\n",
       "      <td>0.00000</td>\n",
       "      <td>0.0664</td>\n",
       "      <td>0.405</td>\n",
       "      <td>118.593</td>\n",
       "      <td>243067</td>\n",
       "      <td>en</td>\n",
       "    </tr>\n",
       "    <tr>\n",
       "      <th>4</th>\n",
       "      <td>00emjlCv9azBN0fzuuyLqy</td>\n",
       "      <td>Dumb Litty</td>\n",
       "      <td>KARD</td>\n",
       "      <td>Get up out of my business You don't keep me fr...</td>\n",
       "      <td>65</td>\n",
       "      <td>7h5X3xhh3peIK9Y0qI5hbK</td>\n",
       "      <td>KARD 2nd Digital Single ‘Dumb Litty’</td>\n",
       "      <td>2019-09-22</td>\n",
       "      <td>K-Party Dance Mix</td>\n",
       "      <td>37i9dQZF1DX4RDXswvP6Mj</td>\n",
       "      <td>...</td>\n",
       "      <td>-1.993</td>\n",
       "      <td>1</td>\n",
       "      <td>0.0409</td>\n",
       "      <td>0.03700</td>\n",
       "      <td>0.00000</td>\n",
       "      <td>0.1380</td>\n",
       "      <td>0.240</td>\n",
       "      <td>130.018</td>\n",
       "      <td>193160</td>\n",
       "      <td>en</td>\n",
       "    </tr>\n",
       "  </tbody>\n",
       "</table>\n",
       "<p>5 rows × 25 columns</p>\n",
       "</div>"
      ],
      "text/plain": [
       "                 track_id                                         track_name  \\\n",
       "0  0017A6SJgTbfQVU2EtsPNo                                           Pangarap   \n",
       "1  004s3t0ONYlzxII9PLgU6z                                       I Feel Alive   \n",
       "2  00chLpzhgVjxs1zKC9UScL                                             Poison   \n",
       "3  00cqd6ZsSkLZqGMlQCR0Zo  Baby It's Cold Outside (feat. Christina Aguilera)   \n",
       "4  00emjlCv9azBN0fzuuyLqy                                         Dumb Litty   \n",
       "\n",
       "      track_artist                                             lyrics  \\\n",
       "0  Barbie's Cradle  Minsan pa Nang ako'y napalingon Hindi ko alam ...   \n",
       "1    Steady Rollin  The trees, are singing in the wind The sky blu...   \n",
       "2   Bell Biv DeVoe  NA Yeah, Spyderman and Freeze in full effect U...   \n",
       "3      CeeLo Green  I really can't stay Baby it's cold outside I'v...   \n",
       "4             KARD  Get up out of my business You don't keep me fr...   \n",
       "\n",
       "   track_popularity          track_album_id  \\\n",
       "0                41  1srJQ0njEQgd8w4XSqI4JQ   \n",
       "1                28  3z04Lb9Dsilqw68SHt6jLB   \n",
       "2                 0  6oZ6brjB8x3GoeSYdwJdPc   \n",
       "3                41  3ssspRe42CXkhPxdc12xcp   \n",
       "4                65  7h5X3xhh3peIK9Y0qI5hbK   \n",
       "\n",
       "                       track_album_name track_album_release_date  \\\n",
       "0                                  Trip               2001-01-01   \n",
       "1                           Love & Loss               2017-11-21   \n",
       "2                                  Gold               2005-01-01   \n",
       "3                  CeeLo's Magic Moment               2012-10-29   \n",
       "4  KARD 2nd Digital Single ‘Dumb Litty’               2019-09-22   \n",
       "\n",
       "                                       playlist_name             playlist_id  \\\n",
       "0                                 Pinoy Classic Rock  37i9dQZF1DWYDQ8wBxd7xt   \n",
       "1                                  Hard Rock Workout  3YouF0u7waJnolytf9JCXf   \n",
       "2  Back in the day - R&B, New Jack Swing, Swingbe...  3a9y4eeCJRmG9p4YKfqYIx   \n",
       "3                                     Christmas Soul  6FZYc2BvF7tColxO8PBShV   \n",
       "4                                  K-Party Dance Mix  37i9dQZF1DX4RDXswvP6Mj   \n",
       "\n",
       "   ... loudness mode  speechiness  acousticness  instrumentalness  liveness  \\\n",
       "0  ...  -10.068    1       0.0236       0.27900           0.01170    0.0887   \n",
       "1  ...   -4.739    1       0.0442       0.01170           0.00994    0.3470   \n",
       "2  ...   -7.504    0       0.2160       0.00432           0.00723    0.4890   \n",
       "3  ...   -5.819    0       0.0341       0.68900           0.00000    0.0664   \n",
       "4  ...   -1.993    1       0.0409       0.03700           0.00000    0.1380   \n",
       "\n",
       "   valence    tempo  duration_ms  language  \n",
       "0    0.566   97.091       235440        tl  \n",
       "1    0.404  135.225       373512        en  \n",
       "2    0.650  111.904       262467        en  \n",
       "3    0.405  118.593       243067        en  \n",
       "4    0.240  130.018       193160        en  \n",
       "\n",
       "[5 rows x 25 columns]"
      ]
     },
     "execution_count": 4,
     "metadata": {},
     "output_type": "execute_result"
    }
   ],
   "source": [
    "data.head() # Take a quick look at our data"
   ]
  },
  {
   "cell_type": "code",
   "execution_count": 5,
   "id": "aa840191-e041-4f3b-9c01-c04392c12226",
   "metadata": {},
   "outputs": [
    {
     "data": {
      "text/plain": [
       "Index(['track_id', 'track_name', 'track_artist', 'lyrics', 'track_popularity',\n",
       "       'track_album_id', 'track_album_name', 'track_album_release_date',\n",
       "       'playlist_name', 'playlist_id', 'playlist_genre', 'playlist_subgenre',\n",
       "       'danceability', 'energy', 'key', 'loudness', 'mode', 'speechiness',\n",
       "       'acousticness', 'instrumentalness', 'liveness', 'valence', 'tempo',\n",
       "       'duration_ms', 'language'],\n",
       "      dtype='object')"
      ]
     },
     "execution_count": 5,
     "metadata": {},
     "output_type": "execute_result"
    }
   ],
   "source": [
    "data.head().columns # Break out the column names to see what we want in our dependent and independent feature sets"
   ]
  },
  {
   "cell_type": "code",
   "execution_count": 42,
   "id": "ef337b5b",
   "metadata": {},
   "outputs": [
    {
     "name": "stdout",
     "output_type": "stream",
     "text": [
      "['rock' 'r&b' 'pop' 'edm' 'latin' 'rap']\n",
      "pop      3993\n",
      "rock     3521\n",
      "rap      3391\n",
      "r&b      3326\n",
      "latin    2178\n",
      "edm      2045\n",
      "Name: playlist_genre, dtype: int64\n"
     ]
    }
   ],
   "source": [
    "# Before training, we want to make sure we have a healthy target variable\n",
    "target = data['playlist_genre']\n",
    "\n",
    "#Let's take a look at what we values we have in our target variable\n",
    "print(target.unique())\n",
    "\n",
    "# Lastly, let's get a count of values to ensure a good balance in our dataset\n",
    "print(target.value_counts())"
   ]
  },
  {
   "cell_type": "code",
   "execution_count": 43,
   "id": "be12b071",
   "metadata": {},
   "outputs": [
    {
     "data": {
      "text/plain": [
       "track_id                      0\n",
       "track_name                    0\n",
       "track_artist                  0\n",
       "lyrics                      260\n",
       "track_popularity              0\n",
       "track_album_id                0\n",
       "track_album_name              0\n",
       "track_album_release_date      0\n",
       "playlist_name                 0\n",
       "playlist_id                   0\n",
       "playlist_genre                0\n",
       "playlist_subgenre             0\n",
       "danceability                  0\n",
       "energy                        0\n",
       "key                           0\n",
       "loudness                      0\n",
       "mode                          0\n",
       "speechiness                   0\n",
       "acousticness                  0\n",
       "instrumentalness              0\n",
       "liveness                      0\n",
       "valence                       0\n",
       "tempo                         0\n",
       "duration_ms                   0\n",
       "language                    260\n",
       "dtype: int64"
      ]
     },
     "execution_count": 43,
     "metadata": {},
     "output_type": "execute_result"
    }
   ],
   "source": [
    "# Lastly, lets check for missing data\n",
    "data.isnull().sum()"
   ]
  },
  {
   "cell_type": "markdown",
   "id": "406be533",
   "metadata": {},
   "source": [
    "As expected of this dataset, we have very clean data. Our target variable is balanced, and we are missing almost no data point. For the rows that do have some missing values, they only occur in the lyrics and language features, which we aren't planning on using anyway."
   ]
  },
  {
   "cell_type": "markdown",
   "id": "80f9d4c3",
   "metadata": {},
   "source": [
    "## Seperating and processing train and test data"
   ]
  },
  {
   "cell_type": "code",
   "execution_count": 6,
   "id": "5a23cfeb-dc08-4c45-8c28-7b2b55f75a81",
   "metadata": {},
   "outputs": [
    {
     "name": "stdout",
     "output_type": "stream",
     "text": [
      "['rock' 'r&b' 'pop' 'edm' 'latin' 'rap']\n",
      "pop      3993\n",
      "rock     3521\n",
      "rap      3391\n",
      "r&b      3326\n",
      "latin    2178\n",
      "edm      2045\n",
      "Name: playlist_genre, dtype: int64\n"
     ]
    }
   ],
   "source": [
    "# Seperate our independent and dependent feature sets in to X and y respectivly\n",
    "\n",
    "# Names of songs, artists, and albums are to specific to our target variable, so we want to cut those out along with \n",
    "# any serialized identifiers for our entries\n",
    "X = data[['track_popularity','danceability', 'energy', 'key', 'loudness', 'mode', 'speechiness',\n",
    "       'acousticness', 'instrumentalness', 'liveness', 'valence', 'tempo',\n",
    "       'duration_ms']]\n",
    "\n",
    "y = data['playlist_genre']"
   ]
  },
  {
   "cell_type": "code",
   "execution_count": 7,
   "id": "98ffead1-201e-4a6b-981f-89b502b69bc2",
   "metadata": {},
   "outputs": [],
   "source": [
    "from sklearn.preprocessing import StandardScaler\n",
    "from sklearn.model_selection import train_test_split\n",
    "\n",
    "# Our next preprocessing step is to seperate out our train and test datasets so they can be consistent thorugh out tests\n",
    "X_train, X_test, y_train, y_test = train_test_split(X, y, test_size=0.2, random_state=42)\n",
    "\n",
    "# In order to for our classifers to work as intended and be comparable to one another, we apply an sklearn.StandardScaler\n",
    "scaler = StandardScaler()\n",
    "X_train = scaler.fit_transform(X_train)\n",
    "X_test = scaler.transform(X_test)"
   ]
  },
  {
   "cell_type": "markdown",
   "id": "12193548",
   "metadata": {},
   "source": [
    "## Model Type Testing"
   ]
  },
  {
   "cell_type": "markdown",
   "id": "bb34157f",
   "metadata": {},
   "source": [
    "In this section, we will be testing out some baseline classifiers in sklearn to see which one will be best to continue optimizing."
   ]
  },
  {
   "cell_type": "code",
   "execution_count": 8,
   "id": "a43a7f3d",
   "metadata": {},
   "outputs": [],
   "source": [
    "# Importing the models we want to test\n",
    "from sklearn.ensemble import RandomForestClassifier, GradientBoostingClassifier, BaggingClassifier\n",
    "from sklearn.linear_model import SGDClassifier, LogisticRegression\n",
    "from sklearn.multiclass import OneVsOneClassifier\n",
    "from sklearn.naive_bayes import GaussianNB\n",
    "from sklearn.dummy import DummyClassifier\n",
    "from sklearn.svm import SVC\n",
    "\n",
    "# Initializing a list of the differnt model types\n",
    "models = []\n",
    "models += [['Dummy Classifer', DummyClassifier(strategy=\"uniform\")]]\n",
    "models += [['Naive Bayes', GaussianNB()]]\n",
    "models += [['SGD', OneVsOneClassifier(SGDClassifier())]]\n",
    "models += [['Logistic Regression', LogisticRegression()]]\n",
    "models += [['Support Vector Machine', SVC()]]\n",
    "models += [['Gradient Boost', GradientBoostingClassifier()]]\n",
    "models += [['Random Forest', RandomForestClassifier()]]\n",
    "\n",
    "model_name_abrv = ['DC','NB','SGD','LR','SVM','GB','RF'] # Abbrevriated names of models for plotting"
   ]
  },
  {
   "cell_type": "code",
   "execution_count": 9,
   "id": "7e418c85",
   "metadata": {},
   "outputs": [
    {
     "name": "stdout",
     "output_type": "stream",
     "text": [
      "Dummy Classifer: 0.164 (0.008) Runtime: 0.07s\n",
      "\n",
      "Naive Bayes: 0.457 (0.014) Runtime: 0.16s\n",
      "\n",
      "SGD: 0.467 (0.014) Runtime: 2.74s\n",
      "\n",
      "Logistic Regression: 0.483 (0.013) Runtime: 0.68s\n",
      "\n",
      "Support Vector Machine: 0.547 (0.009) Runtime: 102.98s\n",
      "\n",
      "Gradient Boost: 0.562 (0.01) Runtime: 366.12s\n",
      "\n",
      "Random Forest: 0.572 (0.01) Runtime: 59.84s\n",
      "\n"
     ]
    }
   ],
   "source": [
    "result_ST = []\n",
    "model_names = []\n",
    "kfold = StratifiedKFold(n_splits = 10, random_state = 1, shuffle = True) # Initialize the kfolds for cross validation \n",
    "\n",
    "# Train models, store and print accuracy scores\n",
    "for name, model in models:\n",
    "    loop_start = time.time()\n",
    "    cv_score = cross_val_score(model, X_train, y_train, cv = kfold, scoring = 'accuracy')\n",
    "    result_ST.append(cv_score)\n",
    "    model_names.append(name)\n",
    "    loop_end = time.time()\n",
    "    print(name+':', round(cv_score.mean(),3), '('+str(round(cv_score.std(),3))+')',\n",
    "          'Runtime:', str(round(loop_end - loop_start,2))+'s')\n",
    "    print()"
   ]
  },
  {
   "cell_type": "code",
   "execution_count": 10,
   "id": "0341e9d1",
   "metadata": {},
   "outputs": [
    {
     "data": {
      "image/png": "[encoded data removed]",
      "text/plain": [
       "<Figure size 640x480 with 1 Axes>"
      ]
     },
     "metadata": {},
     "output_type": "display_data"
    }
   ],
   "source": [
    "# We remove the Dummy classifier as it performs so much lower that it make the graph hard to read\n",
    "plt_results = result_ST[1:]\n",
    "plt_names = model_name_abrv[1:]\n",
    "\n",
    "# Let's plot our results to visually see the difference\n",
    "fig = plt.figure()\n",
    "ax = fig.add_subplot()\n",
    "plt.boxplot(plt_results)\n",
    "ax.set_xticklabels(plt_names)\n",
    "ax.set_title('Classifier Cross Validation Comparison')\n",
    "plt.xlabel(\"Model\")\n",
    "plt.ylabel(\"Accuracy\")\n",
    "plt.show()"
   ]
  },
  {
   "cell_type": "markdown",
   "id": "cb0bf9cd",
   "metadata": {},
   "source": [
    "In the above cell we found that the Support Vector Machine (SVM), Gradient Boost (GB), and Random Forest (RF) models outpreform baseline logistic regression, SGD, and Naive Bayes classifers. In each case, we could see increased performance through model tuning, however we choose to only tune a RF given the better performance and runtime compared to the other."
   ]
  },
  {
   "cell_type": "markdown",
   "id": "5f2c973d",
   "metadata": {},
   "source": [
    "# Feature Selection"
   ]
  },
  {
   "cell_type": "markdown",
   "id": "f1399142",
   "metadata": {},
   "source": [
    "Now that we have decided on using a Random Forest model, lets take a look at what impact each of the features have on the outcome. The purpose of this is to help optimize the hyper parameter tuning in the next section, as the method we will be using takes a considerable amount of time."
   ]
  },
  {
   "cell_type": "code",
   "execution_count": 11,
   "id": "69c930f5",
   "metadata": {},
   "outputs": [
    {
     "data": {
      "image/png": "[encoded data removed]",
      "text/plain": [
       "<Figure size 640x480 with 1 Axes>"
      ]
     },
     "metadata": {},
     "output_type": "display_data"
    },
    {
     "name": "stdout",
     "output_type": "stream",
     "text": [
      "[0.0725501  0.11218001 0.08621367 0.04180289 0.08357067 0.01274362\n",
      " 0.12068422 0.08281705 0.06018049 0.06105569 0.08314883 0.09974525\n",
      " 0.08330751]\n"
     ]
    }
   ],
   "source": [
    "import matplotlib.pyplot as plt\n",
    "\n",
    "rf = RandomForestClassifier().fit(X_train,y_train)\n",
    "\n",
    "features = X.head().columns\n",
    "\n",
    "f_i = list(zip(features,rf.feature_importances_))\n",
    "f_i.sort(key = lambda x : x[1])\n",
    "plt.barh([x[0] for x in f_i],[x[1] for x in f_i])\n",
    "plt.title('Feature Importance')\n",
    "plt.xlabel(\"Importance\")\n",
    "plt.ylabel(\"Feature\")\n",
    "plt.show()\n",
    "print(rf.feature_importances_)"
   ]
  },
  {
   "cell_type": "markdown",
   "id": "3d4891b4",
   "metadata": {},
   "source": [
    "Here we see that every feature we used has some impact on the model, but some like mode or key have a considerably smaller impact. Before we cut them out, let's test how their inclusion effects the accuracy and run time."
   ]
  },
  {
   "cell_type": "code",
   "execution_count": 12,
   "id": "9553d91f",
   "metadata": {},
   "outputs": [
    {
     "name": "stdout",
     "output_type": "stream",
     "text": [
      "Accuracy and train time with mode: 0.584, 6.63s\n",
      "Accuracy and train time without mode: 0.586, 7.43s\n"
     ]
    }
   ],
   "source": [
    "# Removing mode from one training set\n",
    "X_train2, X_test2, y_train2, y_test2 = train_test_split(X.drop(['mode'], axis=1), y, test_size=0.2, random_state=42)\n",
    "\n",
    "# Checking impact of dropping mode on both accuacy and runtime\n",
    "time1 = time.time()\n",
    "rf = RandomForestClassifier().fit(X_train,y_train)\n",
    "time2 = time.time()\n",
    "rf2 = RandomForestClassifier().fit(X_train2,y_train)\n",
    "time3 = time.time()\n",
    "\n",
    "print('Accuracy and train time with mode:', str(round(rf.score(X_test, y_test),3))+',', str(round(time2-time1,2))+'s')\n",
    "print('Accuracy and train time without mode:', str(round(rf2.score(X_test2, y_test2),3))+',', str(round(time3-time2,2))+'s')"
   ]
  },
  {
   "cell_type": "markdown",
   "id": "49cd49af",
   "metadata": {},
   "source": [
    "Even though 'mode' has minimal impact on the accuracy of the model, it also has minimum impact on runtime. Although in the next section we will be doing feature tuning on the mode, which takes a long time, we will keep 'mode' in the feature set."
   ]
  },
  {
   "cell_type": "markdown",
   "id": "6d526bcc-bc67-4da2-a1e4-837dcfcb4662",
   "metadata": {},
   "source": [
    "## Random Forest Model Tuning"
   ]
  },
  {
   "cell_type": "markdown",
   "id": "6ab81f62",
   "metadata": {},
   "source": [
    "To set our baseline expectations, we creation and fit a default random forest model and print out it's score and confusion matrix. From there, we can compare the default against an optimized model found by using sklearns Grid Search function."
   ]
  },
  {
   "cell_type": "code",
   "execution_count": 13,
   "id": "ecdc4628-8d7f-423e-a939-403699213f84",
   "metadata": {},
   "outputs": [
    {
     "name": "stdout",
     "output_type": "stream",
     "text": [
      "0.583581685180168\n"
     ]
    },
    {
     "data": {
      "text/plain": [
       "array([[209,  13,  60,   3,  15,  14],\n",
       "       [  8, 147,  42,  26,  26,   9],\n",
       "       [103,  94, 430, 110,  70,  95],\n",
       "       [ 13,  66,  87, 381,  84,  56],\n",
       "       [ 24,  97,  58, 116, 470,  10],\n",
       "       [ 23,  21, 129,  50,  15, 517]], dtype=int64)"
      ]
     },
     "execution_count": 13,
     "metadata": {},
     "output_type": "execute_result"
    }
   ],
   "source": [
    "# Calculate Score\n",
    "score = rf.score(X_test, y_test)\n",
    "print(score)\n",
    "\n",
    "# Display confusion matrix\n",
    "confusion_matrix(rf.predict(X_test), y_test)"
   ]
  },
  {
   "cell_type": "markdown",
   "id": "006ac35c",
   "metadata": {},
   "source": [
    "## Grid Search Initializing"
   ]
  },
  {
   "cell_type": "markdown",
   "id": "122b83b6",
   "metadata": {},
   "source": [
    "<font color='red'>WARNING! The next cell takes a long time to run depending on grid parameters. If run as is, runtime will likely exceed 1 hour.</font>"
   ]
  },
  {
   "cell_type": "code",
   "execution_count": 15,
   "id": "81835e73",
   "metadata": {},
   "outputs": [
    {
     "name": "stdout",
     "output_type": "stream",
     "text": [
      "Fitting 2 folds for each of 225 candidates, totalling 450 fits\n",
      "[CV 1/2] END criterion=gini, max_depth=5, max_features=auto, n_estimators=10;, score=0.476 total time=   0.0s\n",
      "[CV 2/2] END criterion=gini, max_depth=5, max_features=auto, n_estimators=10;, score=0.476 total time=   0.0s\n",
      "[CV 1/2] END criterion=gini, max_depth=5, max_features=auto, n_estimators=50;, score=0.488 total time=   0.3s\n",
      "[CV 2/2] END criterion=gini, max_depth=5, max_features=auto, n_estimators=50;, score=0.469 total time=   0.3s\n",
      "[CV 1/2] END criterion=gini, max_depth=5, max_features=auto, n_estimators=100;, score=0.496 total time=   0.8s\n",
      "[CV 2/2] END criterion=gini, max_depth=5, max_features=auto, n_estimators=100;, score=0.479 total time=   0.8s\n",
      "[CV 1/2] END criterion=gini, max_depth=5, max_features=auto, n_estimators=250;, score=0.493 total time=   2.3s\n",
      "[CV 2/2] END criterion=gini, max_depth=5, max_features=auto, n_estimators=250;, score=0.478 total time=   2.7s\n",
      "[CV 1/2] END criterion=gini, max_depth=5, max_features=auto, n_estimators=500;, score=0.494 total time=   4.6s\n",
      "[CV 2/2] END criterion=gini, max_depth=5, max_features=auto, n_estimators=500;, score=0.480 total time=   4.2s\n",
      "[CV 1/2] END criterion=gini, max_depth=5, max_features=sqrt, n_estimators=10;, score=0.474 total time=   0.0s\n",
      "[CV 2/2] END criterion=gini, max_depth=5, max_features=sqrt, n_estimators=10;, score=0.462 total time=   0.0s\n",
      "[CV 1/2] END criterion=gini, max_depth=5, max_features=sqrt, n_estimators=50;, score=0.491 total time=   0.4s\n",
      "[CV 2/2] END criterion=gini, max_depth=5, max_features=sqrt, n_estimators=50;, score=0.479 total time=   0.4s\n",
      "[CV 1/2] END criterion=gini, max_depth=5, max_features=sqrt, n_estimators=100;, score=0.486 total time=   0.8s\n",
      "[CV 2/2] END criterion=gini, max_depth=5, max_features=sqrt, n_estimators=100;, score=0.480 total time=   0.8s\n",
      "[CV 1/2] END criterion=gini, max_depth=5, max_features=sqrt, n_estimators=250;, score=0.496 total time=   2.1s\n",
      "[CV 2/2] END criterion=gini, max_depth=5, max_features=sqrt, n_estimators=250;, score=0.482 total time=   2.1s\n",
      "[CV 1/2] END criterion=gini, max_depth=5, max_features=sqrt, n_estimators=500;, score=0.495 total time=   4.4s\n",
      "[CV 2/2] END criterion=gini, max_depth=5, max_features=sqrt, n_estimators=500;, score=0.481 total time=   4.4s\n",
      "[CV 1/2] END criterion=gini, max_depth=5, max_features=log2, n_estimators=10;, score=0.487 total time=   0.0s\n",
      "[CV 2/2] END criterion=gini, max_depth=5, max_features=log2, n_estimators=10;, score=0.482 total time=   0.0s\n",
      "[CV 1/2] END criterion=gini, max_depth=5, max_features=log2, n_estimators=50;, score=0.496 total time=   0.3s\n",
      "[CV 2/2] END criterion=gini, max_depth=5, max_features=log2, n_estimators=50;, score=0.484 total time=   0.4s\n",
      "[CV 1/2] END criterion=gini, max_depth=5, max_features=log2, n_estimators=100;, score=0.492 total time=   0.8s\n",
      "[CV 2/2] END criterion=gini, max_depth=5, max_features=log2, n_estimators=100;, score=0.476 total time=   0.8s\n",
      "[CV 1/2] END criterion=gini, max_depth=5, max_features=log2, n_estimators=250;, score=0.497 total time=   2.2s\n",
      "[CV 2/2] END criterion=gini, max_depth=5, max_features=log2, n_estimators=250;, score=0.481 total time=   2.5s\n",
      "[CV 1/2] END criterion=gini, max_depth=5, max_features=log2, n_estimators=500;, score=0.494 total time=   4.3s\n",
      "[CV 2/2] END criterion=gini, max_depth=5, max_features=log2, n_estimators=500;, score=0.478 total time=   4.4s\n",
      "[CV 1/2] END criterion=gini, max_depth=10, max_features=auto, n_estimators=10;, score=0.525 total time=   0.1s\n",
      "[CV 2/2] END criterion=gini, max_depth=10, max_features=auto, n_estimators=10;, score=0.517 total time=   0.1s\n",
      "[CV 1/2] END criterion=gini, max_depth=10, max_features=auto, n_estimators=50;, score=0.558 total time=   0.7s\n",
      "[CV 2/2] END criterion=gini, max_depth=10, max_features=auto, n_estimators=50;, score=0.541 total time=   0.6s\n",
      "[CV 1/2] END criterion=gini, max_depth=10, max_features=auto, n_estimators=100;, score=0.556 total time=   1.5s\n",
      "[CV 2/2] END criterion=gini, max_depth=10, max_features=auto, n_estimators=100;, score=0.548 total time=   1.6s\n",
      "[CV 1/2] END criterion=gini, max_depth=10, max_features=auto, n_estimators=250;, score=0.560 total time=   3.9s\n",
      "[CV 2/2] END criterion=gini, max_depth=10, max_features=auto, n_estimators=250;, score=0.549 total time=   4.0s\n",
      "[CV 1/2] END criterion=gini, max_depth=10, max_features=auto, n_estimators=500;, score=0.563 total time=   8.0s\n",
      "[CV 2/2] END criterion=gini, max_depth=10, max_features=auto, n_estimators=500;, score=0.549 total time=   7.9s\n",
      "[CV 1/2] END criterion=gini, max_depth=10, max_features=sqrt, n_estimators=10;, score=0.533 total time=   0.1s\n",
      "[CV 2/2] END criterion=gini, max_depth=10, max_features=sqrt, n_estimators=10;, score=0.509 total time=   0.0s\n",
      "[CV 1/2] END criterion=gini, max_depth=10, max_features=sqrt, n_estimators=50;, score=0.559 total time=   0.6s\n",
      "[CV 2/2] END criterion=gini, max_depth=10, max_features=sqrt, n_estimators=50;, score=0.538 total time=   0.7s\n",
      "[CV 1/2] END criterion=gini, max_depth=10, max_features=sqrt, n_estimators=100;, score=0.557 total time=   1.5s\n",
      "[CV 2/2] END criterion=gini, max_depth=10, max_features=sqrt, n_estimators=100;, score=0.545 total time=   1.6s\n",
      "[CV 1/2] END criterion=gini, max_depth=10, max_features=sqrt, n_estimators=250;, score=0.561 total time=   3.9s\n",
      "[CV 2/2] END criterion=gini, max_depth=10, max_features=sqrt, n_estimators=250;, score=0.548 total time=   3.9s\n",
      "[CV 1/2] END criterion=gini, max_depth=10, max_features=sqrt, n_estimators=500;, score=0.562 total time=   7.9s\n",
      "[CV 2/2] END criterion=gini, max_depth=10, max_features=sqrt, n_estimators=500;, score=0.551 total time=   7.9s\n",
      "[CV 1/2] END criterion=gini, max_depth=10, max_features=log2, n_estimators=10;, score=0.523 total time=   0.1s\n",
      "[CV 2/2] END criterion=gini, max_depth=10, max_features=log2, n_estimators=10;, score=0.511 total time=   0.1s\n",
      "[CV 1/2] END criterion=gini, max_depth=10, max_features=log2, n_estimators=50;, score=0.555 total time=   0.7s\n",
      "[CV 2/2] END criterion=gini, max_depth=10, max_features=log2, n_estimators=50;, score=0.545 total time=   0.8s\n",
      "[CV 1/2] END criterion=gini, max_depth=10, max_features=log2, n_estimators=100;, score=0.557 total time=   1.5s\n",
      "[CV 2/2] END criterion=gini, max_depth=10, max_features=log2, n_estimators=100;, score=0.545 total time=   1.6s\n",
      "[CV 1/2] END criterion=gini, max_depth=10, max_features=log2, n_estimators=250;, score=0.564 total time=   4.0s\n",
      "[CV 2/2] END criterion=gini, max_depth=10, max_features=log2, n_estimators=250;, score=0.550 total time=   3.9s\n",
      "[CV 1/2] END criterion=gini, max_depth=10, max_features=log2, n_estimators=500;, score=0.560 total time=   8.3s\n",
      "[CV 2/2] END criterion=gini, max_depth=10, max_features=log2, n_estimators=500;, score=0.551 total time=   8.1s\n",
      "[CV 1/2] END criterion=gini, max_depth=25, max_features=auto, n_estimators=10;, score=0.507 total time=   0.2s\n",
      "[CV 2/2] END criterion=gini, max_depth=25, max_features=auto, n_estimators=10;, score=0.496 total time=   0.1s\n",
      "[CV 1/2] END criterion=gini, max_depth=25, max_features=auto, n_estimators=50;, score=0.562 total time=   1.1s\n",
      "[CV 2/2] END criterion=gini, max_depth=25, max_features=auto, n_estimators=50;, score=0.550 total time=   1.1s\n",
      "[CV 1/2] END criterion=gini, max_depth=25, max_features=auto, n_estimators=100;, score=0.568 total time=   2.2s\n",
      "[CV 2/2] END criterion=gini, max_depth=25, max_features=auto, n_estimators=100;, score=0.555 total time=   2.2s\n",
      "[CV 1/2] END criterion=gini, max_depth=25, max_features=auto, n_estimators=250;, score=0.577 total time=   6.2s\n",
      "[CV 2/2] END criterion=gini, max_depth=25, max_features=auto, n_estimators=250;, score=0.564 total time=   5.8s\n",
      "[CV 1/2] END criterion=gini, max_depth=25, max_features=auto, n_estimators=500;, score=0.579 total time=  11.4s\n",
      "[CV 2/2] END criterion=gini, max_depth=25, max_features=auto, n_estimators=500;, score=0.566 total time=  11.8s\n",
      "[CV 1/2] END criterion=gini, max_depth=25, max_features=sqrt, n_estimators=10;, score=0.492 total time=   0.1s\n",
      "[CV 2/2] END criterion=gini, max_depth=25, max_features=sqrt, n_estimators=10;, score=0.501 total time=   0.1s\n",
      "[CV 1/2] END criterion=gini, max_depth=25, max_features=sqrt, n_estimators=50;, score=0.562 total time=   1.0s\n",
      "[CV 2/2] END criterion=gini, max_depth=25, max_features=sqrt, n_estimators=50;, score=0.553 total time=   1.0s\n"
     ]
    },
    {
     "name": "stdout",
     "output_type": "stream",
     "text": [
      "[CV 1/2] END criterion=gini, max_depth=25, max_features=sqrt, n_estimators=100;, score=0.566 total time=   2.2s\n",
      "[CV 2/2] END criterion=gini, max_depth=25, max_features=sqrt, n_estimators=100;, score=0.552 total time=   2.2s\n",
      "[CV 1/2] END criterion=gini, max_depth=25, max_features=sqrt, n_estimators=250;, score=0.578 total time=   5.7s\n",
      "[CV 2/2] END criterion=gini, max_depth=25, max_features=sqrt, n_estimators=250;, score=0.563 total time=   5.9s\n",
      "[CV 1/2] END criterion=gini, max_depth=25, max_features=sqrt, n_estimators=500;, score=0.577 total time=  12.2s\n",
      "[CV 2/2] END criterion=gini, max_depth=25, max_features=sqrt, n_estimators=500;, score=0.567 total time=  11.8s\n",
      "[CV 1/2] END criterion=gini, max_depth=25, max_features=log2, n_estimators=10;, score=0.501 total time=   0.2s\n",
      "[CV 2/2] END criterion=gini, max_depth=25, max_features=log2, n_estimators=10;, score=0.492 total time=   0.1s\n",
      "[CV 1/2] END criterion=gini, max_depth=25, max_features=log2, n_estimators=50;, score=0.564 total time=   1.2s\n",
      "[CV 2/2] END criterion=gini, max_depth=25, max_features=log2, n_estimators=50;, score=0.546 total time=   1.1s\n",
      "[CV 1/2] END criterion=gini, max_depth=25, max_features=log2, n_estimators=100;, score=0.573 total time=   2.2s\n",
      "[CV 2/2] END criterion=gini, max_depth=25, max_features=log2, n_estimators=100;, score=0.559 total time=   2.4s\n",
      "[CV 1/2] END criterion=gini, max_depth=25, max_features=log2, n_estimators=250;, score=0.577 total time=   6.0s\n",
      "[CV 2/2] END criterion=gini, max_depth=25, max_features=log2, n_estimators=250;, score=0.565 total time=   5.9s\n",
      "[CV 1/2] END criterion=gini, max_depth=25, max_features=log2, n_estimators=500;, score=0.582 total time=  12.2s\n",
      "[CV 2/2] END criterion=gini, max_depth=25, max_features=log2, n_estimators=500;, score=0.562 total time=  12.1s\n",
      "[CV 1/2] END criterion=gini, max_depth=34, max_features=auto, n_estimators=10;, score=0.502 total time=   0.3s\n",
      "[CV 2/2] END criterion=gini, max_depth=34, max_features=auto, n_estimators=10;, score=0.496 total time=   0.5s\n",
      "[CV 1/2] END criterion=gini, max_depth=34, max_features=auto, n_estimators=50;, score=0.561 total time=   2.8s\n",
      "[CV 2/2] END criterion=gini, max_depth=34, max_features=auto, n_estimators=50;, score=0.543 total time=   2.0s\n",
      "[CV 1/2] END criterion=gini, max_depth=34, max_features=auto, n_estimators=100;, score=0.566 total time=   2.7s\n",
      "[CV 2/2] END criterion=gini, max_depth=34, max_features=auto, n_estimators=100;, score=0.557 total time=   2.4s\n",
      "[CV 1/2] END criterion=gini, max_depth=34, max_features=auto, n_estimators=250;, score=0.575 total time=   6.3s\n",
      "[CV 2/2] END criterion=gini, max_depth=34, max_features=auto, n_estimators=250;, score=0.559 total time=   6.1s\n",
      "[CV 1/2] END criterion=gini, max_depth=34, max_features=auto, n_estimators=500;, score=0.578 total time=  12.4s\n",
      "[CV 2/2] END criterion=gini, max_depth=34, max_features=auto, n_estimators=500;, score=0.563 total time=  12.9s\n",
      "[CV 1/2] END criterion=gini, max_depth=34, max_features=sqrt, n_estimators=10;, score=0.495 total time=   0.2s\n",
      "[CV 2/2] END criterion=gini, max_depth=34, max_features=sqrt, n_estimators=10;, score=0.499 total time=   0.2s\n",
      "[CV 1/2] END criterion=gini, max_depth=34, max_features=sqrt, n_estimators=50;, score=0.557 total time=   1.1s\n",
      "[CV 2/2] END criterion=gini, max_depth=34, max_features=sqrt, n_estimators=50;, score=0.548 total time=   1.1s\n",
      "[CV 1/2] END criterion=gini, max_depth=34, max_features=sqrt, n_estimators=100;, score=0.569 total time=   2.4s\n",
      "[CV 2/2] END criterion=gini, max_depth=34, max_features=sqrt, n_estimators=100;, score=0.557 total time=   2.3s\n",
      "[CV 1/2] END criterion=gini, max_depth=34, max_features=sqrt, n_estimators=250;, score=0.575 total time=   6.9s\n",
      "[CV 2/2] END criterion=gini, max_depth=34, max_features=sqrt, n_estimators=250;, score=0.561 total time=   6.1s\n",
      "[CV 1/2] END criterion=gini, max_depth=34, max_features=sqrt, n_estimators=500;, score=0.578 total time=  17.9s\n",
      "[CV 2/2] END criterion=gini, max_depth=34, max_features=sqrt, n_estimators=500;, score=0.563 total time=  15.6s\n",
      "[CV 1/2] END criterion=gini, max_depth=34, max_features=log2, n_estimators=10;, score=0.492 total time=   0.2s\n",
      "[CV 2/2] END criterion=gini, max_depth=34, max_features=log2, n_estimators=10;, score=0.502 total time=   0.2s\n",
      "[CV 1/2] END criterion=gini, max_depth=34, max_features=log2, n_estimators=50;, score=0.559 total time=   1.2s\n",
      "[CV 2/2] END criterion=gini, max_depth=34, max_features=log2, n_estimators=50;, score=0.548 total time=   1.4s\n",
      "[CV 1/2] END criterion=gini, max_depth=34, max_features=log2, n_estimators=100;, score=0.569 total time=   3.1s\n",
      "[CV 2/2] END criterion=gini, max_depth=34, max_features=log2, n_estimators=100;, score=0.555 total time=   3.5s\n",
      "[CV 1/2] END criterion=gini, max_depth=34, max_features=log2, n_estimators=250;, score=0.572 total time=   8.5s\n",
      "[CV 2/2] END criterion=gini, max_depth=34, max_features=log2, n_estimators=250;, score=0.563 total time=   7.6s\n",
      "[CV 1/2] END criterion=gini, max_depth=34, max_features=log2, n_estimators=500;, score=0.576 total time=  12.7s\n",
      "[CV 2/2] END criterion=gini, max_depth=34, max_features=log2, n_estimators=500;, score=0.567 total time=  13.7s\n",
      "[CV 1/2] END criterion=gini, max_depth=50, max_features=auto, n_estimators=10;, score=0.504 total time=   0.3s\n",
      "[CV 2/2] END criterion=gini, max_depth=50, max_features=auto, n_estimators=10;, score=0.500 total time=   0.3s\n",
      "[CV 1/2] END criterion=gini, max_depth=50, max_features=auto, n_estimators=50;, score=0.563 total time=   1.3s\n",
      "[CV 2/2] END criterion=gini, max_depth=50, max_features=auto, n_estimators=50;, score=0.550 total time=   1.3s\n",
      "[CV 1/2] END criterion=gini, max_depth=50, max_features=auto, n_estimators=100;, score=0.572 total time=   2.5s\n",
      "[CV 2/2] END criterion=gini, max_depth=50, max_features=auto, n_estimators=100;, score=0.556 total time=   2.5s\n",
      "[CV 1/2] END criterion=gini, max_depth=50, max_features=auto, n_estimators=250;, score=0.576 total time=   6.0s\n",
      "[CV 2/2] END criterion=gini, max_depth=50, max_features=auto, n_estimators=250;, score=0.562 total time=   6.4s\n",
      "[CV 1/2] END criterion=gini, max_depth=50, max_features=auto, n_estimators=500;, score=0.579 total time=  12.5s\n",
      "[CV 2/2] END criterion=gini, max_depth=50, max_features=auto, n_estimators=500;, score=0.563 total time=  12.1s\n",
      "[CV 1/2] END criterion=gini, max_depth=50, max_features=sqrt, n_estimators=10;, score=0.504 total time=   0.2s\n",
      "[CV 2/2] END criterion=gini, max_depth=50, max_features=sqrt, n_estimators=10;, score=0.490 total time=   0.1s\n",
      "[CV 1/2] END criterion=gini, max_depth=50, max_features=sqrt, n_estimators=50;, score=0.562 total time=   1.1s\n",
      "[CV 2/2] END criterion=gini, max_depth=50, max_features=sqrt, n_estimators=50;, score=0.552 total time=   1.1s\n",
      "[CV 1/2] END criterion=gini, max_depth=50, max_features=sqrt, n_estimators=100;, score=0.568 total time=   2.4s\n",
      "[CV 2/2] END criterion=gini, max_depth=50, max_features=sqrt, n_estimators=100;, score=0.564 total time=   2.3s\n",
      "[CV 1/2] END criterion=gini, max_depth=50, max_features=sqrt, n_estimators=250;, score=0.575 total time=   6.0s\n",
      "[CV 2/2] END criterion=gini, max_depth=50, max_features=sqrt, n_estimators=250;, score=0.566 total time=   5.8s\n",
      "[CV 1/2] END criterion=gini, max_depth=50, max_features=sqrt, n_estimators=500;, score=0.575 total time=  12.1s\n",
      "[CV 2/2] END criterion=gini, max_depth=50, max_features=sqrt, n_estimators=500;, score=0.568 total time=  12.0s\n",
      "[CV 1/2] END criterion=gini, max_depth=50, max_features=log2, n_estimators=10;, score=0.511 total time=   0.1s\n",
      "[CV 2/2] END criterion=gini, max_depth=50, max_features=log2, n_estimators=10;, score=0.489 total time=   0.1s\n",
      "[CV 1/2] END criterion=gini, max_depth=50, max_features=log2, n_estimators=50;, score=0.558 total time=   1.1s\n",
      "[CV 2/2] END criterion=gini, max_depth=50, max_features=log2, n_estimators=50;, score=0.553 total time=   1.1s\n",
      "[CV 1/2] END criterion=gini, max_depth=50, max_features=log2, n_estimators=100;, score=0.572 total time=   2.7s\n",
      "[CV 2/2] END criterion=gini, max_depth=50, max_features=log2, n_estimators=100;, score=0.560 total time=   2.5s\n",
      "[CV 1/2] END criterion=gini, max_depth=50, max_features=log2, n_estimators=250;, score=0.577 total time=   7.7s\n",
      "[CV 2/2] END criterion=gini, max_depth=50, max_features=log2, n_estimators=250;, score=0.562 total time=   6.9s\n"
     ]
    },
    {
     "name": "stdout",
     "output_type": "stream",
     "text": [
      "[CV 1/2] END criterion=gini, max_depth=50, max_features=log2, n_estimators=500;, score=0.580 total time=  12.9s\n",
      "[CV 2/2] END criterion=gini, max_depth=50, max_features=log2, n_estimators=500;, score=0.565 total time=  12.8s\n",
      "[CV 1/2] END criterion=entropy, max_depth=5, max_features=auto, n_estimators=10;, score=0.480 total time=   0.1s\n",
      "[CV 2/2] END criterion=entropy, max_depth=5, max_features=auto, n_estimators=10;, score=0.460 total time=   0.1s\n",
      "[CV 1/2] END criterion=entropy, max_depth=5, max_features=auto, n_estimators=50;, score=0.488 total time=   0.6s\n",
      "[CV 2/2] END criterion=entropy, max_depth=5, max_features=auto, n_estimators=50;, score=0.484 total time=   0.6s\n",
      "[CV 1/2] END criterion=entropy, max_depth=5, max_features=auto, n_estimators=100;, score=0.495 total time=   1.4s\n",
      "[CV 2/2] END criterion=entropy, max_depth=5, max_features=auto, n_estimators=100;, score=0.482 total time=   1.4s\n",
      "[CV 1/2] END criterion=entropy, max_depth=5, max_features=auto, n_estimators=250;, score=0.498 total time=   3.5s\n",
      "[CV 2/2] END criterion=entropy, max_depth=5, max_features=auto, n_estimators=250;, score=0.482 total time=   3.6s\n",
      "[CV 1/2] END criterion=entropy, max_depth=5, max_features=auto, n_estimators=500;, score=0.497 total time=   7.7s\n",
      "[CV 2/2] END criterion=entropy, max_depth=5, max_features=auto, n_estimators=500;, score=0.486 total time=   7.5s\n",
      "[CV 1/2] END criterion=entropy, max_depth=5, max_features=sqrt, n_estimators=10;, score=0.479 total time=   0.1s\n",
      "[CV 2/2] END criterion=entropy, max_depth=5, max_features=sqrt, n_estimators=10;, score=0.467 total time=   0.1s\n",
      "[CV 1/2] END criterion=entropy, max_depth=5, max_features=sqrt, n_estimators=50;, score=0.497 total time=   0.6s\n",
      "[CV 2/2] END criterion=entropy, max_depth=5, max_features=sqrt, n_estimators=50;, score=0.485 total time=   0.7s\n",
      "[CV 1/2] END criterion=entropy, max_depth=5, max_features=sqrt, n_estimators=100;, score=0.491 total time=   1.4s\n",
      "[CV 2/2] END criterion=entropy, max_depth=5, max_features=sqrt, n_estimators=100;, score=0.490 total time=   1.4s\n",
      "[CV 1/2] END criterion=entropy, max_depth=5, max_features=sqrt, n_estimators=250;, score=0.500 total time=   3.7s\n",
      "[CV 2/2] END criterion=entropy, max_depth=5, max_features=sqrt, n_estimators=250;, score=0.485 total time=   3.5s\n",
      "[CV 1/2] END criterion=entropy, max_depth=5, max_features=sqrt, n_estimators=500;, score=0.497 total time=   7.7s\n",
      "[CV 2/2] END criterion=entropy, max_depth=5, max_features=sqrt, n_estimators=500;, score=0.487 total time=   7.2s\n",
      "[CV 1/2] END criterion=entropy, max_depth=5, max_features=log2, n_estimators=10;, score=0.480 total time=   0.1s\n",
      "[CV 2/2] END criterion=entropy, max_depth=5, max_features=log2, n_estimators=10;, score=0.473 total time=   0.1s\n",
      "[CV 1/2] END criterion=entropy, max_depth=5, max_features=log2, n_estimators=50;, score=0.502 total time=   0.6s\n",
      "[CV 2/2] END criterion=entropy, max_depth=5, max_features=log2, n_estimators=50;, score=0.485 total time=   0.6s\n",
      "[CV 1/2] END criterion=entropy, max_depth=5, max_features=log2, n_estimators=100;, score=0.496 total time=   1.3s\n",
      "[CV 2/2] END criterion=entropy, max_depth=5, max_features=log2, n_estimators=100;, score=0.481 total time=   1.3s\n",
      "[CV 1/2] END criterion=entropy, max_depth=5, max_features=log2, n_estimators=250;, score=0.499 total time=   3.4s\n",
      "[CV 2/2] END criterion=entropy, max_depth=5, max_features=log2, n_estimators=250;, score=0.489 total time=   3.4s\n",
      "[CV 1/2] END criterion=entropy, max_depth=5, max_features=log2, n_estimators=500;, score=0.501 total time=   7.1s\n",
      "[CV 2/2] END criterion=entropy, max_depth=5, max_features=log2, n_estimators=500;, score=0.487 total time=   7.9s\n",
      "[CV 1/2] END criterion=entropy, max_depth=10, max_features=auto, n_estimators=10;, score=0.522 total time=   0.2s\n",
      "[CV 2/2] END criterion=entropy, max_depth=10, max_features=auto, n_estimators=10;, score=0.511 total time=   0.2s\n",
      "[CV 1/2] END criterion=entropy, max_depth=10, max_features=auto, n_estimators=50;, score=0.561 total time=   1.3s\n",
      "[CV 2/2] END criterion=entropy, max_depth=10, max_features=auto, n_estimators=50;, score=0.546 total time=   1.3s\n",
      "[CV 1/2] END criterion=entropy, max_depth=10, max_features=auto, n_estimators=100;, score=0.562 total time=   2.8s\n",
      "[CV 2/2] END criterion=entropy, max_depth=10, max_features=auto, n_estimators=100;, score=0.550 total time=   2.9s\n",
      "[CV 1/2] END criterion=entropy, max_depth=10, max_features=auto, n_estimators=250;, score=0.564 total time=   6.9s\n",
      "[CV 2/2] END criterion=entropy, max_depth=10, max_features=auto, n_estimators=250;, score=0.548 total time=   7.0s\n",
      "[CV 1/2] END criterion=entropy, max_depth=10, max_features=auto, n_estimators=500;, score=0.565 total time=  14.6s\n",
      "[CV 2/2] END criterion=entropy, max_depth=10, max_features=auto, n_estimators=500;, score=0.552 total time=  14.2s\n",
      "[CV 1/2] END criterion=entropy, max_depth=10, max_features=sqrt, n_estimators=10;, score=0.522 total time=   0.2s\n",
      "[CV 2/2] END criterion=entropy, max_depth=10, max_features=sqrt, n_estimators=10;, score=0.507 total time=   0.2s\n",
      "[CV 1/2] END criterion=entropy, max_depth=10, max_features=sqrt, n_estimators=50;, score=0.555 total time=   1.4s\n",
      "[CV 2/2] END criterion=entropy, max_depth=10, max_features=sqrt, n_estimators=50;, score=0.545 total time=   1.3s\n",
      "[CV 1/2] END criterion=entropy, max_depth=10, max_features=sqrt, n_estimators=100;, score=0.559 total time=   2.9s\n",
      "[CV 2/2] END criterion=entropy, max_depth=10, max_features=sqrt, n_estimators=100;, score=0.550 total time=   2.8s\n",
      "[CV 1/2] END criterion=entropy, max_depth=10, max_features=sqrt, n_estimators=250;, score=0.564 total time=   6.9s\n",
      "[CV 2/2] END criterion=entropy, max_depth=10, max_features=sqrt, n_estimators=250;, score=0.554 total time=   7.1s\n",
      "[CV 1/2] END criterion=entropy, max_depth=10, max_features=sqrt, n_estimators=500;, score=0.565 total time=  14.2s\n",
      "[CV 2/2] END criterion=entropy, max_depth=10, max_features=sqrt, n_estimators=500;, score=0.551 total time=  13.8s\n",
      "[CV 1/2] END criterion=entropy, max_depth=10, max_features=log2, n_estimators=10;, score=0.523 total time=   0.2s\n",
      "[CV 2/2] END criterion=entropy, max_depth=10, max_features=log2, n_estimators=10;, score=0.514 total time=   0.2s\n",
      "[CV 1/2] END criterion=entropy, max_depth=10, max_features=log2, n_estimators=50;, score=0.561 total time=   1.3s\n",
      "[CV 2/2] END criterion=entropy, max_depth=10, max_features=log2, n_estimators=50;, score=0.544 total time=   1.3s\n",
      "[CV 1/2] END criterion=entropy, max_depth=10, max_features=log2, n_estimators=100;, score=0.557 total time=   2.6s\n",
      "[CV 2/2] END criterion=entropy, max_depth=10, max_features=log2, n_estimators=100;, score=0.549 total time=   2.8s\n",
      "[CV 1/2] END criterion=entropy, max_depth=10, max_features=log2, n_estimators=250;, score=0.562 total time=   7.0s\n",
      "[CV 2/2] END criterion=entropy, max_depth=10, max_features=log2, n_estimators=250;, score=0.550 total time=   7.0s\n",
      "[CV 1/2] END criterion=entropy, max_depth=10, max_features=log2, n_estimators=500;, score=0.564 total time=  15.0s\n",
      "[CV 2/2] END criterion=entropy, max_depth=10, max_features=log2, n_estimators=500;, score=0.551 total time=  15.0s\n",
      "[CV 1/2] END criterion=entropy, max_depth=25, max_features=auto, n_estimators=10;, score=0.502 total time=   0.3s\n",
      "[CV 2/2] END criterion=entropy, max_depth=25, max_features=auto, n_estimators=10;, score=0.491 total time=   0.4s\n",
      "[CV 1/2] END criterion=entropy, max_depth=25, max_features=auto, n_estimators=50;, score=0.558 total time=   1.8s\n",
      "[CV 2/2] END criterion=entropy, max_depth=25, max_features=auto, n_estimators=50;, score=0.546 total time=   1.9s\n",
      "[CV 1/2] END criterion=entropy, max_depth=25, max_features=auto, n_estimators=100;, score=0.570 total time=   3.9s\n",
      "[CV 2/2] END criterion=entropy, max_depth=25, max_features=auto, n_estimators=100;, score=0.553 total time=   3.7s\n",
      "[CV 1/2] END criterion=entropy, max_depth=25, max_features=auto, n_estimators=250;, score=0.574 total time=  10.0s\n",
      "[CV 2/2] END criterion=entropy, max_depth=25, max_features=auto, n_estimators=250;, score=0.558 total time=  10.0s\n",
      "[CV 1/2] END criterion=entropy, max_depth=25, max_features=auto, n_estimators=500;, score=0.575 total time=  21.3s\n",
      "[CV 2/2] END criterion=entropy, max_depth=25, max_features=auto, n_estimators=500;, score=0.564 total time=  20.3s\n"
     ]
    },
    {
     "name": "stdout",
     "output_type": "stream",
     "text": [
      "[CV 1/2] END criterion=entropy, max_depth=25, max_features=sqrt, n_estimators=10;, score=0.492 total time=   0.3s\n",
      "[CV 2/2] END criterion=entropy, max_depth=25, max_features=sqrt, n_estimators=10;, score=0.501 total time=   0.4s\n",
      "[CV 1/2] END criterion=entropy, max_depth=25, max_features=sqrt, n_estimators=50;, score=0.557 total time=   2.3s\n",
      "[CV 2/2] END criterion=entropy, max_depth=25, max_features=sqrt, n_estimators=50;, score=0.549 total time=   2.1s\n",
      "[CV 1/2] END criterion=entropy, max_depth=25, max_features=sqrt, n_estimators=100;, score=0.573 total time=   4.1s\n",
      "[CV 2/2] END criterion=entropy, max_depth=25, max_features=sqrt, n_estimators=100;, score=0.557 total time=   3.5s\n",
      "[CV 1/2] END criterion=entropy, max_depth=25, max_features=sqrt, n_estimators=250;, score=0.571 total time=   9.0s\n",
      "[CV 2/2] END criterion=entropy, max_depth=25, max_features=sqrt, n_estimators=250;, score=0.565 total time=   9.3s\n",
      "[CV 1/2] END criterion=entropy, max_depth=25, max_features=sqrt, n_estimators=500;, score=0.573 total time=  20.0s\n",
      "[CV 2/2] END criterion=entropy, max_depth=25, max_features=sqrt, n_estimators=500;, score=0.567 total time=  18.9s\n",
      "[CV 1/2] END criterion=entropy, max_depth=25, max_features=log2, n_estimators=10;, score=0.496 total time=   0.3s\n",
      "[CV 2/2] END criterion=entropy, max_depth=25, max_features=log2, n_estimators=10;, score=0.496 total time=   0.3s\n",
      "[CV 1/2] END criterion=entropy, max_depth=25, max_features=log2, n_estimators=50;, score=0.559 total time=   1.9s\n",
      "[CV 2/2] END criterion=entropy, max_depth=25, max_features=log2, n_estimators=50;, score=0.548 total time=   1.8s\n",
      "[CV 1/2] END criterion=entropy, max_depth=25, max_features=log2, n_estimators=100;, score=0.566 total time=   3.7s\n",
      "[CV 2/2] END criterion=entropy, max_depth=25, max_features=log2, n_estimators=100;, score=0.560 total time=   3.9s\n",
      "[CV 1/2] END criterion=entropy, max_depth=25, max_features=log2, n_estimators=250;, score=0.575 total time=   9.0s\n",
      "[CV 2/2] END criterion=entropy, max_depth=25, max_features=log2, n_estimators=250;, score=0.561 total time=   9.6s\n",
      "[CV 1/2] END criterion=entropy, max_depth=25, max_features=log2, n_estimators=500;, score=0.576 total time=  19.8s\n",
      "[CV 2/2] END criterion=entropy, max_depth=25, max_features=log2, n_estimators=500;, score=0.563 total time=  19.2s\n",
      "[CV 1/2] END criterion=entropy, max_depth=34, max_features=auto, n_estimators=10;, score=0.506 total time=   0.3s\n",
      "[CV 2/2] END criterion=entropy, max_depth=34, max_features=auto, n_estimators=10;, score=0.496 total time=   0.4s\n",
      "[CV 1/2] END criterion=entropy, max_depth=34, max_features=auto, n_estimators=50;, score=0.562 total time=   2.0s\n",
      "[CV 2/2] END criterion=entropy, max_depth=34, max_features=auto, n_estimators=50;, score=0.547 total time=   2.0s\n",
      "[CV 1/2] END criterion=entropy, max_depth=34, max_features=auto, n_estimators=100;, score=0.567 total time=   3.8s\n",
      "[CV 2/2] END criterion=entropy, max_depth=34, max_features=auto, n_estimators=100;, score=0.559 total time=   4.1s\n",
      "[CV 1/2] END criterion=entropy, max_depth=34, max_features=auto, n_estimators=250;, score=0.572 total time=   9.9s\n",
      "[CV 2/2] END criterion=entropy, max_depth=34, max_features=auto, n_estimators=250;, score=0.564 total time=   9.6s\n",
      "[CV 1/2] END criterion=entropy, max_depth=34, max_features=auto, n_estimators=500;, score=0.580 total time=  18.4s\n",
      "[CV 2/2] END criterion=entropy, max_depth=34, max_features=auto, n_estimators=500;, score=0.565 total time=  17.8s\n",
      "[CV 1/2] END criterion=entropy, max_depth=34, max_features=sqrt, n_estimators=10;, score=0.499 total time=   0.3s\n",
      "[CV 2/2] END criterion=entropy, max_depth=34, max_features=sqrt, n_estimators=10;, score=0.494 total time=   0.3s\n",
      "[CV 1/2] END criterion=entropy, max_depth=34, max_features=sqrt, n_estimators=50;, score=0.564 total time=   1.7s\n",
      "[CV 2/2] END criterion=entropy, max_depth=34, max_features=sqrt, n_estimators=50;, score=0.554 total time=   1.7s\n",
      "[CV 1/2] END criterion=entropy, max_depth=34, max_features=sqrt, n_estimators=100;, score=0.567 total time=   3.6s\n",
      "[CV 2/2] END criterion=entropy, max_depth=34, max_features=sqrt, n_estimators=100;, score=0.552 total time=   3.5s\n",
      "[CV 1/2] END criterion=entropy, max_depth=34, max_features=sqrt, n_estimators=250;, score=0.574 total time=   8.9s\n",
      "[CV 2/2] END criterion=entropy, max_depth=34, max_features=sqrt, n_estimators=250;, score=0.562 total time=   8.9s\n",
      "[CV 1/2] END criterion=entropy, max_depth=34, max_features=sqrt, n_estimators=500;, score=0.577 total time=  18.0s\n",
      "[CV 2/2] END criterion=entropy, max_depth=34, max_features=sqrt, n_estimators=500;, score=0.564 total time=  17.7s\n",
      "[CV 1/2] END criterion=entropy, max_depth=34, max_features=log2, n_estimators=10;, score=0.505 total time=   0.3s\n",
      "[CV 2/2] END criterion=entropy, max_depth=34, max_features=log2, n_estimators=10;, score=0.495 total time=   0.3s\n",
      "[CV 1/2] END criterion=entropy, max_depth=34, max_features=log2, n_estimators=50;, score=0.564 total time=   1.8s\n",
      "[CV 2/2] END criterion=entropy, max_depth=34, max_features=log2, n_estimators=50;, score=0.548 total time=   1.7s\n",
      "[CV 1/2] END criterion=entropy, max_depth=34, max_features=log2, n_estimators=100;, score=0.565 total time=   3.5s\n",
      "[CV 2/2] END criterion=entropy, max_depth=34, max_features=log2, n_estimators=100;, score=0.564 total time=   3.6s\n",
      "[CV 1/2] END criterion=entropy, max_depth=34, max_features=log2, n_estimators=250;, score=0.573 total time=   9.2s\n",
      "[CV 2/2] END criterion=entropy, max_depth=34, max_features=log2, n_estimators=250;, score=0.562 total time=   9.1s\n",
      "[CV 1/2] END criterion=entropy, max_depth=34, max_features=log2, n_estimators=500;, score=0.577 total time=  19.7s\n",
      "[CV 2/2] END criterion=entropy, max_depth=34, max_features=log2, n_estimators=500;, score=0.567 total time=  18.4s\n",
      "[CV 1/2] END criterion=entropy, max_depth=50, max_features=auto, n_estimators=10;, score=0.493 total time=   0.3s\n",
      "[CV 2/2] END criterion=entropy, max_depth=50, max_features=auto, n_estimators=10;, score=0.489 total time=   0.3s\n",
      "[CV 1/2] END criterion=entropy, max_depth=50, max_features=auto, n_estimators=50;, score=0.557 total time=   1.7s\n",
      "[CV 2/2] END criterion=entropy, max_depth=50, max_features=auto, n_estimators=50;, score=0.548 total time=   1.7s\n",
      "[CV 1/2] END criterion=entropy, max_depth=50, max_features=auto, n_estimators=100;, score=0.570 total time=   3.5s\n",
      "[CV 2/2] END criterion=entropy, max_depth=50, max_features=auto, n_estimators=100;, score=0.557 total time=   3.5s\n",
      "[CV 1/2] END criterion=entropy, max_depth=50, max_features=auto, n_estimators=250;, score=0.575 total time=   9.2s\n",
      "[CV 2/2] END criterion=entropy, max_depth=50, max_features=auto, n_estimators=250;, score=0.562 total time=   9.0s\n",
      "[CV 1/2] END criterion=entropy, max_depth=50, max_features=auto, n_estimators=500;, score=0.575 total time=  18.0s\n",
      "[CV 2/2] END criterion=entropy, max_depth=50, max_features=auto, n_estimators=500;, score=0.562 total time=  18.6s\n",
      "[CV 1/2] END criterion=entropy, max_depth=50, max_features=sqrt, n_estimators=10;, score=0.502 total time=   0.3s\n",
      "[CV 2/2] END criterion=entropy, max_depth=50, max_features=sqrt, n_estimators=10;, score=0.496 total time=   0.3s\n",
      "[CV 1/2] END criterion=entropy, max_depth=50, max_features=sqrt, n_estimators=50;, score=0.560 total time=   1.7s\n",
      "[CV 2/2] END criterion=entropy, max_depth=50, max_features=sqrt, n_estimators=50;, score=0.548 total time=   1.9s\n",
      "[CV 1/2] END criterion=entropy, max_depth=50, max_features=sqrt, n_estimators=100;, score=0.570 total time=   3.5s\n",
      "[CV 2/2] END criterion=entropy, max_depth=50, max_features=sqrt, n_estimators=100;, score=0.560 total time=   3.6s\n",
      "[CV 1/2] END criterion=entropy, max_depth=50, max_features=sqrt, n_estimators=250;, score=0.576 total time=   9.1s\n",
      "[CV 2/2] END criterion=entropy, max_depth=50, max_features=sqrt, n_estimators=250;, score=0.562 total time=   9.1s\n",
      "[CV 1/2] END criterion=entropy, max_depth=50, max_features=sqrt, n_estimators=500;, score=0.575 total time=  18.4s\n",
      "[CV 2/2] END criterion=entropy, max_depth=50, max_features=sqrt, n_estimators=500;, score=0.564 total time=  17.9s\n",
      "[CV 1/2] END criterion=entropy, max_depth=50, max_features=log2, n_estimators=10;, score=0.503 total time=   0.3s\n",
      "[CV 2/2] END criterion=entropy, max_depth=50, max_features=log2, n_estimators=10;, score=0.486 total time=   0.3s\n"
     ]
    },
    {
     "name": "stdout",
     "output_type": "stream",
     "text": [
      "[CV 1/2] END criterion=entropy, max_depth=50, max_features=log2, n_estimators=50;, score=0.559 total time=   1.7s\n",
      "[CV 2/2] END criterion=entropy, max_depth=50, max_features=log2, n_estimators=50;, score=0.550 total time=   1.7s\n",
      "[CV 1/2] END criterion=entropy, max_depth=50, max_features=log2, n_estimators=100;, score=0.567 total time=   3.6s\n",
      "[CV 2/2] END criterion=entropy, max_depth=50, max_features=log2, n_estimators=100;, score=0.552 total time=   3.5s\n",
      "[CV 1/2] END criterion=entropy, max_depth=50, max_features=log2, n_estimators=250;, score=0.577 total time=   9.0s\n",
      "[CV 2/2] END criterion=entropy, max_depth=50, max_features=log2, n_estimators=250;, score=0.566 total time=   8.7s\n",
      "[CV 1/2] END criterion=entropy, max_depth=50, max_features=log2, n_estimators=500;, score=0.575 total time=  17.9s\n",
      "[CV 2/2] END criterion=entropy, max_depth=50, max_features=log2, n_estimators=500;, score=0.567 total time=  17.7s\n",
      "[CV 1/2] END criterion=log_loss, max_depth=5, max_features=auto, n_estimators=10;, score=0.492 total time=   0.1s\n",
      "[CV 2/2] END criterion=log_loss, max_depth=5, max_features=auto, n_estimators=10;, score=0.475 total time=   0.1s\n",
      "[CV 1/2] END criterion=log_loss, max_depth=5, max_features=auto, n_estimators=50;, score=0.495 total time=   0.7s\n",
      "[CV 2/2] END criterion=log_loss, max_depth=5, max_features=auto, n_estimators=50;, score=0.486 total time=   0.7s\n",
      "[CV 1/2] END criterion=log_loss, max_depth=5, max_features=auto, n_estimators=100;, score=0.500 total time=   1.4s\n",
      "[CV 2/2] END criterion=log_loss, max_depth=5, max_features=auto, n_estimators=100;, score=0.492 total time=   1.4s\n",
      "[CV 1/2] END criterion=log_loss, max_depth=5, max_features=auto, n_estimators=250;, score=0.499 total time=   3.3s\n",
      "[CV 2/2] END criterion=log_loss, max_depth=5, max_features=auto, n_estimators=250;, score=0.485 total time=   3.4s\n",
      "[CV 1/2] END criterion=log_loss, max_depth=5, max_features=auto, n_estimators=500;, score=0.497 total time=   6.9s\n",
      "[CV 2/2] END criterion=log_loss, max_depth=5, max_features=auto, n_estimators=500;, score=0.485 total time=   7.1s\n",
      "[CV 1/2] END criterion=log_loss, max_depth=5, max_features=sqrt, n_estimators=10;, score=0.479 total time=   0.0s\n",
      "[CV 2/2] END criterion=log_loss, max_depth=5, max_features=sqrt, n_estimators=10;, score=0.469 total time=   0.1s\n",
      "[CV 1/2] END criterion=log_loss, max_depth=5, max_features=sqrt, n_estimators=50;, score=0.487 total time=   0.6s\n",
      "[CV 2/2] END criterion=log_loss, max_depth=5, max_features=sqrt, n_estimators=50;, score=0.480 total time=   0.7s\n",
      "[CV 1/2] END criterion=log_loss, max_depth=5, max_features=sqrt, n_estimators=100;, score=0.497 total time=   1.3s\n",
      "[CV 2/2] END criterion=log_loss, max_depth=5, max_features=sqrt, n_estimators=100;, score=0.487 total time=   1.4s\n",
      "[CV 1/2] END criterion=log_loss, max_depth=5, max_features=sqrt, n_estimators=250;, score=0.500 total time=   3.5s\n",
      "[CV 2/2] END criterion=log_loss, max_depth=5, max_features=sqrt, n_estimators=250;, score=0.491 total time=   3.4s\n",
      "[CV 1/2] END criterion=log_loss, max_depth=5, max_features=sqrt, n_estimators=500;, score=0.498 total time=   6.8s\n",
      "[CV 2/2] END criterion=log_loss, max_depth=5, max_features=sqrt, n_estimators=500;, score=0.483 total time=   6.7s\n",
      "[CV 1/2] END criterion=log_loss, max_depth=5, max_features=log2, n_estimators=10;, score=0.479 total time=   0.1s\n",
      "[CV 2/2] END criterion=log_loss, max_depth=5, max_features=log2, n_estimators=10;, score=0.470 total time=   0.0s\n",
      "[CV 1/2] END criterion=log_loss, max_depth=5, max_features=log2, n_estimators=50;, score=0.492 total time=   0.6s\n",
      "[CV 2/2] END criterion=log_loss, max_depth=5, max_features=log2, n_estimators=50;, score=0.482 total time=   0.6s\n",
      "[CV 1/2] END criterion=log_loss, max_depth=5, max_features=log2, n_estimators=100;, score=0.503 total time=   1.4s\n",
      "[CV 2/2] END criterion=log_loss, max_depth=5, max_features=log2, n_estimators=100;, score=0.484 total time=   1.3s\n",
      "[CV 1/2] END criterion=log_loss, max_depth=5, max_features=log2, n_estimators=250;, score=0.494 total time=   3.4s\n",
      "[CV 2/2] END criterion=log_loss, max_depth=5, max_features=log2, n_estimators=250;, score=0.490 total time=   3.6s\n",
      "[CV 1/2] END criterion=log_loss, max_depth=5, max_features=log2, n_estimators=500;, score=0.501 total time=   6.8s\n",
      "[CV 2/2] END criterion=log_loss, max_depth=5, max_features=log2, n_estimators=500;, score=0.484 total time=   7.5s\n",
      "[CV 1/2] END criterion=log_loss, max_depth=10, max_features=auto, n_estimators=10;, score=0.530 total time=   0.2s\n",
      "[CV 2/2] END criterion=log_loss, max_depth=10, max_features=auto, n_estimators=10;, score=0.508 total time=   0.3s\n",
      "[CV 1/2] END criterion=log_loss, max_depth=10, max_features=auto, n_estimators=50;, score=0.555 total time=   1.8s\n",
      "[CV 2/2] END criterion=log_loss, max_depth=10, max_features=auto, n_estimators=50;, score=0.546 total time=   1.6s\n",
      "[CV 1/2] END criterion=log_loss, max_depth=10, max_features=auto, n_estimators=100;, score=0.563 total time=   2.8s\n",
      "[CV 2/2] END criterion=log_loss, max_depth=10, max_features=auto, n_estimators=100;, score=0.548 total time=   2.8s\n",
      "[CV 1/2] END criterion=log_loss, max_depth=10, max_features=auto, n_estimators=250;, score=0.563 total time=   7.1s\n",
      "[CV 2/2] END criterion=log_loss, max_depth=10, max_features=auto, n_estimators=250;, score=0.551 total time=  16.2s\n",
      "[CV 1/2] END criterion=log_loss, max_depth=10, max_features=auto, n_estimators=500;, score=0.564 total time=  15.9s\n",
      "[CV 2/2] END criterion=log_loss, max_depth=10, max_features=auto, n_estimators=500;, score=0.553 total time=  14.3s\n",
      "[CV 1/2] END criterion=log_loss, max_depth=10, max_features=sqrt, n_estimators=10;, score=0.528 total time=   0.2s\n",
      "[CV 2/2] END criterion=log_loss, max_depth=10, max_features=sqrt, n_estimators=10;, score=0.511 total time=   0.2s\n",
      "[CV 1/2] END criterion=log_loss, max_depth=10, max_features=sqrt, n_estimators=50;, score=0.555 total time=   1.3s\n",
      "[CV 2/2] END criterion=log_loss, max_depth=10, max_features=sqrt, n_estimators=50;, score=0.540 total time=   1.2s\n",
      "[CV 1/2] END criterion=log_loss, max_depth=10, max_features=sqrt, n_estimators=100;, score=0.563 total time=   2.7s\n",
      "[CV 2/2] END criterion=log_loss, max_depth=10, max_features=sqrt, n_estimators=100;, score=0.547 total time=   2.8s\n",
      "[CV 1/2] END criterion=log_loss, max_depth=10, max_features=sqrt, n_estimators=250;, score=0.563 total time=   6.9s\n",
      "[CV 2/2] END criterion=log_loss, max_depth=10, max_features=sqrt, n_estimators=250;, score=0.554 total time=   7.0s\n",
      "[CV 1/2] END criterion=log_loss, max_depth=10, max_features=sqrt, n_estimators=500;, score=0.566 total time=  13.8s\n",
      "[CV 2/2] END criterion=log_loss, max_depth=10, max_features=sqrt, n_estimators=500;, score=0.553 total time=  13.6s\n",
      "[CV 1/2] END criterion=log_loss, max_depth=10, max_features=log2, n_estimators=10;, score=0.519 total time=   0.2s\n",
      "[CV 2/2] END criterion=log_loss, max_depth=10, max_features=log2, n_estimators=10;, score=0.513 total time=   0.2s\n",
      "[CV 1/2] END criterion=log_loss, max_depth=10, max_features=log2, n_estimators=50;, score=0.556 total time=   1.3s\n",
      "[CV 2/2] END criterion=log_loss, max_depth=10, max_features=log2, n_estimators=50;, score=0.544 total time=   1.2s\n",
      "[CV 1/2] END criterion=log_loss, max_depth=10, max_features=log2, n_estimators=100;, score=0.560 total time=   2.7s\n",
      "[CV 2/2] END criterion=log_loss, max_depth=10, max_features=log2, n_estimators=100;, score=0.550 total time=   2.7s\n",
      "[CV 1/2] END criterion=log_loss, max_depth=10, max_features=log2, n_estimators=250;, score=0.565 total time=   6.7s\n",
      "[CV 2/2] END criterion=log_loss, max_depth=10, max_features=log2, n_estimators=250;, score=0.553 total time=   6.9s\n",
      "[CV 1/2] END criterion=log_loss, max_depth=10, max_features=log2, n_estimators=500;, score=0.566 total time=  13.6s\n",
      "[CV 2/2] END criterion=log_loss, max_depth=10, max_features=log2, n_estimators=500;, score=0.553 total time=  13.8s\n",
      "[CV 1/2] END criterion=log_loss, max_depth=25, max_features=auto, n_estimators=10;, score=0.499 total time=   0.3s\n",
      "[CV 2/2] END criterion=log_loss, max_depth=25, max_features=auto, n_estimators=10;, score=0.502 total time=   0.2s\n",
      "[CV 1/2] END criterion=log_loss, max_depth=25, max_features=auto, n_estimators=50;, score=0.556 total time=   1.7s\n",
      "[CV 2/2] END criterion=log_loss, max_depth=25, max_features=auto, n_estimators=50;, score=0.543 total time=   1.7s\n"
     ]
    },
    {
     "name": "stdout",
     "output_type": "stream",
     "text": [
      "[CV 1/2] END criterion=log_loss, max_depth=25, max_features=auto, n_estimators=100;, score=0.565 total time=   3.5s\n",
      "[CV 2/2] END criterion=log_loss, max_depth=25, max_features=auto, n_estimators=100;, score=0.554 total time=   3.4s\n",
      "[CV 1/2] END criterion=log_loss, max_depth=25, max_features=auto, n_estimators=250;, score=0.574 total time=   8.6s\n",
      "[CV 2/2] END criterion=log_loss, max_depth=25, max_features=auto, n_estimators=250;, score=0.560 total time=   8.7s\n",
      "[CV 1/2] END criterion=log_loss, max_depth=25, max_features=auto, n_estimators=500;, score=0.574 total time=  17.7s\n",
      "[CV 2/2] END criterion=log_loss, max_depth=25, max_features=auto, n_estimators=500;, score=0.564 total time=  17.0s\n",
      "[CV 1/2] END criterion=log_loss, max_depth=25, max_features=sqrt, n_estimators=10;, score=0.498 total time=   0.3s\n",
      "[CV 2/2] END criterion=log_loss, max_depth=25, max_features=sqrt, n_estimators=10;, score=0.489 total time=   0.3s\n",
      "[CV 1/2] END criterion=log_loss, max_depth=25, max_features=sqrt, n_estimators=50;, score=0.562 total time=   1.6s\n",
      "[CV 2/2] END criterion=log_loss, max_depth=25, max_features=sqrt, n_estimators=50;, score=0.548 total time=   1.6s\n",
      "[CV 1/2] END criterion=log_loss, max_depth=25, max_features=sqrt, n_estimators=100;, score=0.572 total time=   3.3s\n",
      "[CV 2/2] END criterion=log_loss, max_depth=25, max_features=sqrt, n_estimators=100;, score=0.553 total time=   3.2s\n",
      "[CV 1/2] END criterion=log_loss, max_depth=25, max_features=sqrt, n_estimators=250;, score=0.575 total time=   8.7s\n",
      "[CV 2/2] END criterion=log_loss, max_depth=25, max_features=sqrt, n_estimators=250;, score=0.564 total time=   8.5s\n",
      "[CV 1/2] END criterion=log_loss, max_depth=25, max_features=sqrt, n_estimators=500;, score=0.575 total time=  17.8s\n",
      "[CV 2/2] END criterion=log_loss, max_depth=25, max_features=sqrt, n_estimators=500;, score=0.564 total time=  17.9s\n",
      "[CV 1/2] END criterion=log_loss, max_depth=25, max_features=log2, n_estimators=10;, score=0.502 total time=   0.3s\n",
      "[CV 2/2] END criterion=log_loss, max_depth=25, max_features=log2, n_estimators=10;, score=0.487 total time=   0.3s\n",
      "[CV 1/2] END criterion=log_loss, max_depth=25, max_features=log2, n_estimators=50;, score=0.554 total time=   1.7s\n",
      "[CV 2/2] END criterion=log_loss, max_depth=25, max_features=log2, n_estimators=50;, score=0.545 total time=   1.8s\n",
      "[CV 1/2] END criterion=log_loss, max_depth=25, max_features=log2, n_estimators=100;, score=0.565 total time=   3.5s\n",
      "[CV 2/2] END criterion=log_loss, max_depth=25, max_features=log2, n_estimators=100;, score=0.557 total time=   3.5s\n",
      "[CV 1/2] END criterion=log_loss, max_depth=25, max_features=log2, n_estimators=250;, score=0.577 total time=   9.2s\n",
      "[CV 2/2] END criterion=log_loss, max_depth=25, max_features=log2, n_estimators=250;, score=0.556 total time=   9.0s\n",
      "[CV 1/2] END criterion=log_loss, max_depth=25, max_features=log2, n_estimators=500;, score=0.577 total time=  19.5s\n",
      "[CV 2/2] END criterion=log_loss, max_depth=25, max_features=log2, n_estimators=500;, score=0.562 total time=  19.4s\n",
      "[CV 1/2] END criterion=log_loss, max_depth=34, max_features=auto, n_estimators=10;, score=0.498 total time=   0.3s\n",
      "[CV 2/2] END criterion=log_loss, max_depth=34, max_features=auto, n_estimators=10;, score=0.493 total time=   0.3s\n",
      "[CV 1/2] END criterion=log_loss, max_depth=34, max_features=auto, n_estimators=50;, score=0.556 total time=   1.8s\n",
      "[CV 2/2] END criterion=log_loss, max_depth=34, max_features=auto, n_estimators=50;, score=0.551 total time=   1.7s\n",
      "[CV 1/2] END criterion=log_loss, max_depth=34, max_features=auto, n_estimators=100;, score=0.569 total time=   3.6s\n",
      "[CV 2/2] END criterion=log_loss, max_depth=34, max_features=auto, n_estimators=100;, score=0.562 total time=   3.5s\n",
      "[CV 1/2] END criterion=log_loss, max_depth=34, max_features=auto, n_estimators=250;, score=0.573 total time=   9.4s\n",
      "[CV 2/2] END criterion=log_loss, max_depth=34, max_features=auto, n_estimators=250;, score=0.564 total time=  10.6s\n",
      "[CV 1/2] END criterion=log_loss, max_depth=34, max_features=auto, n_estimators=500;, score=0.574 total time=  18.5s\n",
      "[CV 2/2] END criterion=log_loss, max_depth=34, max_features=auto, n_estimators=500;, score=0.563 total time=  18.1s\n",
      "[CV 1/2] END criterion=log_loss, max_depth=34, max_features=sqrt, n_estimators=10;, score=0.501 total time=   0.3s\n",
      "[CV 2/2] END criterion=log_loss, max_depth=34, max_features=sqrt, n_estimators=10;, score=0.488 total time=   0.3s\n",
      "[CV 1/2] END criterion=log_loss, max_depth=34, max_features=sqrt, n_estimators=50;, score=0.555 total time=   2.0s\n",
      "[CV 2/2] END criterion=log_loss, max_depth=34, max_features=sqrt, n_estimators=50;, score=0.554 total time=   1.9s\n",
      "[CV 1/2] END criterion=log_loss, max_depth=34, max_features=sqrt, n_estimators=100;, score=0.570 total time=   3.4s\n",
      "[CV 2/2] END criterion=log_loss, max_depth=34, max_features=sqrt, n_estimators=100;, score=0.556 total time=   3.6s\n",
      "[CV 1/2] END criterion=log_loss, max_depth=34, max_features=sqrt, n_estimators=250;, score=0.577 total time=   9.1s\n",
      "[CV 2/2] END criterion=log_loss, max_depth=34, max_features=sqrt, n_estimators=250;, score=0.561 total time=  10.0s\n",
      "[CV 1/2] END criterion=log_loss, max_depth=34, max_features=sqrt, n_estimators=500;, score=0.574 total time=  18.8s\n",
      "[CV 2/2] END criterion=log_loss, max_depth=34, max_features=sqrt, n_estimators=500;, score=0.565 total time=  18.0s\n",
      "[CV 1/2] END criterion=log_loss, max_depth=34, max_features=log2, n_estimators=10;, score=0.501 total time=   0.3s\n",
      "[CV 2/2] END criterion=log_loss, max_depth=34, max_features=log2, n_estimators=10;, score=0.492 total time=   0.3s\n",
      "[CV 1/2] END criterion=log_loss, max_depth=34, max_features=log2, n_estimators=50;, score=0.559 total time=   1.7s\n",
      "[CV 2/2] END criterion=log_loss, max_depth=34, max_features=log2, n_estimators=50;, score=0.547 total time=   1.8s\n",
      "[CV 1/2] END criterion=log_loss, max_depth=34, max_features=log2, n_estimators=100;, score=0.568 total time=   3.7s\n",
      "[CV 2/2] END criterion=log_loss, max_depth=34, max_features=log2, n_estimators=100;, score=0.559 total time=   3.8s\n",
      "[CV 1/2] END criterion=log_loss, max_depth=34, max_features=log2, n_estimators=250;, score=0.575 total time=   9.2s\n",
      "[CV 2/2] END criterion=log_loss, max_depth=34, max_features=log2, n_estimators=250;, score=0.563 total time=   9.0s\n",
      "[CV 1/2] END criterion=log_loss, max_depth=34, max_features=log2, n_estimators=500;, score=0.575 total time=  18.3s\n",
      "[CV 2/2] END criterion=log_loss, max_depth=34, max_features=log2, n_estimators=500;, score=0.561 total time=  18.4s\n",
      "[CV 1/2] END criterion=log_loss, max_depth=50, max_features=auto, n_estimators=10;, score=0.495 total time=   0.3s\n",
      "[CV 2/2] END criterion=log_loss, max_depth=50, max_features=auto, n_estimators=10;, score=0.484 total time=   0.3s\n",
      "[CV 1/2] END criterion=log_loss, max_depth=50, max_features=auto, n_estimators=50;, score=0.560 total time=   1.8s\n",
      "[CV 2/2] END criterion=log_loss, max_depth=50, max_features=auto, n_estimators=50;, score=0.548 total time=   2.0s\n",
      "[CV 1/2] END criterion=log_loss, max_depth=50, max_features=auto, n_estimators=100;, score=0.567 total time=   3.6s\n",
      "[CV 2/2] END criterion=log_loss, max_depth=50, max_features=auto, n_estimators=100;, score=0.555 total time=   3.4s\n",
      "[CV 1/2] END criterion=log_loss, max_depth=50, max_features=auto, n_estimators=250;, score=0.575 total time=   8.9s\n",
      "[CV 2/2] END criterion=log_loss, max_depth=50, max_features=auto, n_estimators=250;, score=0.561 total time=   8.8s\n",
      "[CV 1/2] END criterion=log_loss, max_depth=50, max_features=auto, n_estimators=500;, score=0.573 total time=  18.3s\n",
      "[CV 2/2] END criterion=log_loss, max_depth=50, max_features=auto, n_estimators=500;, score=0.564 total time=  18.6s\n",
      "[CV 1/2] END criterion=log_loss, max_depth=50, max_features=sqrt, n_estimators=10;, score=0.503 total time=   0.3s\n",
      "[CV 2/2] END criterion=log_loss, max_depth=50, max_features=sqrt, n_estimators=10;, score=0.494 total time=   0.3s\n",
      "[CV 1/2] END criterion=log_loss, max_depth=50, max_features=sqrt, n_estimators=50;, score=0.563 total time=   1.7s\n",
      "[CV 2/2] END criterion=log_loss, max_depth=50, max_features=sqrt, n_estimators=50;, score=0.549 total time=   1.8s\n",
      "[CV 1/2] END criterion=log_loss, max_depth=50, max_features=sqrt, n_estimators=100;, score=0.570 total time=   3.5s\n"
     ]
    },
    {
     "name": "stdout",
     "output_type": "stream",
     "text": [
      "[CV 2/2] END criterion=log_loss, max_depth=50, max_features=sqrt, n_estimators=100;, score=0.559 total time=   4.7s\n",
      "[CV 1/2] END criterion=log_loss, max_depth=50, max_features=sqrt, n_estimators=250;, score=0.578 total time=   9.2s\n",
      "[CV 2/2] END criterion=log_loss, max_depth=50, max_features=sqrt, n_estimators=250;, score=0.562 total time=   8.9s\n",
      "[CV 1/2] END criterion=log_loss, max_depth=50, max_features=sqrt, n_estimators=500;, score=0.577 total time=  18.7s\n",
      "[CV 2/2] END criterion=log_loss, max_depth=50, max_features=sqrt, n_estimators=500;, score=0.567 total time=  19.2s\n",
      "[CV 1/2] END criterion=log_loss, max_depth=50, max_features=log2, n_estimators=10;, score=0.500 total time=   0.3s\n",
      "[CV 2/2] END criterion=log_loss, max_depth=50, max_features=log2, n_estimators=10;, score=0.492 total time=   0.3s\n",
      "[CV 1/2] END criterion=log_loss, max_depth=50, max_features=log2, n_estimators=50;, score=0.564 total time=   1.7s\n",
      "[CV 2/2] END criterion=log_loss, max_depth=50, max_features=log2, n_estimators=50;, score=0.547 total time=   1.8s\n",
      "[CV 1/2] END criterion=log_loss, max_depth=50, max_features=log2, n_estimators=100;, score=0.566 total time=   3.5s\n",
      "[CV 2/2] END criterion=log_loss, max_depth=50, max_features=log2, n_estimators=100;, score=0.557 total time=   3.6s\n",
      "[CV 1/2] END criterion=log_loss, max_depth=50, max_features=log2, n_estimators=250;, score=0.572 total time=   8.9s\n",
      "[CV 2/2] END criterion=log_loss, max_depth=50, max_features=log2, n_estimators=250;, score=0.560 total time=   8.8s\n",
      "[CV 1/2] END criterion=log_loss, max_depth=50, max_features=log2, n_estimators=500;, score=0.574 total time=  18.5s\n",
      "[CV 2/2] END criterion=log_loss, max_depth=50, max_features=log2, n_estimators=500;, score=0.563 total time=  18.2s\n",
      "RandomForestClassifier(max_depth=25, max_features='auto', n_estimators=500)\n"
     ]
    }
   ],
   "source": [
    "import warnings\n",
    "warnings.filterwarnings(\"ignore\")\n",
    "\n",
    "# To begin our grid search, we initizlize a dictionary with the random forest's parameters as keys, and the \n",
    "# values we want to test as values.\n",
    "grid_parameters = { \n",
    "    'n_estimators': [10,50,100, 250, 500],\n",
    "    'criterion' :['gini', 'entropy', 'log_loss'],\n",
    "    'max_features': ['auto', 'sqrt', 'log2'],\n",
    "    'max_depth' : [5,10,25,34,50] # 34 was the max depth in our base example\n",
    "    #,\"bootstrap\": [True, False]\n",
    "    \n",
    "}\n",
    "\n",
    "# This is the chunck that takes the longest. We pass the classifer type, and parameters into the function to grid seach.\n",
    "# Verbose only impacts what is displayed, setting it to 3 gives us the score of each test.\n",
    "# In this case, we use cv=2, that means each parameter will get 1 tests. Increasing this extends runtime significantly.\n",
    "grid = GridSearchCV(RandomForestClassifier(), grid_parameters, verbose=3, cv=2)\n",
    "grid.fit(X_train,y_train)\n",
    "\n",
    "print(grid.best_estimator_)"
   ]
  },
  {
   "cell_type": "code",
   "execution_count": 14,
   "id": "64a43ffa",
   "metadata": {},
   "outputs": [
    {
     "ename": "NameError",
     "evalue": "name 'grid' is not defined",
     "output_type": "error",
     "traceback": [
      "\u001b[1;31m---------------------------------------------------------------------------\u001b[0m",
      "\u001b[1;31mNameError\u001b[0m                                 Traceback (most recent call last)",
      "Cell \u001b[1;32mIn[14], line 2\u001b[0m\n\u001b[0;32m      1\u001b[0m \u001b[38;5;66;03m# It's Done! Lets check out what our best parameters were.\u001b[39;00m\n\u001b[1;32m----> 2\u001b[0m \u001b[38;5;28mprint\u001b[39m(\u001b[43mgrid\u001b[49m\u001b[38;5;241m.\u001b[39mbest_score_)\n\u001b[0;32m      3\u001b[0m \u001b[38;5;28mprint\u001b[39m(grid\u001b[38;5;241m.\u001b[39mbest_params_)\n",
      "\u001b[1;31mNameError\u001b[0m: name 'grid' is not defined"
     ]
    }
   ],
   "source": [
    "# It's Done! Lets check out what our best parameters were.\n",
    "print(grid.best_score_)\n",
    "print(grid.best_params_)"
   ]
  },
  {
   "cell_type": "markdown",
   "id": "fc25295a",
   "metadata": {},
   "source": [
    "From here we can see that using gini as our criterion, log2 as our matx features, and max depth and n_esimators set to 50, and 500 respectivly has the best result. Lets run the model with those parameters and get out a score."
   ]
  },
  {
   "cell_type": "code",
   "execution_count": 17,
   "id": "bcade223",
   "metadata": {},
   "outputs": [
    {
     "name": "stdout",
     "output_type": "stream",
     "text": [
      "[[206   9  99  12  29  25]\n",
      " [ 14 144 103  55 102  20]\n",
      " [ 56  31 444  94  57 124]\n",
      " [  2  26  99 374 126  59]\n",
      " [ 16  24  62  75 485  18]\n",
      " [ 14   9  84  54  10 530]]\n",
      "              precision    recall  f1-score   support\n",
      "\n",
      "         edm       0.67      0.54      0.60       380\n",
      "       latin       0.59      0.33      0.42       438\n",
      "         pop       0.50      0.55      0.52       806\n",
      "         r&b       0.56      0.55      0.55       686\n",
      "         rap       0.60      0.71      0.65       680\n",
      "        rock       0.68      0.76      0.72       701\n",
      "\n",
      "    accuracy                           0.59      3691\n",
      "   macro avg       0.60      0.57      0.58      3691\n",
      "weighted avg       0.59      0.59      0.59      3691\n",
      "\n"
     ]
    }
   ],
   "source": [
    "grid_predictions = grid.predict(X_test)\n",
    "print(confusion_matrix(y_test,grid_predictions))\n",
    "print(classification_report(y_test,grid_predictions))"
   ]
  },
  {
   "cell_type": "markdown",
   "id": "2e20a4ad",
   "metadata": {},
   "source": [
    "Through out grid search, we found that the best accuracy achieved by a random forest model was ~0.574. This score was achieved with the parameter settings: 'criterion': 'gini', 'max_depth': 50, 'max_features': 'auto', 'n_estimators': 500. Although this score is slightly better than the base random forest model, and significantly better than random guessing, it is still not as high as we would like to see. Moving forward, we want to appraoch song genre classification in a new way, using a song's MIDI file."
   ]
  },
  {
   "cell_type": "markdown",
   "id": "dd1f2900",
   "metadata": {},
   "source": [
    "## Sample Size Testing"
   ]
  },
  {
   "cell_type": "markdown",
   "id": "818b8e2e",
   "metadata": {},
   "source": [
    "Now that we have a finalized model, we want to confirm it's resiliancy to new data. To do this there are a few indicators we can check. In the cells above this one, we affirmed that different hyper parameter settings and the different features aren't to sensitive, which is a good sign for overall resiliancy. Now, we want to check if we are using a good amount of data to prove that new data introduced in the future wont cause to much sway. To do this we run our model on different sample sizes and plot their accuracy."
   ]
  },
  {
   "cell_type": "code",
   "execution_count": 38,
   "id": "dce3ac9c",
   "metadata": {},
   "outputs": [
    {
     "name": "stdout",
     "output_type": "stream",
     "text": [
      "Sample size: 1000 Score: 0.497\n",
      "Sample size: 2000 Score: 0.532\n",
      "Sample size: 3000 Score: 0.545\n",
      "Sample size: 4000 Score: 0.555\n",
      "Sample size: 5000 Score: 0.555\n",
      "Sample size: 6000 Score: 0.558\n",
      "Sample size: 7000 Score: 0.568\n",
      "Sample size: 8000 Score: 0.565\n",
      "Sample size: 9000 Score: 0.564\n",
      "Sample size: 10000 Score: 0.576\n",
      "Sample size: 11000 Score: 0.574\n",
      "Sample size: 12000 Score: 0.576\n",
      "Sample size: 13000 Score: 0.578\n",
      "Sample size: 14000 Score: 0.584\n"
     ]
    }
   ],
   "source": [
    "# Initialize our lists that will be plotted\n",
    "sample_sizes = []\n",
    "scores = []\n",
    "st_devs = []\n",
    "\n",
    "# Run through different sample sizes, starting at 1,000 and incrementing up by 1,000 until we hit 14,000\n",
    "for n in range(1000,15000,1000):\n",
    "    \n",
    "    # Creating the subsamples of our training data\n",
    "    selected_indexes = np.random.choice(len(X_train), n, False)\n",
    "    y_sub_train = y_train.iloc[selected_indexes]\n",
    "    X_sub_train = X_train[selected_indexes]\n",
    "    \n",
    "    # Create a model using the best hyperparameters found during the grid search\n",
    "    rf_sub = RandomForestClassifier(n_estimators=500, criterion='gini', max_depth=50, random_state=42, n_jobs=-1)\n",
    "    cv_score = cross_val_score(rf_sub, X_sub_train, y_sub_train, cv = 10, scoring = 'accuracy')\n",
    "    \n",
    "    # Retrieve our evaluation metrics for this iteration\n",
    "    cv_mean = cv_score.mean()\n",
    "    cv_std = cv_score.std()\n",
    "    \n",
    "    # Add our values to our lists to be plotted\n",
    "    sample_sizes.append(n)\n",
    "    scores.append(cv_mean)\n",
    "    st_devs.append(cv_std)\n",
    "    \n",
    "    # Print out the scores to see if accuracy is progressing\n",
    "    print('Sample size:', n, 'Score:', round(cv_score.mean(),3))"
   ]
  },
  {
   "cell_type": "code",
   "execution_count": 39,
   "id": "dcfc736d",
   "metadata": {},
   "outputs": [
    {
     "data": {
      "image/png": "[encoded data removed]",
      "text/plain": [
       "<Figure size 640x480 with 1 Axes>"
      ]
     },
     "metadata": {},
     "output_type": "display_data"
    }
   ],
   "source": [
    "# Using an error bar graph, we can see the progression of accuracy, and the shrinking standard deviation as n increases\n",
    "plt.errorbar(sample_sizes, scores, st_devs, marker = 'o')\n",
    "plt.title('Sample Size Impact on Accuracy')\n",
    "plt.xlabel(\"Sample Size\")\n",
    "plt.ylabel(\"Accuracy\")\n",
    "plt.show()"
   ]
  },
  {
   "cell_type": "code",
   "execution_count": null,
   "id": "4148a005",
   "metadata": {},
   "outputs": [],
   "source": []
  }
 ],
 "metadata": {
  "kernelspec": {
   "display_name": "Python 3 (ipykernel)",
   "language": "python",
   "name": "python3"
  },
  "language_info": {
   "codemirror_mode": {
    "name": "ipython",
    "version": 3
   },
   "file_extension": ".py",
   "mimetype": "text/x-python",
   "name": "python",
   "nbconvert_exporter": "python",
   "pygments_lexer": "ipython3",
   "version": "3.10.9"
  },
  "widgets": {
   "application/vnd.jupyter.widget-state+json": {
    "state": {},
    "version_major": 2,
    "version_minor": 0
   }
  }
 },
 "nbformat": 4,
 "nbformat_minor": 5
}
