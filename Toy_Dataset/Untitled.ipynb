{
 "cells": [
  {
   "cell_type": "code",
   "execution_count": 2,
   "id": "8b1fa48e-cb54-4dbb-a334-48bb7caeae83",
   "metadata": {},
   "outputs": [],
   "source": [
    "import os\n",
    "from tqdm import tqdm\n",
    "from tqdm import tqdm\n",
    "import re\n",
    "import numpy as np\n",
    "from scipy.ndimage import zoom\n",
    "from langdetect import detect\n",
    "import pretty_midi\n",
    "import pickle\n",
    "import pandas as pd\n",
    "\n",
    "def dfs_showdir(path, depth, label):\n",
    "    for item in os.listdir(path):\n",
    "        # if '.git' not in item:\n",
    "            newitem = path +'/'+ item\n",
    "            if os.path.isdir(newitem):\n",
    "                dfs_showdir(newitem, depth +1, label+[item])\n",
    "            else:\n",
    "                res.append([label[-1], newitem])"
   ]
  },
  {
   "cell_type": "code",
   "execution_count": 14,
   "id": "521bc3e4-17ca-4d9c-8a46-2d6dae1ac7c7",
   "metadata": {},
   "outputs": [
    {
     "name": "stdout",
     "output_type": "stream",
     "text": [
      "All content numbers is 18\n"
     ]
    },
    {
     "name": "stderr",
     "output_type": "stream",
     "text": [
      "100%|██████████████████████████████████████████████████████████████████████████████████| 18/18 [00:00<00:00, 31.45it/s]\n"
     ]
    }
   ],
   "source": [
    "target_path = './adl-piano-midi/'\n",
    "all_content=os.listdir(target_path)\n",
    "print('All content numbers is',len(all_content))\n",
    "res = []\n",
    "label = []\n",
    "for content in tqdm(all_content):\n",
    "    if os.path.isdir(target_path+content):\n",
    "        all_sub_content=os.listdir(target_path+content)\n",
    "        for subcontent in all_sub_content:\n",
    "            dfs_showdir(target_path+content+'/'+subcontent, 0, label+[subcontent])"
   ]
  },
  {
   "cell_type": "code",
   "execution_count": 16,
   "id": "73b316ad-fc7a-4ed4-b1fc-1ec2ac20ba3a",
   "metadata": {},
   "outputs": [],
   "source": [
    "data = pd.DataFrame(res, columns = ['music_ID', 'address'])"
   ]
  },
  {
   "cell_type": "code",
   "execution_count": 19,
   "id": "53f60baf-a953-4c43-a5f3-1918f38a0097",
   "metadata": {},
   "outputs": [
    {
     "data": {
      "text/plain": [
       "'./adl-piano-midi/Ambient/Ambient/Roger Eno/Sunburst (Album Version).mid'"
      ]
     },
     "execution_count": 19,
     "metadata": {},
     "output_type": "execute_result"
    }
   ],
   "source": [
    "data.address[0]"
   ]
  },
  {
   "cell_type": "code",
   "execution_count": null,
   "id": "41ed570c-04cc-4657-acb3-0982ff4db67a",
   "metadata": {},
   "outputs": [],
   "source": []
  }
 ],
 "metadata": {
  "kernelspec": {
   "display_name": "Python 3 (ipykernel)",
   "language": "python",
   "name": "python3"
  },
  "language_info": {
   "codemirror_mode": {
    "name": "ipython",
    "version": 3
   },
   "file_extension": ".py",
   "mimetype": "text/x-python",
   "name": "python",
   "nbconvert_exporter": "python",
   "pygments_lexer": "ipython3",
   "version": "3.9.13"
  },
  "widgets": {
   "application/vnd.jupyter.widget-state+json": {
    "state": {},
    "version_major": 2,
    "version_minor": 0
   }
  }
 },
 "nbformat": 4,
 "nbformat_minor": 5
}
