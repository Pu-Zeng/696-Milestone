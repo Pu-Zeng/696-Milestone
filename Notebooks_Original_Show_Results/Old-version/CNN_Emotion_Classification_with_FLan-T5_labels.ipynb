{
 "cells": [
  {
   "cell_type": "code",
   "execution_count": null,
   "metadata": {
    "id": "wRF6FLeb5DXz"
   },
   "outputs": [],
   "source": [
    "from google.colab import drive\n",
    "drive.mount('/content/drive')"
   ]
  },
  {
   "cell_type": "code",
   "execution_count": 92,
   "metadata": {
    "id": "u8eSS9tg62ge",
    "tags": []
   },
   "outputs": [],
   "source": [
    "import os\n",
    "import pandas as pd\n",
    "from tqdm import tqdm\n",
    "import matplotlib.pyplot as plt\n",
    "# import mido\n",
    "import string\n",
    "import numpy as np\n",
    "# from utilis import get_pianoroll_data\n",
    "import pickle\n",
    "import os\n",
    "import pandas as pd\n",
    "from tqdm import tqdm\n",
    "import matplotlib.pyplot as plt\n",
    "# import mido\n",
    "import string\n",
    "import numpy as np\n",
    "# from utilis import get_pianoroll_data\n",
    "import pickle\n",
    "from sklearn import preprocessing\n",
    "import torch\n",
    "import torch\n",
    "import torch.nn as nn\n",
    "import torch.nn.functional as F\n",
    "import torchvision\n",
    "import torchvision.transforms as transforms\n",
    "from sklearn.datasets import fetch_california_housing\n",
    "from sklearn.model_selection import train_test_split\n",
    "\n",
    "from torch.utils.data import TensorDataset\n"
   ]
  },
  {
   "cell_type": "code",
   "execution_count": 93,
   "metadata": {
    "tags": []
   },
   "outputs": [],
   "source": [
    "# Open_file\n",
    "file=open(\"single_word_emotion_music1.bin\",\"rb\")\n",
    "music_data = pickle.load(file) #保存list到文件\n",
    "file.close()"
   ]
  },
  {
   "cell_type": "code",
   "execution_count": 96,
   "metadata": {
    "tags": []
   },
   "outputs": [
    {
     "data": {
      "text/plain": [
       "array([\"a-livin'\", 'accaderelo', 'achey', 'acquittaloe', 'adagio',\n",
       "       'adolescent', 'adrift', 'african', 'ah!', 'aha', 'ahdammi', 'ahh',\n",
       "       'ahi', 'amazing', 'amore', 'amoree', 'anger', 'angry', 'arousal',\n",
       "       \"avversita'\", 'awe', 'ayayay', 'beautiful', 'bene', 'comfort',\n",
       "       'confused', 'darkness', 'depressed', \"e'\", 'e.universo', 'ecstasy',\n",
       "       'eh', 'eloquent', 'emo', 'emocionante', 'emotion', 'emotional',\n",
       "       'emozione', 'empathetic', 'enlightened', 'esattamente', 'esattro',\n",
       "       'etu', 'euphoria',\n",
       "       'evtiiiiiiiiiiiiiiiiiiiiiiiiiiiiiiiiiiiiiiiiiiiiii', 'excited',\n",
       "       'fear', 'fearful', 'fearless', 'free', 'freedom', 'frightened',\n",
       "       'frightful', 'good', 'grateful', 'happy', 'happyness',\n",
       "       'heaialcupation', 'heartbreak', 'helpful', 'hopeful', 'hurt',\n",
       "       'hysterical', 'i', \"i'm\", 'iose', 'irritated', 'joy', 'joyous',\n",
       "       'lonely', 'love', 'money', 'negative', 'new', 'nostalgic',\n",
       "       'positive', 'powerful', \"rainin'\", 'sad', 'sadness', 'scared',\n",
       "       'shame', 'strong', 'tender', 'tenderness', 'time', 'tired',\n",
       "       'tiredness', 'uneasy', 'unsure', 'upset', 'vain'], dtype='<U49')"
      ]
     },
     "execution_count": 96,
     "metadata": {},
     "output_type": "execute_result"
    }
   ],
   "source": [
    "# Show the Flan-T5 Generated Labels\n",
    "np.unique([x[1] for x in music_data])"
   ]
  },
  {
   "cell_type": "code",
   "execution_count": 4,
   "metadata": {
    "tags": []
   },
   "outputs": [
    {
     "data": {
      "text/plain": [
       "1122"
      ]
     },
     "execution_count": 4,
     "metadata": {},
     "output_type": "execute_result"
    }
   ],
   "source": [
    "(np.array([x[0].shape[0] for x in music_data])>612).sum()"
   ]
  },
  {
   "cell_type": "code",
   "execution_count": 98,
   "metadata": {
    "id": "a5ONeVUU7MOU",
    "tags": []
   },
   "outputs": [],
   "source": [
    "# Replace repetive labels\n",
    "from tqdm import tqdm\n",
    "X = []\n",
    "y = []\n",
    "chosen_label = ['sadness', 'happy', 'love', 'joy', 'negative', 'positive', 'anger',\n",
    "       'awe', 'emotional', 'hopeful', 'angry', 'excited', 'fear', 'hurt',\n",
    "       'fearful']\n",
    "# for i in tqdm(range(1,10)):\n",
    "file=open(\"single_word_emotion_music1.bin\",\"rb\")\n",
    "music_data = pickle.load(file) #保存list到文件\n",
    "file.close()\n",
    "for m in music_data:\n",
    "    if m[0].shape[0]>=612 and m[1] in chosen_label:\n",
    "        X.append(m[0][100:612,:])\n",
    "        if m[1] == 'anger':\n",
    "            m[1] = 'angry'\n",
    "        if m[1] == 'fearful':\n",
    "            m[1] = 'fear'\n",
    "        if m[1] == 'joy':\n",
    "            m[1] = 'happy'\n",
    "        y.append(m[1])\n",
    "X = np.array(X)"
   ]
  },
  {
   "cell_type": "code",
   "execution_count": 99,
   "metadata": {
    "tags": []
   },
   "outputs": [
    {
     "data": {
      "text/plain": [
       "array(['angry', 'awe', 'emotional', 'excited', 'fear', 'happy', 'hopeful',\n",
       "       'hurt', 'love', 'negative', 'positive', 'sadness'], dtype='<U9')"
      ]
     },
     "execution_count": 99,
     "metadata": {},
     "output_type": "execute_result"
    }
   ],
   "source": [
    "# Unique Labels\n",
    "np.unique(y)"
   ]
  },
  {
   "cell_type": "code",
   "execution_count": 100,
   "metadata": {
    "tags": []
   },
   "outputs": [],
   "source": [
    "# Transform labels into one-hot variable\n",
    "from sklearn import preprocessing\n",
    "import torch\n",
    "\n",
    "le = preprocessing.LabelEncoder()\n",
    "y = le.fit_transform(y)\n",
    "\n",
    "label_dict = {}\n",
    "for cl in le.classes_:\n",
    "    label_dict.update({cl:le.transform([cl])[0]})"
   ]
  },
  {
   "cell_type": "code",
   "execution_count": 7,
   "metadata": {
    "tags": []
   },
   "outputs": [],
   "source": [
    "# Define CNN\n",
    "class CNNModel(nn.Module):\n",
    "    def __init__(self, hiddenSize, outChannels, dropoutRate, activate):\n",
    "        super().__init__()\n",
    "        self.outChannels = outChannels\n",
    "        self.activate = nn.Sigmoid() if activate == \"Sigmoid\" else nn.ReLU()\n",
    "        self.conv1 = nn.Conv2d(1, 24, (10,1))\n",
    "        self.pool = nn.MaxPool2d((2, 1))\n",
    "        self.conv2 = nn.Conv2d(24, 48, (10,1))\n",
    "        self.conv3 = nn.Conv2d(48, 96, (10,1))\n",
    "        self.conv4 = nn.Conv2d(96, 192, (10,1))\n",
    "        self.conv5 = nn.Conv2d(192, 384, (5,2))\n",
    "        self.conv6 = nn.Conv2d(384, 192, (5,2))\n",
    "        self.dense1 = nn.Linear(48384, hiddenSize)\n",
    "        self.dropout = nn.Dropout(dropoutRate)\n",
    "        self.dense2 = nn.Linear(hiddenSize, 12)\n",
    "\n",
    "    def forward(self, x):\n",
    "        x = self.pool(self.activate(self.conv1(x)))\n",
    "        x = self.pool(self.activate(self.conv2(x)))\n",
    "        # print(x.shape)\n",
    "        x = self.dropout(self.pool(self.activate(self.conv3(x))))\n",
    "        x = self.pool(self.activate(self.conv4(x)))\n",
    "        x = self.pool(self.activate(self.conv5(x)))\n",
    "        x = self.pool(self.activate(self.conv6(x)))\n",
    "        # print(x.shape)\n",
    "        x = x.view(-1, 48384)\n",
    "        x = self.dropout(self.activate(self.dense1(x)))\n",
    "        return self.dense2(x)\n",
    "\n",
    "# Number of neurons in the first fully-connected layer\n",
    "hiddenSize = 4096\n",
    "# Number of feature filters in second convolutional layer\n",
    "numFilters = 25\n",
    "# Dropout rate\n",
    "dropoutRate = 0.2\n",
    "# Activation function\n",
    "activation = \"ReLU\"\n",
    "# Learning rate\n",
    "learningRate = 0.005\n",
    "# Momentum for SGD optimizer\n",
    "momentum = 0.9\n",
    "# Number of training epochs\n",
    "numEpochs = 20"
   ]
  },
  {
   "cell_type": "code",
   "execution_count": 8,
   "metadata": {
    "tags": []
   },
   "outputs": [],
   "source": [
    "# Helper function - Train and validation\n",
    "from tqdm import tqdm\n",
    "def train_epoch(cnn,device,dataloader,loss_fn,optimizer):\n",
    "    cnn.train()\n",
    "    cnnRunningLoss = 0\n",
    "    total = 0\n",
    "    R2 = 0\n",
    "    cnnCorrect=0\n",
    "    total1=0\n",
    "    for i, (inputs, labels) in enumerate(dataloader, 0):\n",
    "        optimizer.zero_grad()\n",
    "        inputs = inputs.to('cuda').reshape(-1,1,512,128)\n",
    "        \n",
    "        labels = labels.to('cuda')\n",
    "        # Forward propagation\n",
    "        cnnOutputs = cnn(inputs)\n",
    "        # print(cnnOutputs.shape)\n",
    "        l2_lambda = 0.001\n",
    "        l2_reg = torch.tensor(0.).to('cuda')\n",
    "        for param in cnn.parameters():\n",
    "            l2_reg += torch.norm(param)\n",
    "        # Backpropagation\n",
    "        cnnLoss = criterion(cnnOutputs, labels)+l2_reg*l2_lambda\n",
    "        cnnLoss.backward()\n",
    "        # Gradient update\n",
    "        optimizer.step()\n",
    "        total += 1\n",
    "        total1+=labels.size(0)\n",
    "        cnnRunningLoss += cnnLoss.item()\n",
    "        _, cnnPredicted = torch.max(cnnOutputs.data, 1)\n",
    "        cnnCorrect += (cnnPredicted == labels).sum().item()\n",
    "    return cnnRunningLoss/total, cnnCorrect/total1\n",
    "\n",
    "def valid_epoch(cnn,device,dataloader,loss_fn):\n",
    "    cnn.eval()\n",
    "    totalLoss = 0\n",
    "    total = 0\n",
    "    total1 = 0\n",
    "    R2 = 0\n",
    "    cnnLoss = 0\n",
    "    cnnCorrect=0\n",
    "    for inputs, labels in dataloader:\n",
    "        inputs = inputs.to('cuda').reshape(-1,1,512,128)\n",
    "        labels = labels.to('cuda')\n",
    "        cnnOutputs = cnn(inputs)\n",
    "        cnnLoss = loss_fn(cnnOutputs, labels)\n",
    "        _, cnnPredicted = torch.max(cnnOutputs.data, 1)\n",
    "        total += labels.size(0)\n",
    "        total1 +=1\n",
    "        totalLoss += cnnLoss.item()\n",
    "        cnnCorrect += (cnnPredicted == labels).sum().item()\n",
    "    accuracy = cnnCorrect / total * 100\n",
    "    cnn.train()\n",
    "    return totalLoss/total1, accuracy"
   ]
  },
  {
   "cell_type": "code",
   "execution_count": 9,
   "metadata": {
    "collapsed": true,
    "jupyter": {
     "outputs_hidden": true
    },
    "tags": []
   },
   "outputs": [
    {
     "name": "stdout",
     "output_type": "stream",
     "text": [
      "Fold 1\n",
      "Train Loss: 2.2784704471889294, Train_acc: 0.24770833333333334, Test Loss: 2.4256094694137573, Test acc: 23.75\n",
      "Train Loss: 1.369346088484714, Train_acc: 0.570625, Test Loss: 4.2049760818481445, Test acc: 38.75\n",
      "Train Loss: 0.9799566488516959, Train_acc: 0.7070833333333333, Test Loss: 6.448573350906372, Test acc: 37.5\n",
      "Train Loss: 0.9255839601943368, Train_acc: 0.7341666666666666, Test Loss: 6.272913694381714, Test acc: 37.916666666666664\n",
      "Train Loss: 0.8777077809760445, Train_acc: 0.7489583333333333, Test Loss: 5.626957893371582, Test acc: 38.75\n",
      "Train Loss: 0.8399549832469538, Train_acc: 0.7479166666666667, Test Loss: 8.51518177986145, Test acc: 39.58333333333333\n",
      "Train Loss: 0.7893989760624734, Train_acc: 0.7595833333333334, Test Loss: 9.087461948394775, Test acc: 42.5\n",
      "Train Loss: 0.7628405251001057, Train_acc: 0.7610416666666666, Test Loss: 8.253262042999268, Test acc: 47.083333333333336\n",
      "Train Loss: 0.7316033793123145, Train_acc: 0.77125, Test Loss: 13.043965816497803, Test acc: 39.58333333333333\n",
      "Train Loss: 0.7249332070350647, Train_acc: 0.7727083333333333, Test Loss: 15.498488426208496, Test acc: 38.333333333333336\n",
      "Train Loss: 1.484815082267711, Train_acc: 0.6883333333333334, Test Loss: 3.923122525215149, Test acc: 35.0\n",
      "Train Loss: 0.8652741705116472, Train_acc: 0.735625, Test Loss: 5.288608074188232, Test acc: 43.333333333333336\n",
      "Train Loss: 0.7763254564059409, Train_acc: 0.7654166666666666, Test Loss: 8.521246433258057, Test acc: 41.66666666666667\n",
      "Train Loss: 0.8285216579311773, Train_acc: 0.7595833333333334, Test Loss: 7.130499839782715, Test acc: 40.0\n",
      "Train Loss: 0.76910253261265, Train_acc: 0.7689583333333333, Test Loss: 7.7408435344696045, Test acc: 39.58333333333333\n",
      "Train Loss: 0.7705092884992298, Train_acc: 0.7622916666666667, Test Loss: 6.685652732849121, Test acc: 40.833333333333336\n",
      "Train Loss: 0.7441557394830804, Train_acc: 0.7685416666666667, Test Loss: 10.550910949707031, Test acc: 46.25\n",
      "Train Loss: 0.7251982234026256, Train_acc: 0.7733333333333333, Test Loss: 13.566817283630371, Test acc: 46.25\n",
      "Train Loss: 0.7241995162085483, Train_acc: 0.7739583333333333, Test Loss: 13.856053352355957, Test acc: 44.166666666666664\n",
      "Train Loss: 0.7258126500405764, Train_acc: 0.7729166666666667, Test Loss: 16.021291732788086, Test acc: 46.25\n",
      "Fold 2\n",
      "Train Loss: 2.234913308369486, Train_acc: 0.23604166666666668, Test Loss: 2.5240657329559326, Test acc: 24.583333333333332\n",
      "Train Loss: 1.3230207044827311, Train_acc: 0.5925, Test Loss: 3.1784993410110474, Test acc: 35.0\n",
      "Train Loss: 0.9805335496601305, Train_acc: 0.6877083333333334, Test Loss: 6.145141363143921, Test acc: 39.58333333333333\n",
      "Train Loss: 0.93149239609116, Train_acc: 0.7129166666666666, Test Loss: 5.263727426528931, Test acc: 34.166666666666664\n",
      "Train Loss: 0.860158350906874, Train_acc: 0.7277083333333333, Test Loss: 7.857141494750977, Test acc: 35.41666666666667\n",
      "Train Loss: 0.8702366085428941, Train_acc: 0.738125, Test Loss: 6.5934484004974365, Test acc: 44.583333333333336\n",
      "Train Loss: 0.8589185429246802, Train_acc: 0.7322916666666667, Test Loss: 9.212225198745728, Test acc: 43.75\n",
      "Train Loss: 0.8728361521896563, Train_acc: 0.7322916666666667, Test Loss: 6.539017915725708, Test acc: 43.333333333333336\n",
      "Train Loss: 0.7915779822751096, Train_acc: 0.7429166666666667, Test Loss: 16.30257511138916, Test acc: 42.083333333333336\n",
      "Train Loss: 0.8397751842674456, Train_acc: 0.7360416666666667, Test Loss: 6.9975221157073975, Test acc: 38.333333333333336\n",
      "Train Loss: 0.8416049731405157, Train_acc: 0.7425, Test Loss: 4.304640173912048, Test acc: 36.25\n",
      "Train Loss: 0.8028848892764041, Train_acc: 0.7408333333333333, Test Loss: 7.7673094272613525, Test acc: 36.666666666666664\n",
      "Train Loss: 0.7772948443889618, Train_acc: 0.7460416666666667, Test Loss: 9.250657081604004, Test acc: 40.833333333333336\n",
      "Train Loss: 0.7728089580410406, Train_acc: 0.7445833333333334, Test Loss: 10.200040340423584, Test acc: 38.333333333333336\n",
      "Train Loss: 0.7650569081306458, Train_acc: 0.7477083333333333, Test Loss: 11.15378189086914, Test acc: 44.166666666666664\n",
      "Train Loss: 0.765925573675256, Train_acc: 0.7466666666666667, Test Loss: 11.926674842834473, Test acc: 42.916666666666664\n",
      "Train Loss: 0.7739718446606084, Train_acc: 0.7491666666666666, Test Loss: 10.263957738876343, Test acc: 41.66666666666667\n",
      "Train Loss: 0.8617289466293234, Train_acc: 0.7408333333333333, Test Loss: 5.67901611328125, Test acc: 41.66666666666667\n",
      "Train Loss: 0.8023663335724881, Train_acc: 0.7458333333333333, Test Loss: 6.327139139175415, Test acc: 40.416666666666664\n",
      "Train Loss: 0.7697915183870416, Train_acc: 0.7497916666666666, Test Loss: 7.403616428375244, Test acc: 40.416666666666664\n",
      "Fold 3\n",
      "Train Loss: 2.334676777061663, Train_acc: 0.22333333333333333, Test Loss: 2.0650664567947388, Test acc: 26.25\n",
      "Train Loss: 1.5103923599970968, Train_acc: 0.560625, Test Loss: 4.139209747314453, Test acc: 36.666666666666664\n",
      "Train Loss: 1.01398209051082, Train_acc: 0.6902083333333333, Test Loss: 4.192676544189453, Test acc: 35.41666666666667\n",
      "Train Loss: 0.8930031798387829, Train_acc: 0.7339583333333334, Test Loss: 5.880712509155273, Test acc: 39.58333333333333\n",
      "Train Loss: 0.8354096867536244, Train_acc: 0.7485416666666667, Test Loss: 6.836291074752808, Test acc: 38.75\n",
      "Train Loss: 0.8100424063833136, Train_acc: 0.7547916666666666, Test Loss: 6.6857969760894775, Test acc: 37.916666666666664\n",
      "Train Loss: 0.8510504019887823, Train_acc: 0.7527083333333333, Test Loss: 6.1306068897247314, Test acc: 38.333333333333336\n",
      "Train Loss: 0.782441363522881, Train_acc: 0.7579166666666667, Test Loss: 9.145859241485596, Test acc: 35.833333333333336\n",
      "Train Loss: 0.7422253897315577, Train_acc: 0.7652083333333334, Test Loss: 13.225038051605225, Test acc: 39.58333333333333\n",
      "Train Loss: 0.8095459467486331, Train_acc: 0.7527083333333333, Test Loss: 6.87035608291626, Test acc: 35.833333333333336\n",
      "Train Loss: 0.8017978072166443, Train_acc: 0.755, Test Loss: 6.748704195022583, Test acc: 39.166666666666664\n",
      "Train Loss: 0.7420762400878104, Train_acc: 0.76625, Test Loss: 10.835301399230957, Test acc: 39.166666666666664\n",
      "Train Loss: 0.7385759337952262, Train_acc: 0.7633333333333333, Test Loss: 12.763699531555176, Test acc: 39.166666666666664\n",
      "Train Loss: 0.7335546346087205, Train_acc: 0.7635416666666667, Test Loss: 14.09914255142212, Test acc: 39.58333333333333\n",
      "Train Loss: 0.730583485804106, Train_acc: 0.763125, Test Loss: 15.782683849334717, Test acc: 39.58333333333333\n",
      "Train Loss: 0.7337552293350822, Train_acc: 0.7622916666666667, Test Loss: 17.035401344299316, Test acc: 39.58333333333333\n",
      "Train Loss: 0.7545511440226906, Train_acc: 0.7595833333333334, Test Loss: 13.45176887512207, Test acc: 40.833333333333336\n",
      "Train Loss: 0.7527262552788383, Train_acc: 0.76125, Test Loss: 12.223665237426758, Test acc: 38.333333333333336\n",
      "Train Loss: 0.7347448891714999, Train_acc: 0.764375, Test Loss: 15.957998752593994, Test acc: 39.58333333333333\n",
      "Train Loss: 0.7309956754508772, Train_acc: 0.7645833333333333, Test Loss: 16.773180961608887, Test acc: 40.0\n",
      "Fold 4\n",
      "Train Loss: 2.3126644805858008, Train_acc: 0.239375, Test Loss: 2.408545970916748, Test acc: 20.0\n",
      "Train Loss: 1.4589655744402033, Train_acc: 0.5704166666666667, Test Loss: 4.388216018676758, Test acc: 22.083333333333332\n",
      "Train Loss: 0.9525583621702696, Train_acc: 0.716875, Test Loss: 3.928557872772217, Test acc: 22.916666666666664\n",
      "Train Loss: 0.8204035680545004, Train_acc: 0.7602083333333334, Test Loss: 6.425017595291138, Test acc: 24.166666666666668\n",
      "Train Loss: 0.7733932796277498, Train_acc: 0.77125, Test Loss: 6.858770847320557, Test acc: 21.666666666666668\n",
      "Train Loss: 0.6963765291791213, Train_acc: 0.7870833333333334, Test Loss: 9.66285514831543, Test acc: 24.583333333333332\n",
      "Train Loss: 0.7843807951400155, Train_acc: 0.7695833333333333, Test Loss: 7.299453973770142, Test acc: 23.75\n",
      "Train Loss: 0.7182515224343852, Train_acc: 0.7910416666666666, Test Loss: 5.524077892303467, Test acc: 28.333333333333332\n",
      "Train Loss: 0.6571968323306033, Train_acc: 0.801875, Test Loss: 7.940598964691162, Test acc: 23.333333333333332\n",
      "Train Loss: 0.6307254025810644, Train_acc: 0.8020833333333334, Test Loss: 11.440192699432373, Test acc: 24.166666666666668\n",
      "Train Loss: 0.6237598563495436, Train_acc: 0.8004166666666667, Test Loss: 14.21944808959961, Test acc: 24.583333333333332\n",
      "Train Loss: 0.6896352485606545, Train_acc: 0.7941666666666667, Test Loss: 6.795161724090576, Test acc: 22.5\n",
      "Train Loss: 0.6329687543605503, Train_acc: 0.80125, Test Loss: 9.994763851165771, Test acc: 25.0\n",
      "Train Loss: 0.6491521714549315, Train_acc: 0.795, Test Loss: 8.141991138458252, Test acc: 22.5\n",
      "Train Loss: 0.6617960796544426, Train_acc: 0.7983333333333333, Test Loss: 9.322301864624023, Test acc: 22.5\n",
      "Train Loss: 0.6398216211482098, Train_acc: 0.7997916666666667, Test Loss: 8.927711963653564, Test acc: 22.916666666666664\n",
      "Train Loss: 0.6676007352377239, Train_acc: 0.8008333333333333, Test Loss: 6.806930303573608, Test acc: 27.916666666666668\n",
      "Train Loss: 0.6287559098319003, Train_acc: 0.803125, Test Loss: 9.033936500549316, Test acc: 22.083333333333332\n",
      "Train Loss: 0.6184582420085606, Train_acc: 0.8033333333333333, Test Loss: 11.27371597290039, Test acc: 21.666666666666668\n",
      "Train Loss: 0.6204309894850379, Train_acc: 0.804375, Test Loss: 10.367360591888428, Test acc: 26.25\n",
      "Fold 5\n",
      "Train Loss: 2.2451517080005847, Train_acc: 0.25416666666666665, Test Loss: 2.3697922229766846, Test acc: 21.25\n",
      "Train Loss: 1.2474310162820315, Train_acc: 0.6122916666666667, Test Loss: 5.583430886268616, Test acc: 26.25\n",
      "Train Loss: 1.0160136818885803, Train_acc: 0.7220833333333333, Test Loss: 5.385157585144043, Test acc: 31.666666666666664\n",
      "Train Loss: 0.9021091774890297, Train_acc: 0.74375, Test Loss: 6.041749715805054, Test acc: 34.166666666666664\n",
      "Train Loss: 0.8668368599916759, Train_acc: 0.750625, Test Loss: 4.7354700565338135, Test acc: 37.5\n",
      "Train Loss: 0.8144647808451402, Train_acc: 0.7620833333333333, Test Loss: 7.210623741149902, Test acc: 38.75\n",
      "Train Loss: 0.8061136964120363, Train_acc: 0.7622916666666667, Test Loss: 7.659982442855835, Test acc: 32.916666666666664\n",
      "Train Loss: 0.8072266437505421, Train_acc: 0.7614583333333333, Test Loss: 7.775840520858765, Test acc: 35.41666666666667\n",
      "Train Loss: 0.7736639411825883, Train_acc: 0.7672916666666667, Test Loss: 6.161728143692017, Test acc: 33.33333333333333\n",
      "Train Loss: 0.7463277170532628, Train_acc: 0.7704166666666666, Test Loss: 9.964473962783813, Test acc: 31.666666666666664\n",
      "Train Loss: 0.7293405768118406, Train_acc: 0.7725, Test Loss: 13.509600162506104, Test acc: 31.666666666666664\n",
      "Train Loss: 0.7222612688415929, Train_acc: 0.7741666666666667, Test Loss: 16.16575002670288, Test acc: 33.33333333333333\n",
      "Train Loss: 0.7173027364831221, Train_acc: 0.775, Test Loss: 18.783091068267822, Test acc: 33.33333333333333\n",
      "Train Loss: 0.7145599581693348, Train_acc: 0.774375, Test Loss: 21.216666221618652, Test acc: 33.33333333333333\n",
      "Train Loss: 0.8271048727788424, Train_acc: 0.7622916666666667, Test Loss: 5.710874080657959, Test acc: 32.5\n",
      "Train Loss: 0.7724376728660182, Train_acc: 0.7654166666666666, Test Loss: 6.597464203834534, Test acc: 37.5\n",
      "Train Loss: 0.7298688590526581, Train_acc: 0.7729166666666667, Test Loss: 10.329952716827393, Test acc: 36.666666666666664\n",
      "Train Loss: 0.7272404698949111, Train_acc: 0.7735416666666667, Test Loss: 12.951377391815186, Test acc: 32.916666666666664\n",
      "Train Loss: 0.7207735918070141, Train_acc: 0.7747916666666667, Test Loss: 16.73523235321045, Test acc: 32.5\n",
      "Train Loss: 0.7154478383691687, Train_acc: 0.775, Test Loss: 18.76708221435547, Test acc: 34.166666666666664\n"
     ]
    }
   ],
   "source": [
    "# Training\n",
    "import sklearn\n",
    "from sklearn.model_selection import StratifiedKFold\n",
    "X_train_v, X_test, y_train_v, y_test = train_test_split(X, y, test_size=0.2, random_state=42, stratify=y) # Split to aviod data leakage\n",
    "\n",
    "X_train_v = torch.as_tensor(X_train_v, dtype=torch.float) # an alternative to torch.from_numpy\n",
    "y_train_v = torch.as_tensor(y_train_v, dtype=torch.float)\n",
    "X_test = torch.as_tensor(X_test, dtype=torch.float)\n",
    "y_test = torch.as_tensor(y_test, dtype=torch.float)\n",
    "splits=StratifiedKFold(n_splits=5,shuffle=True,random_state=99)\n",
    "train_dataset = TensorDataset(X_train_v, y_train_v)\n",
    "test_dataset = TensorDataset(X_test, y_test)\n",
    "batch_size=128\n",
    "models = []\n",
    "history = {'fold':[], 'train_loss': [], 'test_loss': [],'train_acc':[],'test_acc':[]}\n",
    "\n",
    "device = torch.device(\"cuda:0\" if torch.cuda.is_available() else \"cpu\")\n",
    "for fold, (train_idx,val_idx) in enumerate(splits.split(X_train_v,y_train_v)):\n",
    "    print('Fold {}'.format(fold + 1))\n",
    "    t = pd.DataFrame(y_train_v[train_idx], columns = ['class']).reset_index()\n",
    "    idx = []\n",
    "    # Resampling to form a balanced dataset\n",
    "    y_train = []\n",
    "    for i in range(0,12):\n",
    "      idx += list(t[t['class']==i].sample(400,replace=True)['index'])\n",
    "      y_train += [i]*400\n",
    "    X_train = X_train_v[train_idx][idx]\n",
    "\n",
    "    t = pd.DataFrame(y_train_v[val_idx], columns = ['class']).reset_index()\n",
    "    idx = []\n",
    "    y_val = []\n",
    "    for i in range(0,12):\n",
    "      # print(i)\n",
    "      if i in t['class'].values:\n",
    "          idx += list(t[t['class']==i].sample(20,replace=True)['index'])\n",
    "          y_val += [i]*20\n",
    "    X_val =  X_train_v[val_idx][idx]\n",
    "\n",
    "    X_train = torch.as_tensor(X_train, dtype=torch.float) # an alternative to torch.from_numpy\n",
    "    y_train = torch.as_tensor(y_train, dtype=torch.float).type(torch.LongTensor)\n",
    "    X_val = torch.as_tensor(X_val, dtype=torch.float)\n",
    "    y_val = torch.as_tensor(y_val, dtype=torch.float).type(torch.LongTensor)\n",
    "\n",
    "    train_dataset = TensorDataset(X_train, y_train)\n",
    "    test_dataset = TensorDataset(X_val, y_val)\n",
    "\n",
    "    from torch.utils.data import Dataset, DataLoader\n",
    "    train_dataloader = DataLoader(train_dataset, batch_size=128, shuffle=True)\n",
    "    test_dataloader = DataLoader(test_dataset, batch_size=128, shuffle=False)\n",
    "    \n",
    "    model = CNNModel(hiddenSize, numFilters, dropoutRate, activation).to('cuda')\n",
    "    criterion = nn.CrossEntropyLoss()\n",
    "    optimizer = torch.optim.SGD(list(model.parameters()), lr=learningRate, momentum=momentum)\n",
    "    # optimizer = torch.optim.Adam(list(model.parameters()), lr=learningRate)\n",
    "    best_test = -np.inf\n",
    "    best_model = None\n",
    "    #Train the model\n",
    "    for epoch in range(numEpochs):\n",
    "        train_loss, train_R2=train_epoch(model,device,train_dataloader,criterion,optimizer)\n",
    "        test_loss, test_R2=valid_epoch(model,device,test_dataloader,criterion)\n",
    "        history['fold'].append(fold)\n",
    "        history['train_loss'].append(train_loss)\n",
    "        history['test_loss'].append(test_loss)\n",
    "        history['train_acc'].append(train_R2)\n",
    "        history['test_acc'].append(test_R2)   \n",
    "        if test_R2>best_test:\n",
    "            test_test = test_R2\n",
    "            best_model = model\n",
    "        print('Train Loss: {}, Train_acc: {}, Test Loss: {}, Test acc: {}'.format(train_loss, train_R2, test_loss, test_R2))\n",
    "    models.append([best_model])"
   ]
  },
  {
   "cell_type": "code",
   "execution_count": 16,
   "metadata": {
    "tags": []
   },
   "outputs": [],
   "source": [
    "# Calculate the average accuracy of the 5-fold best models\n",
    "X_train_v, X_test, y_train_v, y_test = train_test_split(X, y, test_size=0.2, random_state=42, stratify=y)\n",
    "t = pd.DataFrame(y_test, columns = ['class']).reset_index()\n",
    "idx = []\n",
    "y_test = []\n",
    "for i in range(0,12):\n",
    "    if i in t['class'].values:\n",
    "        idx += list(t[t['class']==i].sample(20,replace=True)['index'])\n",
    "        y_test += [i]*20\n",
    "X_test =  X_test[idx]\n",
    "X_test = torch.as_tensor(X_test, dtype=torch.float)\n",
    "y_test = torch.as_tensor(y_test, dtype=torch.float).type(torch.LongTensor)\n",
    "test_dataset = TensorDataset(X_test, y_test)\n",
    "test_dataloader = DataLoader(test_dataset, batch_size=128, shuffle=False)\n",
    "acc=[]\n",
    "for best_model in models:\n",
    "    acc.append(valid_epoch(best_model[0],device,test_dataloader,criterion)[1])"
   ]
  },
  {
   "cell_type": "code",
   "execution_count": 17,
   "metadata": {
    "tags": []
   },
   "outputs": [
    {
     "data": {
      "text/plain": [
       "33.91666666666667"
      ]
     },
     "execution_count": 17,
     "metadata": {},
     "output_type": "execute_result"
    }
   ],
   "source": [
    "np.mean(acc)"
   ]
  },
  {
   "cell_type": "code",
   "execution_count": 85,
   "metadata": {
    "tags": []
   },
   "outputs": [],
   "source": [
    "# Calculate the accuray with majority votes\n",
    "outputs = []    \n",
    "for model in models:\n",
    "  model[0].eval()\n",
    "  model_output = []\n",
    "  label_= []\n",
    "  model[0].to('cpu')\n",
    "  for inputs, labels in test_dataloader:\n",
    "      inputs = inputs.to('cpu').reshape(-1,1,512,128)\n",
    "      labels = labels.to('cpu')\n",
    "      cnnOutputs = model[0](inputs)\n",
    "      model_output.append(cnnOutputs)\n",
    "      label_.append(labels)\n",
    "  outputs.append(torch.vstack(model_output))"
   ]
  },
  {
   "cell_type": "code",
   "execution_count": 87,
   "metadata": {
    "tags": []
   },
   "outputs": [
    {
     "data": {
      "text/plain": [
       "40.0"
      ]
     },
     "execution_count": 87,
     "metadata": {},
     "output_type": "execute_result"
    }
   ],
   "source": [
    "cnnresult = torch.vstack(outputs).reshape(-1,shape[0],shape[1]).mean(axis=0)\n",
    "labels = np.hstack(label_)\n",
    "_, cnnPredicted = torch.max(cnnresult.data, 1)\n",
    "cnnCorrect = (cnnPredicted.detach().numpy() == labels).sum().item()\n",
    "cnnCorrect/len(labels)*100"
   ]
  },
  {
   "cell_type": "code",
   "execution_count": 89,
   "metadata": {
    "tags": []
   },
   "outputs": [
    {
     "data": {
      "text/plain": [
       "<Axes: >"
      ]
     },
     "execution_count": 89,
     "metadata": {},
     "output_type": "execute_result"
    },
    {
     "data": {
      "image/png": "[encoded data removed]",
      "text/plain": [
       "<Figure size 640x480 with 2 Axes>"
      ]
     },
     "metadata": {},
     "output_type": "display_data"
    }
   ],
   "source": [
    "# Draw the confusion matrix\n",
    "from sklearn.metrics import confusion_matrix\n",
    "confu_m = confusion_matrix(labels, cnnPredicted)\n",
    "import seaborn as sns\n",
    "sns.heatmap(confu_m,square=False)"
   ]
  },
  {
   "cell_type": "code",
   "execution_count": 90,
   "metadata": {
    "tags": []
   },
   "outputs": [
    {
     "data": {
      "text/plain": [
       "{'angry': 0,\n",
       " 'awe': 1,\n",
       " 'emotional': 2,\n",
       " 'excited': 3,\n",
       " 'fear': 4,\n",
       " 'happy': 5,\n",
       " 'hopeful': 6,\n",
       " 'hurt': 7,\n",
       " 'love': 8,\n",
       " 'negative': 9,\n",
       " 'positive': 10,\n",
       " 'sadness': 11}"
      ]
     },
     "execution_count": 90,
     "metadata": {},
     "output_type": "execute_result"
    }
   ],
   "source": [
    "# Extract the labels\n",
    "label_dict = {}\n",
    "for cl in le.classes_:\n",
    "    label_dict.update({cl:le.transform([cl])[0]})\n",
    "label_dict"
   ]
  },
  {
   "cell_type": "code",
   "execution_count": 97,
   "metadata": {
    "tags": []
   },
   "outputs": [
    {
     "name": "stderr",
     "output_type": "stream",
     "text": [
      "/mnt/storage/CIIP_group/Postdoc/Aiqi_Sun/anaconda/lib/python3.11/site-packages/sklearn/metrics/_classification.py:1469: UndefinedMetricWarning: Recall and F-score are ill-defined and being set to 0.0 in labels with no true samples. Use `zero_division` parameter to control this behavior.\n",
      "  _warn_prf(average, modifier, msg_start, len(result))\n"
     ]
    },
    {
     "data": {
      "text/html": [
       "<div>\n",
       "<style scoped>\n",
       "    .dataframe tbody tr th:only-of-type {\n",
       "        vertical-align: middle;\n",
       "    }\n",
       "\n",
       "    .dataframe tbody tr th {\n",
       "        vertical-align: top;\n",
       "    }\n",
       "\n",
       "    .dataframe thead th {\n",
       "        text-align: right;\n",
       "    }\n",
       "</style>\n",
       "<table border=\"1\" class=\"dataframe\">\n",
       "  <thead>\n",
       "    <tr style=\"text-align: right;\">\n",
       "      <th></th>\n",
       "      <th>angry</th>\n",
       "      <th>awe</th>\n",
       "      <th>emotional</th>\n",
       "      <th>excited</th>\n",
       "      <th>fear</th>\n",
       "      <th>happy</th>\n",
       "      <th>hopeful</th>\n",
       "      <th>hurt</th>\n",
       "      <th>love</th>\n",
       "      <th>negative</th>\n",
       "      <th>positive</th>\n",
       "      <th>sadness</th>\n",
       "    </tr>\n",
       "  </thead>\n",
       "  <tbody>\n",
       "    <tr>\n",
       "      <th>precision</th>\n",
       "      <td>0.400000</td>\n",
       "      <td>0.750000</td>\n",
       "      <td>0.350000</td>\n",
       "      <td>0.25</td>\n",
       "      <td>0.350000</td>\n",
       "      <td>0.550000</td>\n",
       "      <td>0.0</td>\n",
       "      <td>0.300000</td>\n",
       "      <td>0.350000</td>\n",
       "      <td>0.550000</td>\n",
       "      <td>0.200000</td>\n",
       "      <td>0.750000</td>\n",
       "    </tr>\n",
       "    <tr>\n",
       "      <th>recall</th>\n",
       "      <td>0.150943</td>\n",
       "      <td>1.000000</td>\n",
       "      <td>0.583333</td>\n",
       "      <td>1.00</td>\n",
       "      <td>1.000000</td>\n",
       "      <td>0.148649</td>\n",
       "      <td>0.0</td>\n",
       "      <td>1.000000</td>\n",
       "      <td>0.368421</td>\n",
       "      <td>1.000000</td>\n",
       "      <td>0.666667</td>\n",
       "      <td>0.468750</td>\n",
       "    </tr>\n",
       "    <tr>\n",
       "      <th>f1</th>\n",
       "      <td>0.219178</td>\n",
       "      <td>0.857143</td>\n",
       "      <td>0.437500</td>\n",
       "      <td>0.40</td>\n",
       "      <td>0.518519</td>\n",
       "      <td>0.234043</td>\n",
       "      <td>0.0</td>\n",
       "      <td>0.461538</td>\n",
       "      <td>0.358974</td>\n",
       "      <td>0.709677</td>\n",
       "      <td>0.307692</td>\n",
       "      <td>0.576923</td>\n",
       "    </tr>\n",
       "    <tr>\n",
       "      <th>support</th>\n",
       "      <td>53.000000</td>\n",
       "      <td>15.000000</td>\n",
       "      <td>12.000000</td>\n",
       "      <td>5.00</td>\n",
       "      <td>7.000000</td>\n",
       "      <td>74.000000</td>\n",
       "      <td>0.0</td>\n",
       "      <td>6.000000</td>\n",
       "      <td>19.000000</td>\n",
       "      <td>11.000000</td>\n",
       "      <td>6.000000</td>\n",
       "      <td>32.000000</td>\n",
       "    </tr>\n",
       "  </tbody>\n",
       "</table>\n",
       "</div>"
      ],
      "text/plain": [
       "               angry        awe  emotional  excited      fear      happy  \\\n",
       "precision   0.400000   0.750000   0.350000     0.25  0.350000   0.550000   \n",
       "recall      0.150943   1.000000   0.583333     1.00  1.000000   0.148649   \n",
       "f1          0.219178   0.857143   0.437500     0.40  0.518519   0.234043   \n",
       "support    53.000000  15.000000  12.000000     5.00  7.000000  74.000000   \n",
       "\n",
       "           hopeful      hurt       love   negative  positive    sadness  \n",
       "precision      0.0  0.300000   0.350000   0.550000  0.200000   0.750000  \n",
       "recall         0.0  1.000000   0.368421   1.000000  0.666667   0.468750  \n",
       "f1             0.0  0.461538   0.358974   0.709677  0.307692   0.576923  \n",
       "support        0.0  6.000000  19.000000  11.000000  6.000000  32.000000  "
      ]
     },
     "execution_count": 97,
     "metadata": {},
     "output_type": "execute_result"
    }
   ],
   "source": [
    "# Calculate the evaluation scores\n",
    "from sklearn.metrics import precision_recall_fscore_support\n",
    "scores = pd.DataFrame(precision_recall_fscore_support(cnnPredicted, labels, labels = list(range(12))),index=['precision','recall','f1','support'], columns = list(label_dict)[:12])\n",
    "scores"
   ]
  },
  {
   "cell_type": "code",
   "execution_count": null,
   "metadata": {
    "tags": []
   },
   "outputs": [],
   "source": [
    "import pickle\n",
    "file = open('midi_test_data','rb')\n",
    "music_data = pickle.load(file)\n",
    "file.close()"
   ]
  },
  {
   "cell_type": "code",
   "execution_count": 121,
   "metadata": {
    "tags": []
   },
   "outputs": [
    {
     "name": "stdout",
     "output_type": "stream",
     "text": [
      "Across_The_Stars(StarWar_II_Love_Theme) happy negative sadness\n",
      "PAL1_theme-仙剑1 happy love sadness\n",
      "上海滩 happy sadness negative\n",
      "月光奏鸣曲 happy love negative\n",
      "枉凝眉 happy positive love\n",
      "水调歌头·明月几时有 sadness love hurt\n",
      "沧海一声笑 love angry sadness\n",
      "笑傲江湖 sadness happy negative\n",
      "铁血丹心 happy negative sadness\n",
      "难念的经-天龙八部 sadness happy love\n",
      "青花瓷 happy negative love\n"
     ]
    }
   ],
   "source": [
    "# Try the classification on some pure or Chinese music\n",
    "X_test_1 = []\n",
    "name = []\n",
    "for m in music_data:\n",
    "    if m[0].shape[0]>=612:\n",
    "        X_test_1.append(m[0][100:612,:])\n",
    "        name.append(m[1])\n",
    "X_test_1 = np.array(X_test_1)\n",
    "y_test_1 = models[0][0](torch.as_tensor(X_test_1.reshape(-1,1,512,128), dtype=torch.float))\n",
    "label = torch.argsort(-y_test_1).to('cpu').numpy()\n",
    "for i in range(len(label)):\n",
    "    print(name[i],le.classes_[label[i][0]], le.classes_[label[i][1]], le.classes_[label[i][2]])"
   ]
  }
 ],
 "metadata": {
  "accelerator": "GPU",
  "colab": {
   "gpuType": "T4",
   "machine_shape": "hm",
   "provenance": []
  },
  "kernelspec": {
   "display_name": "Python 3 (ipykernel)",
   "language": "python",
   "name": "python3"
  },
  "language_info": {
   "codemirror_mode": {
    "name": "ipython",
    "version": 3
   },
   "file_extension": ".py",
   "mimetype": "text/x-python",
   "name": "python",
   "nbconvert_exporter": "python",
   "pygments_lexer": "ipython3",
   "version": "3.9.13"
  },
  "widgets": {
   "application/vnd.jupyter.widget-state+json": {
    "state": {},
    "version_major": 2,
    "version_minor": 0
   }
  }
 },
 "nbformat": 4,
 "nbformat_minor": 4
}
