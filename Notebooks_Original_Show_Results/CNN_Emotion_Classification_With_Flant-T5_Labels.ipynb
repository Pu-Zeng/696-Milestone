{
 "cells": [
  {
   "cell_type": "code",
   "execution_count": 1,
   "metadata": {},
   "outputs": [],
   "source": [
    "# Train the CNN Emotion Regression Model with MIDI data#\n",
    "# Last editted by Pu Zeng, 19/10/2023 #"
   ]
  },
  {
   "cell_type": "code",
   "execution_count": 3,
   "metadata": {
    "id": "u8eSS9tg62ge",
    "tags": []
   },
   "outputs": [
    {
     "ename": "RuntimeError",
     "evalue": "Detected that PyTorch and torchvision were compiled with different CUDA versions. PyTorch has CUDA Version=11.8 and torchvision has CUDA Version=11.7. Please reinstall the torchvision that matches your PyTorch install.",
     "output_type": "error",
     "traceback": [
      "\u001b[1;31m---------------------------------------------------------------------------\u001b[0m",
      "\u001b[1;31mRuntimeError\u001b[0m                              Traceback (most recent call last)",
      "\u001b[1;32m~\\AppData\\Local\\Temp\\ipykernel_40680\\2696542321.py\u001b[0m in \u001b[0;36m<module>\u001b[1;34m\u001b[0m\n\u001b[0;32m     22\u001b[0m \u001b[1;32mimport\u001b[0m \u001b[0mtorch\u001b[0m\u001b[1;33m.\u001b[0m\u001b[0mnn\u001b[0m \u001b[1;32mas\u001b[0m \u001b[0mnn\u001b[0m\u001b[1;33m\u001b[0m\u001b[1;33m\u001b[0m\u001b[0m\n\u001b[0;32m     23\u001b[0m \u001b[1;32mimport\u001b[0m \u001b[0mtorch\u001b[0m\u001b[1;33m.\u001b[0m\u001b[0mnn\u001b[0m\u001b[1;33m.\u001b[0m\u001b[0mfunctional\u001b[0m \u001b[1;32mas\u001b[0m \u001b[0mF\u001b[0m\u001b[1;33m\u001b[0m\u001b[1;33m\u001b[0m\u001b[0m\n\u001b[1;32m---> 24\u001b[1;33m \u001b[1;32mimport\u001b[0m \u001b[0mtorchvision\u001b[0m\u001b[1;33m\u001b[0m\u001b[1;33m\u001b[0m\u001b[0m\n\u001b[0m\u001b[0;32m     25\u001b[0m \u001b[1;32mimport\u001b[0m \u001b[0mtorchvision\u001b[0m\u001b[1;33m.\u001b[0m\u001b[0mtransforms\u001b[0m \u001b[1;32mas\u001b[0m \u001b[0mtransforms\u001b[0m\u001b[1;33m\u001b[0m\u001b[1;33m\u001b[0m\u001b[0m\n\u001b[0;32m     26\u001b[0m \u001b[1;32mfrom\u001b[0m \u001b[0msklearn\u001b[0m\u001b[1;33m.\u001b[0m\u001b[0mdatasets\u001b[0m \u001b[1;32mimport\u001b[0m \u001b[0mfetch_california_housing\u001b[0m\u001b[1;33m\u001b[0m\u001b[1;33m\u001b[0m\u001b[0m\n",
      "\u001b[1;32mD:\\programing\\anaconda3\\lib\\site-packages\\torchvision\\__init__.py\u001b[0m in \u001b[0;36m<module>\u001b[1;34m\u001b[0m\n\u001b[0;32m      4\u001b[0m \u001b[1;33m\u001b[0m\u001b[0m\n\u001b[0;32m      5\u001b[0m \u001b[1;32mimport\u001b[0m \u001b[0mtorch\u001b[0m\u001b[1;33m\u001b[0m\u001b[1;33m\u001b[0m\u001b[0m\n\u001b[1;32m----> 6\u001b[1;33m \u001b[1;32mfrom\u001b[0m \u001b[0mtorchvision\u001b[0m \u001b[1;32mimport\u001b[0m \u001b[0mdatasets\u001b[0m\u001b[1;33m,\u001b[0m \u001b[0mio\u001b[0m\u001b[1;33m,\u001b[0m \u001b[0mmodels\u001b[0m\u001b[1;33m,\u001b[0m \u001b[0mops\u001b[0m\u001b[1;33m,\u001b[0m \u001b[0mtransforms\u001b[0m\u001b[1;33m,\u001b[0m \u001b[0mutils\u001b[0m\u001b[1;33m\u001b[0m\u001b[1;33m\u001b[0m\u001b[0m\n\u001b[0m\u001b[0;32m      7\u001b[0m \u001b[1;33m\u001b[0m\u001b[0m\n\u001b[0;32m      8\u001b[0m \u001b[1;32mfrom\u001b[0m \u001b[1;33m.\u001b[0m\u001b[0mextension\u001b[0m \u001b[1;32mimport\u001b[0m \u001b[0m_HAS_OPS\u001b[0m\u001b[1;33m\u001b[0m\u001b[1;33m\u001b[0m\u001b[0m\n",
      "\u001b[1;32mD:\\programing\\anaconda3\\lib\\site-packages\\torchvision\\datasets\\__init__.py\u001b[0m in \u001b[0;36m<module>\u001b[1;34m\u001b[0m\n\u001b[1;32m----> 1\u001b[1;33m \u001b[1;32mfrom\u001b[0m \u001b[1;33m.\u001b[0m\u001b[0m_optical_flow\u001b[0m \u001b[1;32mimport\u001b[0m \u001b[0mFlyingChairs\u001b[0m\u001b[1;33m,\u001b[0m \u001b[0mFlyingThings3D\u001b[0m\u001b[1;33m,\u001b[0m \u001b[0mHD1K\u001b[0m\u001b[1;33m,\u001b[0m \u001b[0mKittiFlow\u001b[0m\u001b[1;33m,\u001b[0m \u001b[0mSintel\u001b[0m\u001b[1;33m\u001b[0m\u001b[1;33m\u001b[0m\u001b[0m\n\u001b[0m\u001b[0;32m      2\u001b[0m from ._stereo_matching import (\n\u001b[0;32m      3\u001b[0m     \u001b[0mCarlaStereo\u001b[0m\u001b[1;33m,\u001b[0m\u001b[1;33m\u001b[0m\u001b[1;33m\u001b[0m\u001b[0m\n\u001b[0;32m      4\u001b[0m     \u001b[0mCREStereo\u001b[0m\u001b[1;33m,\u001b[0m\u001b[1;33m\u001b[0m\u001b[1;33m\u001b[0m\u001b[0m\n\u001b[0;32m      5\u001b[0m     \u001b[0mETH3DStereo\u001b[0m\u001b[1;33m,\u001b[0m\u001b[1;33m\u001b[0m\u001b[1;33m\u001b[0m\u001b[0m\n",
      "\u001b[1;32mD:\\programing\\anaconda3\\lib\\site-packages\\torchvision\\datasets\\_optical_flow.py\u001b[0m in \u001b[0;36m<module>\u001b[1;34m\u001b[0m\n\u001b[0;32m     10\u001b[0m \u001b[1;32mfrom\u001b[0m \u001b[0mPIL\u001b[0m \u001b[1;32mimport\u001b[0m \u001b[0mImage\u001b[0m\u001b[1;33m\u001b[0m\u001b[1;33m\u001b[0m\u001b[0m\n\u001b[0;32m     11\u001b[0m \u001b[1;33m\u001b[0m\u001b[0m\n\u001b[1;32m---> 12\u001b[1;33m \u001b[1;32mfrom\u001b[0m \u001b[1;33m.\u001b[0m\u001b[1;33m.\u001b[0m\u001b[0mio\u001b[0m\u001b[1;33m.\u001b[0m\u001b[0mimage\u001b[0m \u001b[1;32mimport\u001b[0m \u001b[0m_read_png_16\u001b[0m\u001b[1;33m\u001b[0m\u001b[1;33m\u001b[0m\u001b[0m\n\u001b[0m\u001b[0;32m     13\u001b[0m \u001b[1;32mfrom\u001b[0m \u001b[1;33m.\u001b[0m\u001b[0mutils\u001b[0m \u001b[1;32mimport\u001b[0m \u001b[0m_read_pfm\u001b[0m\u001b[1;33m,\u001b[0m \u001b[0mverify_str_arg\u001b[0m\u001b[1;33m\u001b[0m\u001b[1;33m\u001b[0m\u001b[0m\n\u001b[0;32m     14\u001b[0m \u001b[1;32mfrom\u001b[0m \u001b[1;33m.\u001b[0m\u001b[0mvision\u001b[0m \u001b[1;32mimport\u001b[0m \u001b[0mVisionDataset\u001b[0m\u001b[1;33m\u001b[0m\u001b[1;33m\u001b[0m\u001b[0m\n",
      "\u001b[1;32mD:\\programing\\anaconda3\\lib\\site-packages\\torchvision\\io\\__init__.py\u001b[0m in \u001b[0;36m<module>\u001b[1;34m\u001b[0m\n\u001b[0;32m      6\u001b[0m \u001b[1;33m\u001b[0m\u001b[0m\n\u001b[0;32m      7\u001b[0m \u001b[1;32mtry\u001b[0m\u001b[1;33m:\u001b[0m\u001b[1;33m\u001b[0m\u001b[1;33m\u001b[0m\u001b[0m\n\u001b[1;32m----> 8\u001b[1;33m     \u001b[1;32mfrom\u001b[0m \u001b[1;33m.\u001b[0m\u001b[0m_load_gpu_decoder\u001b[0m \u001b[1;32mimport\u001b[0m \u001b[0m_HAS_GPU_VIDEO_DECODER\u001b[0m\u001b[1;33m\u001b[0m\u001b[1;33m\u001b[0m\u001b[0m\n\u001b[0m\u001b[0;32m      9\u001b[0m \u001b[1;32mexcept\u001b[0m \u001b[0mModuleNotFoundError\u001b[0m\u001b[1;33m:\u001b[0m\u001b[1;33m\u001b[0m\u001b[1;33m\u001b[0m\u001b[0m\n\u001b[0;32m     10\u001b[0m     \u001b[0m_HAS_GPU_VIDEO_DECODER\u001b[0m \u001b[1;33m=\u001b[0m \u001b[1;32mFalse\u001b[0m\u001b[1;33m\u001b[0m\u001b[1;33m\u001b[0m\u001b[0m\n",
      "\u001b[1;32mD:\\programing\\anaconda3\\lib\\site-packages\\torchvision\\io\\_load_gpu_decoder.py\u001b[0m in \u001b[0;36m<module>\u001b[1;34m\u001b[0m\n\u001b[1;32m----> 1\u001b[1;33m \u001b[1;32mfrom\u001b[0m \u001b[1;33m.\u001b[0m\u001b[1;33m.\u001b[0m\u001b[0mextension\u001b[0m \u001b[1;32mimport\u001b[0m \u001b[0m_load_library\u001b[0m\u001b[1;33m\u001b[0m\u001b[1;33m\u001b[0m\u001b[0m\n\u001b[0m\u001b[0;32m      2\u001b[0m \u001b[1;33m\u001b[0m\u001b[0m\n\u001b[0;32m      3\u001b[0m \u001b[1;33m\u001b[0m\u001b[0m\n\u001b[0;32m      4\u001b[0m \u001b[1;32mtry\u001b[0m\u001b[1;33m:\u001b[0m\u001b[1;33m\u001b[0m\u001b[1;33m\u001b[0m\u001b[0m\n\u001b[0;32m      5\u001b[0m     \u001b[0m_load_library\u001b[0m\u001b[1;33m(\u001b[0m\u001b[1;34m\"Decoder\"\u001b[0m\u001b[1;33m)\u001b[0m\u001b[1;33m\u001b[0m\u001b[1;33m\u001b[0m\u001b[0m\n",
      "\u001b[1;32mD:\\programing\\anaconda3\\lib\\site-packages\\torchvision\\extension.py\u001b[0m in \u001b[0;36m<module>\u001b[1;34m\u001b[0m\n\u001b[0;32m    105\u001b[0m \u001b[1;33m\u001b[0m\u001b[0m\n\u001b[0;32m    106\u001b[0m \u001b[1;33m\u001b[0m\u001b[0m\n\u001b[1;32m--> 107\u001b[1;33m \u001b[0m_check_cuda_version\u001b[0m\u001b[1;33m(\u001b[0m\u001b[1;33m)\u001b[0m\u001b[1;33m\u001b[0m\u001b[1;33m\u001b[0m\u001b[0m\n\u001b[0m",
      "\u001b[1;32mD:\\programing\\anaconda3\\lib\\site-packages\\torchvision\\extension.py\u001b[0m in \u001b[0;36m_check_cuda_version\u001b[1;34m()\u001b[0m\n\u001b[0;32m     78\u001b[0m         \u001b[0mt_minor\u001b[0m \u001b[1;33m=\u001b[0m \u001b[0mint\u001b[0m\u001b[1;33m(\u001b[0m\u001b[0mt_version\u001b[0m\u001b[1;33m[\u001b[0m\u001b[1;36m1\u001b[0m\u001b[1;33m]\u001b[0m\u001b[1;33m)\u001b[0m\u001b[1;33m\u001b[0m\u001b[1;33m\u001b[0m\u001b[0m\n\u001b[0;32m     79\u001b[0m         \u001b[1;32mif\u001b[0m \u001b[0mt_major\u001b[0m \u001b[1;33m!=\u001b[0m \u001b[0mtv_major\u001b[0m \u001b[1;32mor\u001b[0m \u001b[0mt_minor\u001b[0m \u001b[1;33m!=\u001b[0m \u001b[0mtv_minor\u001b[0m\u001b[1;33m:\u001b[0m\u001b[1;33m\u001b[0m\u001b[1;33m\u001b[0m\u001b[0m\n\u001b[1;32m---> 80\u001b[1;33m             raise RuntimeError(\n\u001b[0m\u001b[0;32m     81\u001b[0m                 \u001b[1;34m\"Detected that PyTorch and torchvision were compiled with different CUDA versions. \"\u001b[0m\u001b[1;33m\u001b[0m\u001b[1;33m\u001b[0m\u001b[0m\n\u001b[0;32m     82\u001b[0m                 \u001b[1;34mf\"PyTorch has CUDA Version={t_major}.{t_minor} and torchvision has \"\u001b[0m\u001b[1;33m\u001b[0m\u001b[1;33m\u001b[0m\u001b[0m\n",
      "\u001b[1;31mRuntimeError\u001b[0m: Detected that PyTorch and torchvision were compiled with different CUDA versions. PyTorch has CUDA Version=11.8 and torchvision has CUDA Version=11.7. Please reinstall the torchvision that matches your PyTorch install."
     ]
    }
   ],
   "source": [
    "import os\n",
    "import pandas as pd\n",
    "from tqdm import tqdm\n",
    "import matplotlib.pyplot as plt\n",
    "# import mido\n",
    "import string\n",
    "import numpy as np\n",
    "# from utilis import get_pianoroll_data\n",
    "import pickle\n",
    "import os\n",
    "import pandas as pd\n",
    "from tqdm import tqdm\n",
    "import matplotlib.pyplot as plt\n",
    "# import mido\n",
    "import string\n",
    "import numpy as np\n",
    "# from utilis import get_pianoroll_data\n",
    "import pickle\n",
    "from sklearn import preprocessing\n",
    "import torch\n",
    "import torch\n",
    "import torch.nn as nn\n",
    "import torch.nn.functional as F\n",
    "import torchvision\n",
    "import torchvision.transforms as transforms\n",
    "from sklearn.datasets import fetch_california_housing\n",
    "from sklearn.model_selection import train_test_split\n",
    "\n",
    "from torch.utils.data import TensorDataset\n"
   ]
  },
  {
   "cell_type": "code",
   "execution_count": 64,
   "metadata": {
    "tags": []
   },
   "outputs": [],
   "source": [
    "file=open(\"lakh_emotion.bin\",\"rb\")\n",
    "music_data = pickle.load(file) #保存list到文件\n",
    "file.close()"
   ]
  },
  {
   "cell_type": "code",
   "execution_count": 65,
   "metadata": {
    "tags": []
   },
   "outputs": [
    {
     "data": {
      "text/plain": [
       "array([\"a-livin'\", 'achey', 'ah', 'ah!',\n",
       "       \"ahah,ahva,vava.we'll take a dream on a sunday,we'll take a life,take a holiday.take a lie,take a dreamer,dream\",\n",
       "       'ahh', 'ahum', 'amazing', 'anger', 'angry', 'arousal', 'awe',\n",
       "       'bad', 'big', 'bitter', 'bittersweet', 'calm', 'cold', 'confused',\n",
       "       'darkness', 'ecstasy', 'ecstatic', 'eloquent',\n",
       "       'emertimenessed by midnight cinglight tying live phonebovelingney, ry where thing no more foremertimenessed by summertimemertimenesss-summertimemertime',\n",
       "       'emotion', 'emotional', 'emozione', 'enlightened', 'esattino',\n",
       "       'ethereal', 'euphoria',\n",
       "       'evtiiiiiiiiiiiiiiiiiiiiiiiiiiiiiiiiiiiiiiiiiiiiii', 'excited',\n",
       "       'fear', 'fearful', 'foolish', 'free as a bird', 'frightful',\n",
       "       \"frozen inside without your touch without your love, darling only you are the life among the dead of this i, i can't believe i couldn't see kept in the dark, but you were there in front of me]\",\n",
       "       'good', 'grateful', 'happy', 'happyness', 'hate', 'heart',\n",
       "       'heartbreaking', 'heartbroken', 'helpful', 'hopeful', 'hurt',\n",
       "       'hurts', 'hysterical', 'i',\n",
       "       'i and getgie you you getgiei and getgie you you getgiei and lyaly out in stuff you you and getgiei and getgies hoodoobie scooshoo scoobe',\n",
       "       'i lay down with an angel', 'i loved them so.',\n",
       "       \"i'm your top prime cut of meat, i'm your choice. i wanna be elected. i'm my top prime cut of meat, i'm your choice. i wanna be elected.\",\n",
       "       'joy', 'joyous', 'light', 'love', 'mean', 'na na na', 'negative',\n",
       "       'numbness',\n",
       "       \"ooooooooo,ooo.ooooooooo,ooo.if you,if you could return,don't let it burn,don't let it fade.i'm sure i'm not being rude\",\n",
       "       'positive', 'powerful', 'proud', 'raining', 'sad', 'sadness',\n",
       "       'shame',\n",
       "       'she feels she is a woman and she is a man and she is a woman and she is a man and she is a woman and she is a woman and she is a woman and she is a woman and',\n",
       "       'shock', 'sorrow', 'strange', 'strong', 'surprise', 'tenderness',\n",
       "       'time', 'tired', 'tiredness', 'trouble', 'uneasy', 'unsure',\n",
       "       'upset', 'vain',\n",
       "       \"webutwell and how nyr ilyed one but thing peenden itn't and how nyr y you buting we'velems you'relieve how thing how thing is answers but\",\n",
       "       'woo',\n",
       "       \"you have seen digcing Friday looking wheresic getting you anybody nightsic's with sicrything you're and youcingyounglyventeen.dancingfeelbourine.youhaving see digc\"],\n",
       "      dtype='<U191')"
      ]
     },
     "execution_count": 65,
     "metadata": {},
     "output_type": "execute_result"
    }
   ],
   "source": [
    "# Show the original labels generated by Flan-T5\n",
    "np.unique([x[1] for x in music_data])"
   ]
  },
  {
   "cell_type": "code",
   "execution_count": 97,
   "metadata": {
    "id": "a5ONeVUU7MOU",
    "tags": []
   },
   "outputs": [],
   "source": [
    "# Selected the most common one word labels\n",
    "from tqdm import tqdm\n",
    "X = []\n",
    "y = []\n",
    "chosen_label = ['sadness', 'happy', 'love', 'joy', 'negative', 'positive', 'anger',\n",
    "       'awe', 'emotional', 'hopeful', 'angry', 'excited', 'fear', 'hurt',\n",
    "       'fearful']\n",
    "# for i in tqdm(range(1,10)):\n",
    "file=open(\"lakh_emotion.bin\",\"rb\")\n",
    "music_data = pickle.load(file) #保存list到文件\n",
    "file.close()\n",
    "for m in music_data:\n",
    "    if m[1] in chosen_label:\n",
    "        X.append(m[0])\n",
    "        if m[1] == 'anger':\n",
    "            m[1] = 'angry'\n",
    "        if m[1] == 'fearful':\n",
    "            m[1] = 'fear'\n",
    "        if m[1] == 'joy':\n",
    "            m[1] = 'happy'\n",
    "        y.append(m[1])\n",
    "X = np.array(X)"
   ]
  },
  {
   "cell_type": "code",
   "execution_count": 98,
   "metadata": {
    "tags": []
   },
   "outputs": [],
   "source": [
    "# Get the number of classes\n",
    "num_labels = len(np.unique(y))"
   ]
  },
  {
   "cell_type": "code",
   "execution_count": 101,
   "metadata": {
    "tags": []
   },
   "outputs": [],
   "source": [
    "# Transform labels into one-hot variable\n",
    "\n",
    "from sklearn import preprocessing\n",
    "import torch\n",
    "\n",
    "le = preprocessing.LabelEncoder()\n",
    "y = le.fit_transform(y)\n",
    "\n",
    "label_dict = {}\n",
    "for cl in le.classes_:\n",
    "    label_dict.update({cl:le.transform([cl])[0]})"
   ]
  },
  {
   "cell_type": "code",
   "execution_count": 4,
   "metadata": {
    "tags": []
   },
   "outputs": [],
   "source": [
    "#Define CNN model\n",
    "class CNNModel(nn.Module):\n",
    "    def __init__(self, hiddenSize, outChannels, dropoutRate, activate):\n",
    "        super().__init__()\n",
    "        self.outChannels = outChannels\n",
    "        self.activate = nn.Sigmoid() if activate == \"Sigmoid\" else nn.ReLU()\n",
    "        self.conv1 = nn.Conv2d(1, 24, (10,1))\n",
    "        self.pool = nn.MaxPool2d((2, 1))\n",
    "        self.conv2 = nn.Conv2d(24, 48, (10,1))\n",
    "        self.conv3 = nn.Conv2d(48, 96, (10,1))\n",
    "        self.conv4 = nn.Conv2d(96, 192, (10,1))\n",
    "        self.conv5 = nn.Conv2d(192, 384, (5,2))\n",
    "        self.conv6 = nn.Conv2d(384, 192, (5,2))\n",
    "        self.dense1 = nn.Linear(48384, hiddenSize)\n",
    "        self.dropout = nn.Dropout(dropoutRate)\n",
    "        self.dense2 = nn.Linear(hiddenSize, num_labels)\n",
    "\n",
    "    def forward(self, x):\n",
    "        x = self.pool(self.activate(self.conv1(x)))\n",
    "        x = self.pool(self.activate(self.conv2(x)))\n",
    "        # print(x.shape)\n",
    "        x = self.dropout(self.pool(self.activate(self.conv3(x))))\n",
    "        x = self.pool(self.activate(self.conv4(x)))\n",
    "        x = self.pool(self.activate(self.conv5(x)))\n",
    "        x = self.pool(self.activate(self.conv6(x)))\n",
    "        # print(x.shape)\n",
    "        x = x.view(-1, 48384)\n",
    "        x = self.dropout(self.activate(self.dense1(x)))\n",
    "        return self.dense2(x)\n",
    "\n",
    "# Number of neurons in the first fully-connected layer\n",
    "hiddenSize = 4096\n",
    "# Number of feature filters in second convolutional layer\n",
    "numFilters = 25\n",
    "# Dropout rate\n",
    "dropoutRate = 0.2\n",
    "# Activation function\n",
    "activation = \"ReLU\"\n",
    "# Learning rate\n",
    "learningRate = 0.005\n",
    "# Momentum for SGD optimizer\n",
    "momentum = 0.9\n",
    "# Number of training epochs\n",
    "numEpochs = 20"
   ]
  },
  {
   "cell_type": "code",
   "execution_count": 102,
   "metadata": {
    "tags": []
   },
   "outputs": [],
   "source": [
    "#Define Trian and Validation function\n",
    "from tqdm import tqdm\n",
    "def train_epoch(cnn,device,dataloader,loss_fn,optimizer):\n",
    "    cnn.train()\n",
    "    cnnRunningLoss = 0\n",
    "    total = 0\n",
    "    R2 = 0\n",
    "    cnnCorrect=0\n",
    "    total1=0\n",
    "    for i, (inputs, labels) in enumerate(dataloader, 0):\n",
    "        optimizer.zero_grad()\n",
    "        inputs = inputs.to('cuda').reshape(-1,1,512,128)\n",
    "        \n",
    "        labels = labels.to('cuda')\n",
    "        # Forward propagation\n",
    "        cnnOutputs = cnn(inputs)\n",
    "        # print(cnnOutputs.shape)\n",
    "        l2_lambda = 0.001\n",
    "        l2_reg = torch.tensor(0.).to('cuda')\n",
    "        for param in cnn.parameters():\n",
    "            l2_reg += torch.norm(param)\n",
    "        # Backpropagation\n",
    "        cnnLoss = criterion(cnnOutputs, labels)+l2_reg*l2_lambda\n",
    "        cnnLoss.backward()\n",
    "        # Gradient update\n",
    "        optimizer.step()\n",
    "        total += 1\n",
    "        total1+=labels.size(0)\n",
    "        cnnRunningLoss += cnnLoss.item()\n",
    "        _, cnnPredicted = torch.max(cnnOutputs.data, 1)\n",
    "        cnnCorrect += (cnnPredicted == labels).sum().item()\n",
    "    return cnnRunningLoss/total, cnnCorrect/total1\n",
    "\n",
    "def valid_epoch(cnn,device,dataloader,loss_fn):\n",
    "    cnn.eval()\n",
    "    totalLoss = 0\n",
    "    total = 0\n",
    "    total1 = 0\n",
    "    R2 = 0\n",
    "    cnnLoss = 0\n",
    "    cnnCorrect=0\n",
    "    for inputs, labels in dataloader:\n",
    "        inputs = inputs.to('cuda').reshape(-1,1,512,128)\n",
    "        labels = labels.to('cuda')\n",
    "        cnnOutputs = cnn(inputs)\n",
    "        cnnLoss = loss_fn(cnnOutputs, labels)\n",
    "        _, cnnPredicted = torch.max(cnnOutputs.data, 1)\n",
    "        total += labels.size(0)\n",
    "        total1 +=1\n",
    "        totalLoss += cnnLoss.item()\n",
    "        cnnCorrect += (cnnPredicted == labels).sum().item()\n",
    "    accuracy = cnnCorrect / total * 100\n",
    "    cnn.train()\n",
    "    return totalLoss/total1, accuracy"
   ]
  },
  {
   "cell_type": "code",
   "execution_count": 103,
   "metadata": {
    "tags": []
   },
   "outputs": [
    {
     "name": "stdout",
     "output_type": "stream",
     "text": [
      "Fold 1\n",
      "Train Loss: 2.544879150390625, Train_acc: 0.11, Test Loss: 2.511772036552429, Test acc: 10.833333333333334\n",
      "Train Loss: 2.3728294134140016, Train_acc: 0.18, Test Loss: 2.6150710582733154, Test acc: 15.833333333333332\n",
      "Train Loss: 2.0665850758552553, Train_acc: 0.32083333333333336, Test Loss: 2.725834608078003, Test acc: 24.166666666666668\n",
      "Train Loss: 1.8275741457939148, Train_acc: 0.44416666666666665, Test Loss: 2.853182077407837, Test acc: 20.416666666666668\n",
      "Train Loss: 1.5240383625030518, Train_acc: 0.5291666666666667, Test Loss: 3.3484232425689697, Test acc: 33.33333333333333\n",
      "Train Loss: 1.381859004497528, Train_acc: 0.59, Test Loss: 3.337221145629883, Test acc: 36.25\n",
      "Train Loss: 1.2434839844703673, Train_acc: 0.6158333333333333, Test Loss: 4.394578695297241, Test acc: 36.666666666666664\n",
      "Train Loss: 1.1272317469120026, Train_acc: 0.6358333333333334, Test Loss: 5.6733386516571045, Test acc: 32.916666666666664\n",
      "Train Loss: 1.1377168953418733, Train_acc: 0.65, Test Loss: 4.991016626358032, Test acc: 37.083333333333336\n",
      "Train Loss: 1.122369545698166, Train_acc: 0.6575, Test Loss: 4.697638034820557, Test acc: 39.58333333333333\n",
      "Train Loss: 1.0316920936107636, Train_acc: 0.6733333333333333, Test Loss: 8.28153944015503, Test acc: 37.083333333333336\n",
      "Train Loss: 1.1001813769340516, Train_acc: 0.6591666666666667, Test Loss: 6.924990177154541, Test acc: 33.75\n",
      "Train Loss: 1.3850169897079467, Train_acc: 0.6341666666666667, Test Loss: 3.1229599714279175, Test acc: 35.41666666666667\n",
      "Train Loss: 1.1204024493694305, Train_acc: 0.6675, Test Loss: 4.685003995895386, Test acc: 35.41666666666667\n",
      "Train Loss: 1.0623291611671448, Train_acc: 0.6733333333333333, Test Loss: 7.919297218322754, Test acc: 35.833333333333336\n",
      "Train Loss: 1.167781263589859, Train_acc: 0.665, Test Loss: 4.21962034702301, Test acc: 37.083333333333336\n",
      "Train Loss: 1.098397082090378, Train_acc: 0.6791666666666667, Test Loss: 4.067560911178589, Test acc: 37.916666666666664\n",
      "Train Loss: 1.0632552921772003, Train_acc: 0.6808333333333333, Test Loss: 6.1634604930877686, Test acc: 31.666666666666664\n",
      "Train Loss: 1.120047289133072, Train_acc: 0.6683333333333333, Test Loss: 5.353693723678589, Test acc: 38.75\n",
      "Train Loss: 1.0233109056949616, Train_acc: 0.6741666666666667, Test Loss: 6.257636308670044, Test acc: 37.916666666666664\n",
      "Fold 2\n",
      "Train Loss: 2.5545032739639284, Train_acc: 0.09166666666666666, Test Loss: 2.4644877910614014, Test acc: 10.416666666666668\n",
      "Train Loss: 2.462624716758728, Train_acc: 0.16833333333333333, Test Loss: 2.3854830265045166, Test acc: 18.333333333333332\n",
      "Train Loss: 2.131000506877899, Train_acc: 0.2816666666666667, Test Loss: 2.491751194000244, Test acc: 30.416666666666664\n",
      "Train Loss: 1.9499094009399414, Train_acc: 0.42, Test Loss: 2.1320987939834595, Test acc: 35.0\n",
      "Train Loss: 1.631064248085022, Train_acc: 0.5275, Test Loss: 2.6388367414474487, Test acc: 37.5\n",
      "Train Loss: 1.3613142013549804, Train_acc: 0.6025, Test Loss: 3.3039153814315796, Test acc: 42.5\n",
      "Train Loss: 1.3288440942764281, Train_acc: 0.63, Test Loss: 2.6270430088043213, Test acc: 45.0\n",
      "Train Loss: 1.1789943814277648, Train_acc: 0.6766666666666666, Test Loss: 2.979269862174988, Test acc: 50.0\n",
      "Train Loss: 1.131811761856079, Train_acc: 0.6925, Test Loss: 3.5524041652679443, Test acc: 48.333333333333336\n",
      "Train Loss: 1.1107047200202942, Train_acc: 0.695, Test Loss: 2.9956291913986206, Test acc: 49.583333333333336\n",
      "Train Loss: 0.9828047335147858, Train_acc: 0.7408333333333333, Test Loss: 4.858733534812927, Test acc: 48.333333333333336\n",
      "Train Loss: 0.9014075577259064, Train_acc: 0.7433333333333333, Test Loss: 7.411664247512817, Test acc: 47.5\n",
      "Train Loss: 1.119134259223938, Train_acc: 0.7241666666666666, Test Loss: 3.777834415435791, Test acc: 47.083333333333336\n",
      "Train Loss: 1.0032642960548401, Train_acc: 0.7308333333333333, Test Loss: 3.930729627609253, Test acc: 50.0\n",
      "Train Loss: 1.0732817113399507, Train_acc: 0.7141666666666666, Test Loss: 3.829172134399414, Test acc: 48.333333333333336\n",
      "Train Loss: 0.9356981992721558, Train_acc: 0.7466666666666667, Test Loss: 3.742967367172241, Test acc: 51.66666666666667\n",
      "Train Loss: 0.8891672194004059, Train_acc: 0.75, Test Loss: 4.932244420051575, Test acc: 47.5\n",
      "Train Loss: 0.9581585884094238, Train_acc: 0.7391666666666666, Test Loss: 4.452365040779114, Test acc: 47.91666666666667\n",
      "Train Loss: 0.8930047690868378, Train_acc: 0.75, Test Loss: 6.306432485580444, Test acc: 51.24999999999999\n",
      "Train Loss: 0.8533963143825531, Train_acc: 0.7591666666666667, Test Loss: 5.020928740501404, Test acc: 48.75\n",
      "Fold 3\n",
      "Train Loss: 2.560968351364136, Train_acc: 0.08083333333333333, Test Loss: 2.4714207649230957, Test acc: 12.5\n",
      "Train Loss: 2.508251428604126, Train_acc: 0.13083333333333333, Test Loss: 2.4322283267974854, Test acc: 10.0\n",
      "Train Loss: 2.313735103607178, Train_acc: 0.2175, Test Loss: 2.05124169588089, Test acc: 32.916666666666664\n",
      "Train Loss: 1.989303183555603, Train_acc: 0.37416666666666665, Test Loss: 2.0108593702316284, Test acc: 37.083333333333336\n",
      "Train Loss: 1.6717199683189392, Train_acc: 0.48083333333333333, Test Loss: 2.153808116912842, Test acc: 39.58333333333333\n",
      "Train Loss: 1.553624939918518, Train_acc: 0.5441666666666667, Test Loss: 2.1678813695907593, Test acc: 40.833333333333336\n",
      "Train Loss: 1.2863410592079163, Train_acc: 0.61, Test Loss: 2.9429831504821777, Test acc: 37.5\n",
      "Train Loss: 1.13173406124115, Train_acc: 0.6516666666666666, Test Loss: 4.069437503814697, Test acc: 40.833333333333336\n",
      "Train Loss: 1.1258812308311463, Train_acc: 0.6816666666666666, Test Loss: 3.1697425842285156, Test acc: 43.333333333333336\n",
      "Train Loss: 1.0746334075927735, Train_acc: 0.6933333333333334, Test Loss: 3.4769952297210693, Test acc: 42.916666666666664\n",
      "Train Loss: 1.0637965738773345, Train_acc: 0.6991666666666667, Test Loss: 3.6784942150115967, Test acc: 42.916666666666664\n",
      "Train Loss: 1.1404019713401794, Train_acc: 0.6891666666666667, Test Loss: 3.954128861427307, Test acc: 42.083333333333336\n",
      "Train Loss: 1.0938625514507294, Train_acc: 0.695, Test Loss: 3.8988049030303955, Test acc: 42.5\n",
      "Train Loss: 0.9811626136302948, Train_acc: 0.7091666666666666, Test Loss: 4.825376510620117, Test acc: 42.5\n",
      "Train Loss: 0.9277391374111176, Train_acc: 0.7266666666666667, Test Loss: 6.392435789108276, Test acc: 41.66666666666667\n",
      "Train Loss: 1.005551928281784, Train_acc: 0.7183333333333334, Test Loss: 5.781272888183594, Test acc: 32.916666666666664\n",
      "Train Loss: 1.138105219602585, Train_acc: 0.6925, Test Loss: 3.185735583305359, Test acc: 44.166666666666664\n",
      "Train Loss: 0.99078528881073, Train_acc: 0.7041666666666667, Test Loss: 3.4801121950149536, Test acc: 43.75\n",
      "Train Loss: 0.8934655606746673, Train_acc: 0.7283333333333334, Test Loss: 5.343132734298706, Test acc: 43.333333333333336\n",
      "Train Loss: 0.8473319590091706, Train_acc: 0.7358333333333333, Test Loss: 7.822657346725464, Test acc: 42.5\n",
      "Fold 4\n",
      "Train Loss: 2.559342956542969, Train_acc: 0.09916666666666667, Test Loss: 2.452831268310547, Test acc: 20.416666666666668\n",
      "Train Loss: 2.5128020286560058, Train_acc: 0.17333333333333334, Test Loss: 2.3327715396881104, Test acc: 15.0\n",
      "Train Loss: 2.3461933612823485, Train_acc: 0.19833333333333333, Test Loss: 2.0538865327835083, Test acc: 30.833333333333336\n",
      "Train Loss: 2.0538366079330443, Train_acc: 0.34833333333333333, Test Loss: 1.957014560699463, Test acc: 38.333333333333336\n",
      "Train Loss: 1.8041269540786744, Train_acc: 0.4558333333333333, Test Loss: 1.9690687656402588, Test acc: 43.75\n",
      "Train Loss: 1.5338083505630493, Train_acc: 0.5183333333333333, Test Loss: 1.9607114791870117, Test acc: 42.916666666666664\n",
      "Train Loss: 1.3538433074951173, Train_acc: 0.5866666666666667, Test Loss: 2.034568727016449, Test acc: 49.166666666666664\n",
      "Train Loss: 1.2008211016654968, Train_acc: 0.6441666666666667, Test Loss: 2.36414897441864, Test acc: 48.75\n",
      "Train Loss: 1.0734818160533905, Train_acc: 0.6583333333333333, Test Loss: 3.368625044822693, Test acc: 47.91666666666667\n",
      "Train Loss: 1.0541631698608398, Train_acc: 0.6808333333333333, Test Loss: 3.112055778503418, Test acc: 48.75\n",
      "Train Loss: 0.9689188420772552, Train_acc: 0.7075, Test Loss: 3.755692481994629, Test acc: 50.416666666666664\n",
      "Train Loss: 1.0327105939388275, Train_acc: 0.6991666666666667, Test Loss: 3.0484797954559326, Test acc: 47.91666666666667\n",
      "Train Loss: 0.9986433386802673, Train_acc: 0.7066666666666667, Test Loss: 3.6084762811660767, Test acc: 49.166666666666664\n",
      "Train Loss: 0.9431548953056336, Train_acc: 0.7141666666666666, Test Loss: 4.554520845413208, Test acc: 49.583333333333336\n",
      "Train Loss: 1.0930129885673523, Train_acc: 0.7008333333333333, Test Loss: 3.59356951713562, Test acc: 44.166666666666664\n",
      "Train Loss: 1.011724317073822, Train_acc: 0.6975, Test Loss: 3.3969324827194214, Test acc: 47.083333333333336\n",
      "Train Loss: 1.0032617926597596, Train_acc: 0.7058333333333333, Test Loss: 3.3896045684814453, Test acc: 47.91666666666667\n",
      "Train Loss: 0.9082905769348144, Train_acc: 0.7291666666666666, Test Loss: 3.9628350734710693, Test acc: 51.24999999999999\n",
      "Train Loss: 0.8927402019500732, Train_acc: 0.7333333333333333, Test Loss: 5.908162355422974, Test acc: 45.416666666666664\n",
      "Train Loss: 1.0033084273338317, Train_acc: 0.7183333333333334, Test Loss: 3.33485209941864, Test acc: 47.91666666666667\n",
      "Fold 5\n",
      "Train Loss: 2.5527090311050413, Train_acc: 0.10916666666666666, Test Loss: 2.471941590309143, Test acc: 13.750000000000002\n",
      "Train Loss: 2.4661985635757446, Train_acc: 0.15583333333333332, Test Loss: 2.470752716064453, Test acc: 11.666666666666666\n",
      "Train Loss: 2.1348279237747194, Train_acc: 0.2775, Test Loss: 2.665808916091919, Test acc: 15.0\n",
      "Train Loss: 2.0348750829696653, Train_acc: 0.3675, Test Loss: 2.2837284803390503, Test acc: 21.666666666666668\n",
      "Train Loss: 1.722294545173645, Train_acc: 0.4625, Test Loss: 2.575242757797241, Test acc: 27.500000000000004\n",
      "Train Loss: 1.5965646624565124, Train_acc: 0.5083333333333333, Test Loss: 2.511627674102783, Test acc: 35.41666666666667\n",
      "Train Loss: 1.5462178468704224, Train_acc: 0.5691666666666667, Test Loss: 2.424227714538574, Test acc: 37.5\n",
      "Train Loss: 1.243674063682556, Train_acc: 0.62, Test Loss: 5.0181052684783936, Test acc: 40.0\n",
      "Train Loss: 1.5803727865219117, Train_acc: 0.5758333333333333, Test Loss: 2.0358394980430603, Test acc: 42.916666666666664\n",
      "Train Loss: 1.2901570200920105, Train_acc: 0.6258333333333334, Test Loss: 3.2064383029937744, Test acc: 43.333333333333336\n",
      "Train Loss: 1.1005243122577668, Train_acc: 0.6508333333333334, Test Loss: 5.420256853103638, Test acc: 47.083333333333336\n",
      "Train Loss: 1.2617688596248626, Train_acc: 0.6583333333333333, Test Loss: 2.888223648071289, Test acc: 39.58333333333333\n",
      "Train Loss: 1.2966224789619445, Train_acc: 0.6266666666666667, Test Loss: 2.6218141317367554, Test acc: 42.5\n",
      "Train Loss: 1.1010893285274506, Train_acc: 0.66, Test Loss: 3.726750373840332, Test acc: 45.416666666666664\n",
      "Train Loss: 1.1660788118839265, Train_acc: 0.6566666666666666, Test Loss: 4.261751770973206, Test acc: 43.333333333333336\n",
      "Train Loss: 1.141684067249298, Train_acc: 0.6708333333333333, Test Loss: 3.280975341796875, Test acc: 46.25\n",
      "Train Loss: 1.0624887943267822, Train_acc: 0.6816666666666666, Test Loss: 4.4720213413238525, Test acc: 49.166666666666664\n",
      "Train Loss: 0.9713901817798615, Train_acc: 0.6966666666666667, Test Loss: 5.5121910572052, Test acc: 45.0\n",
      "Train Loss: 1.0712769269943236, Train_acc: 0.6916666666666667, Test Loss: 5.066340446472168, Test acc: 45.83333333333333\n",
      "Train Loss: 1.3756625175476074, Train_acc: 0.6533333333333333, Test Loss: 2.7743427753448486, Test acc: 44.166666666666664\n"
     ]
    }
   ],
   "source": [
    "# Train the model\n",
    "import sklearn\n",
    "from sklearn.model_selection import StratifiedKFold\n",
    "X_train_v, X_test, y_train_v, y_test = train_test_split(X, y, test_size=0.2, random_state=42, stratify=y) # First Split the dataset and use the training set for 5-fold validation\n",
    "\n",
    "X_train_v = torch.as_tensor(X_train_v, dtype=torch.float) # an alternative to torch.from_numpy\n",
    "y_train_v = torch.as_tensor(y_train_v, dtype=torch.float)\n",
    "X_test = torch.as_tensor(X_test, dtype=torch.float)\n",
    "y_test = torch.as_tensor(y_test, dtype=torch.float)\n",
    "splits=StratifiedKFold(n_splits=5,shuffle=True,random_state=99)\n",
    "train_dataset = TensorDataset(X_train_v, y_train_v)\n",
    "test_dataset = TensorDataset(X_test, y_test)\n",
    "batch_size=128\n",
    "models = []\n",
    "history = {'fold':[], 'train_loss': [], 'test_loss': [],'train_acc':[],'test_acc':[]}\n",
    "\n",
    "device = torch.device(\"cuda:0\" if torch.cuda.is_available() else \"cpu\")\n",
    "for fold, (train_idx,val_idx) in enumerate(splits.split(X_train_v,y_train_v)):\n",
    "    print('Fold {}'.format(fold + 1))\n",
    "    t = pd.DataFrame(y_train_v[train_idx], columns = ['class']).reset_index()\n",
    "    idx = []\n",
    "    # Resample to avoid unbalanced dataset\n",
    "    y_train = []\n",
    "    for i in range(0,num_labels):\n",
    "      idx += list(t[t['class']==i].sample(100,replace=True)['index'])\n",
    "      y_train += [i]*100\n",
    "    X_train = X_train_v[train_idx][idx]\n",
    "\n",
    "    t = pd.DataFrame(y_train_v[val_idx], columns = ['class']).reset_index()\n",
    "    idx = []\n",
    "    y_val = []\n",
    "    for i in range(0,num_labels):\n",
    "      # print(i)\n",
    "      if i in t['class'].values:\n",
    "          idx += list(t[t['class']==i].sample(20,replace=True)['index'])\n",
    "          y_val += [i]*20\n",
    "    X_val =  X_train_v[val_idx][idx]\n",
    "\n",
    "    X_train = torch.as_tensor(X_train, dtype=torch.float) # an alternative to torch.from_numpy\n",
    "    y_train = torch.as_tensor(y_train, dtype=torch.float).type(torch.LongTensor)\n",
    "    X_val = torch.as_tensor(X_val, dtype=torch.float)\n",
    "    y_val = torch.as_tensor(y_val, dtype=torch.float).type(torch.LongTensor)\n",
    "\n",
    "    train_dataset = TensorDataset(X_train, y_train)\n",
    "    test_dataset = TensorDataset(X_val, y_val)\n",
    "\n",
    "    from torch.utils.data import Dataset, DataLoader\n",
    "    train_dataloader = DataLoader(train_dataset, batch_size=128, shuffle=True)\n",
    "    test_dataloader = DataLoader(test_dataset, batch_size=128, shuffle=False)\n",
    "    \n",
    "    model = CNNModel(hiddenSize, numFilters, dropoutRate, activation).to('cuda')\n",
    "    criterion = nn.CrossEntropyLoss()\n",
    "    optimizer = torch.optim.SGD(list(model.parameters()), lr=learningRate, momentum=momentum)\n",
    "    # optimizer = torch.optim.Adam(list(model.parameters()), lr=learningRate)\n",
    "    best_test = -np.inf\n",
    "    best_model = None\n",
    "    \n",
    "    for epoch in range(numEpochs):\n",
    "        train_loss, train_R2=train_epoch(model,device,train_dataloader,criterion,optimizer)\n",
    "        test_loss, test_R2=valid_epoch(model,device,test_dataloader,criterion)\n",
    "        history['fold'].append(fold)\n",
    "        history['train_loss'].append(train_loss)\n",
    "        history['test_loss'].append(test_loss)\n",
    "        history['train_acc'].append(train_R2)\n",
    "        history['test_acc'].append(test_R2)   \n",
    "        if test_R2>best_test:\n",
    "            test_test = test_R2\n",
    "            best_model = model\n",
    "        print('Train Loss: {}, Train_acc: {}, Test Loss: {}, Test acc: {}'.format(train_loss, train_R2, test_loss, test_R2))\n",
    "    models.append([best_model])"
   ]
  },
  {
   "cell_type": "code",
   "execution_count": 104,
   "metadata": {
    "tags": []
   },
   "outputs": [],
   "source": [
    "# Caculate the average accuray\n",
    "t = pd.DataFrame(y_test, columns = ['class']).reset_index()\n",
    "idx = []\n",
    "y_test = []\n",
    "for i in range(0,num_labels):\n",
    "    if i in t['class'].values:\n",
    "        idx += list(t[t['class']==i].sample(20,replace=True)['index'])\n",
    "        y_test += [i]*20\n",
    "X_test =  X_test[idx]\n",
    "X_test = torch.as_tensor(X_test, dtype=torch.float)\n",
    "y_test = torch.as_tensor(y_test, dtype=torch.float).type(torch.LongTensor)\n",
    "test_dataset = TensorDataset(X_test, y_test)\n",
    "test_dataloader = DataLoader(test_dataset, batch_size=128, shuffle=False)\n",
    "acc=[]\n",
    "for best_model in models:\n",
    "    acc.append(valid_epoch(best_model[0],device,test_dataloader,criterion)[1])"
   ]
  },
  {
   "cell_type": "code",
   "execution_count": 105,
   "metadata": {
    "tags": []
   },
   "outputs": [
    {
     "data": {
      "text/plain": [
       "47.583333333333336"
      ]
     },
     "execution_count": 105,
     "metadata": {},
     "output_type": "execute_result"
    }
   ],
   "source": [
    "np.mean(acc)"
   ]
  },
  {
   "cell_type": "code",
   "execution_count": 111,
   "metadata": {
    "tags": []
   },
   "outputs": [
    {
     "data": {
      "text/plain": [
       "51.66666666666667"
      ]
     },
     "execution_count": 111,
     "metadata": {},
     "output_type": "execute_result"
    }
   ],
   "source": [
    "outputs = []    \n",
    "for model in models:\n",
    "  model[0].eval()\n",
    "  model_output = []\n",
    "  label_= []\n",
    "  model[0].to('cpu')\n",
    "  for inputs, labels in test_dataloader:\n",
    "      inputs = inputs.to('cpu').reshape(-1,1,512,128)\n",
    "      labels = labels.to('cpu')\n",
    "      cnnOutputs = model[0](inputs)\n",
    "      model_output.append(cnnOutputs)\n",
    "      label_.append(labels)\n",
    "  outputs.append(torch.vstack(model_output))\n",
    "cnnresult = torch.vstack(outputs).reshape(-1,shape[0],shape[1]).mean(axis=0)\n",
    "labels = np.hstack(label_)\n",
    "_, cnnPredicted = torch.max(cnnresult.data, 1)\n",
    "cnnCorrect = (cnnPredicted.detach().numpy() == labels).sum().item()\n",
    "cnnCorrect/len(labels)*100"
   ]
  },
  {
   "cell_type": "code",
   "execution_count": 112,
   "metadata": {
    "tags": []
   },
   "outputs": [
    {
     "data": {
      "text/plain": [
       "<Axes: >"
      ]
     },
     "execution_count": 112,
     "metadata": {},
     "output_type": "execute_result"
    },
    {
     "data": {
      "image/png": "[encoded data removed]",
      "text/plain": [
       "<Figure size 640x480 with 2 Axes>"
      ]
     },
     "metadata": {},
     "output_type": "display_data"
    }
   ],
   "source": [
    "# Draw the confusion matrix\n",
    "from sklearn.metrics import confusion_matrix\n",
    "confu_m = confusion_matrix(labels, cnnPredicted)\n",
    "import seaborn as sns\n",
    "sns.heatmap(confu_m,square=False)"
   ]
  },
  {
   "cell_type": "code",
   "execution_count": 113,
   "metadata": {
    "tags": []
   },
   "outputs": [
    {
     "data": {
      "text/plain": [
       "{'angry': 0,\n",
       " 'awe': 1,\n",
       " 'emotional': 2,\n",
       " 'excited': 3,\n",
       " 'fear': 4,\n",
       " 'happy': 5,\n",
       " 'hopeful': 6,\n",
       " 'hurt': 7,\n",
       " 'love': 8,\n",
       " 'negative': 9,\n",
       " 'positive': 10,\n",
       " 'sadness': 11}"
      ]
     },
     "execution_count": 113,
     "metadata": {},
     "output_type": "execute_result"
    }
   ],
   "source": [
    "label_dict = {}\n",
    "for cl in le.classes_:\n",
    "    label_dict.update({cl:le.transform([cl])[0]})\n",
    "label_dict"
   ]
  },
  {
   "cell_type": "code",
   "execution_count": 114,
   "metadata": {
    "tags": []
   },
   "outputs": [
    {
     "name": "stderr",
     "output_type": "stream",
     "text": [
      "/mnt/storage/CIIP_group/Postdoc/Aiqi_Sun/anaconda/lib/python3.11/site-packages/sklearn/metrics/_classification.py:1469: UndefinedMetricWarning: Recall and F-score are ill-defined and being set to 0.0 in labels with no true samples. Use `zero_division` parameter to control this behavior.\n",
      "  _warn_prf(average, modifier, msg_start, len(result))\n"
     ]
    },
    {
     "data": {
      "text/html": [
       "<div>\n",
       "<style scoped>\n",
       "    .dataframe tbody tr th:only-of-type {\n",
       "        vertical-align: middle;\n",
       "    }\n",
       "\n",
       "    .dataframe tbody tr th {\n",
       "        vertical-align: top;\n",
       "    }\n",
       "\n",
       "    .dataframe thead th {\n",
       "        text-align: right;\n",
       "    }\n",
       "</style>\n",
       "<table border=\"1\" class=\"dataframe\">\n",
       "  <thead>\n",
       "    <tr style=\"text-align: right;\">\n",
       "      <th></th>\n",
       "      <th>angry</th>\n",
       "      <th>awe</th>\n",
       "      <th>emotional</th>\n",
       "      <th>excited</th>\n",
       "      <th>fear</th>\n",
       "      <th>happy</th>\n",
       "      <th>hopeful</th>\n",
       "      <th>hurt</th>\n",
       "      <th>love</th>\n",
       "      <th>negative</th>\n",
       "      <th>positive</th>\n",
       "      <th>sadness</th>\n",
       "    </tr>\n",
       "  </thead>\n",
       "  <tbody>\n",
       "    <tr>\n",
       "      <th>precision</th>\n",
       "      <td>0.300000</td>\n",
       "      <td>1.000000</td>\n",
       "      <td>0.650000</td>\n",
       "      <td>0.400000</td>\n",
       "      <td>1.000000</td>\n",
       "      <td>0.500000</td>\n",
       "      <td>0.450000</td>\n",
       "      <td>0.0</td>\n",
       "      <td>0.350000</td>\n",
       "      <td>0.400000</td>\n",
       "      <td>0.650000</td>\n",
       "      <td>0.500000</td>\n",
       "    </tr>\n",
       "    <tr>\n",
       "      <th>recall</th>\n",
       "      <td>0.400000</td>\n",
       "      <td>0.952381</td>\n",
       "      <td>0.590909</td>\n",
       "      <td>1.000000</td>\n",
       "      <td>0.294118</td>\n",
       "      <td>0.714286</td>\n",
       "      <td>0.818182</td>\n",
       "      <td>0.0</td>\n",
       "      <td>0.500000</td>\n",
       "      <td>0.380952</td>\n",
       "      <td>0.928571</td>\n",
       "      <td>0.312500</td>\n",
       "    </tr>\n",
       "    <tr>\n",
       "      <th>f1</th>\n",
       "      <td>0.342857</td>\n",
       "      <td>0.975610</td>\n",
       "      <td>0.619048</td>\n",
       "      <td>0.571429</td>\n",
       "      <td>0.454545</td>\n",
       "      <td>0.588235</td>\n",
       "      <td>0.580645</td>\n",
       "      <td>0.0</td>\n",
       "      <td>0.411765</td>\n",
       "      <td>0.390244</td>\n",
       "      <td>0.764706</td>\n",
       "      <td>0.384615</td>\n",
       "    </tr>\n",
       "    <tr>\n",
       "      <th>support</th>\n",
       "      <td>15.000000</td>\n",
       "      <td>21.000000</td>\n",
       "      <td>22.000000</td>\n",
       "      <td>8.000000</td>\n",
       "      <td>68.000000</td>\n",
       "      <td>14.000000</td>\n",
       "      <td>11.000000</td>\n",
       "      <td>0.0</td>\n",
       "      <td>14.000000</td>\n",
       "      <td>21.000000</td>\n",
       "      <td>14.000000</td>\n",
       "      <td>32.000000</td>\n",
       "    </tr>\n",
       "  </tbody>\n",
       "</table>\n",
       "</div>"
      ],
      "text/plain": [
       "               angry        awe  emotional   excited       fear      happy  \\\n",
       "precision   0.300000   1.000000   0.650000  0.400000   1.000000   0.500000   \n",
       "recall      0.400000   0.952381   0.590909  1.000000   0.294118   0.714286   \n",
       "f1          0.342857   0.975610   0.619048  0.571429   0.454545   0.588235   \n",
       "support    15.000000  21.000000  22.000000  8.000000  68.000000  14.000000   \n",
       "\n",
       "             hopeful  hurt       love   negative   positive    sadness  \n",
       "precision   0.450000   0.0   0.350000   0.400000   0.650000   0.500000  \n",
       "recall      0.818182   0.0   0.500000   0.380952   0.928571   0.312500  \n",
       "f1          0.580645   0.0   0.411765   0.390244   0.764706   0.384615  \n",
       "support    11.000000   0.0  14.000000  21.000000  14.000000  32.000000  "
      ]
     },
     "execution_count": 114,
     "metadata": {},
     "output_type": "execute_result"
    }
   ],
   "source": [
    "from sklearn.metrics import precision_recall_fscore_support\n",
    "scores = pd.DataFrame(precision_recall_fscore_support(cnnPredicted, labels, labels = list(range(12))),index=['precision','recall','f1','support'], columns = list(label_dict)[:12])\n",
    "scores"
   ]
  }
 ],
 "metadata": {
  "accelerator": "GPU",
  "colab": {
   "gpuType": "T4",
   "machine_shape": "hm",
   "provenance": []
  },
  "kernelspec": {
   "display_name": "Python 3 (ipykernel)",
   "language": "python",
   "name": "python3"
  },
  "language_info": {
   "codemirror_mode": {
    "name": "ipython",
    "version": 3
   },
   "file_extension": ".py",
   "mimetype": "text/x-python",
   "name": "python",
   "nbconvert_exporter": "python",
   "pygments_lexer": "ipython3",
   "version": "3.9.13"
  },
  "widgets": {
   "application/vnd.jupyter.widget-state+json": {
    "state": {},
    "version_major": 2,
    "version_minor": 0
   }
  }
 },
 "nbformat": 4,
 "nbformat_minor": 4
}
