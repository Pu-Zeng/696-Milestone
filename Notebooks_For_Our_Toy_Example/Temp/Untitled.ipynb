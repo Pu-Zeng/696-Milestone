{
 "cells": [
  {
   "cell_type": "code",
   "execution_count": 1,
   "id": "ae15d8ac-4fa2-4872-a24d-972449960656",
   "metadata": {},
   "outputs": [
    {
     "name": "stdout",
     "output_type": "stream",
     "text": [
      "All content numbers is 18\n"
     ]
    },
    {
     "name": "stderr",
     "output_type": "stream",
     "text": [
      "100%|██████████████████████████████████████████████████████████████████████████████████| 18/18 [00:00<00:00, 45.01it/s]\n"
     ]
    }
   ],
   "source": [
    "import os\n",
    "from tqdm import tqdm\n",
    "from tqdm import tqdm\n",
    "import re\n",
    "import numpy as np\n",
    "from scipy.ndimage import zoom\n",
    "from langdetect import detect\n",
    "import pretty_midi\n",
    "import pickle\n",
    "import pandas as pd\n",
    "\n",
    "def dfs_showdir(path, depth, label):\n",
    "    for item in os.listdir(path):\n",
    "        # if '.git' not in item:\n",
    "            newitem = path +'/'+ item\n",
    "            if os.path.isdir(newitem):\n",
    "                dfs_showdir(newitem, depth +1, label+[item])\n",
    "            else:\n",
    "                res.append([label[-1], path])\n",
    "\n",
    "\n",
    "target_path='../Toy_Dataset/adl-piano-midi/'\n",
    "output_dir = './Processed_Data/'\n",
    "all_content=os.listdir(target_path)\n",
    "print('All content numbers is',len(all_content))\n",
    "res = []\n",
    "label = []\n",
    "for content in tqdm(all_content):\n",
    "    if os.path.isdir(target_path+content):\n",
    "        all_sub_content=os.listdir(target_path+content)\n",
    "        for subcontent in all_sub_content:\n",
    "            dfs_showdir(target_path+content+'/'+subcontent, 0, label+[subcontent])\n",
    "# dfs_showdir(target_path, 0, label)\n",
    "\n",
    "data = pd.DataFrame(res, columns = ['music_ID', 'address'])\n",
    "\n"
   ]
  },
  {
   "cell_type": "code",
   "execution_count": 5,
   "id": "9e68a151-22bd-4c9c-a4f4-a0ce08688645",
   "metadata": {},
   "outputs": [
    {
     "data": {
      "text/plain": [
       "'../Toy_Dataset/adl-piano-midi/Ambient/Ambient/Roger Eno'"
      ]
     },
     "execution_count": 5,
     "metadata": {},
     "output_type": "execute_result"
    }
   ],
   "source": [
    "data.iloc[0]['address']"
   ]
  },
  {
   "cell_type": "code",
   "execution_count": 6,
   "id": "d63c4778-232a-4283-a0b5-f8027b7daed3",
   "metadata": {},
   "outputs": [
    {
     "data": {
      "text/plain": [
       "'../Toy_Dataset/adl-piano-midi/Ambient/Ambient/Roger Eno'"
      ]
     },
     "execution_count": 6,
     "metadata": {},
     "output_type": "execute_result"
    }
   ],
   "source": [
    "data.iloc[1]['address']"
   ]
  },
  {
   "cell_type": "code",
   "execution_count": null,
   "id": "c866024a-1e94-47a5-914d-68f8bd441ac8",
   "metadata": {},
   "outputs": [],
   "source": [
    "music_data1 = []\n",
    "seconds_per_row = 0.05\n",
    "r = []\n",
    "midi_tranformed=[]\n",
    "bins_ = np.linspace(0, len(data)+1, 10).astype(int)\n",
    "for n in range(1,len(bins_)):\n",
    "    data_bin = data.iloc[bins_[n-1]:bins_[n]]\n",
    "    for m in tqdm(data_bin.iterrows()):\n",
    "        # print(row[1].address + '/' + os.listdir(row[1].address)[0])\n",
    "        try:\n",
    "                # print(pretty.lyrics)\n",
    "            # print(m[1].address + '/' + os.listdir(m[1].address)[0])\n",
    "            if m[1].music_ID not in midi_tranformed:\n",
    "                midi_tranformed.append(m[1].music_ID)\n",
    "                m = pretty_midi.PrettyMIDI(m[1].address + '/' + os.listdir(m[1].address)[0])\n",
    "\n",
    "                if m.lyrics!=[]:\n",
    "                    lyrics = ''.join([x.text for x in m.lyrics if re.match('\\w',x.text) and x.time!=0]).lower()\n",
    "                    # print(lyrics)\n",
    "                    # multitrack = pypianoroll.read(row[1].address + '/' + os.listdir(row[1].address)[0])\n",
    "                    # channel = multitrack.stack().shape[0]\n",
    "                    if detect(lyrics) == 'en' and len(lyrics)>100:\n",
    "                        roll = np.zeros_like(m.get_piano_roll())\n",
    "                        count = 0\n",
    "                        for i in m.instruments:\n",
    "                            if i.program<=7:\n",
    "                                s1 =  i.get_piano_roll().shape\n",
    "                                roll[:,:s1[1]] += i.get_piano_roll()\n",
    "                                count+=1\n",
    "                        roll = (roll/count).T\n",
    "                        if np.isnan(roll).sum() == 0:\n",
    "                            height = int(roll.shape[0]/m.estimate_tempo()/m.resolution*60/seconds_per_row)\n",
    "                            res = np.zeros([height, 128])\n",
    "                            res = zoom(roll, (height/roll.shape[0], 1)).astype(int)\n",
    "                            # program = [track.program for track in multitrack.tracks]\n",
    "                            music_data1.append([res, lyrics])\n",
    "                            # r.append(roll)\n",
    "        except:\n",
    "            pass\n",
    "    file = open(args.output_dir + '/lakh_lyric'+str(n)+'.bin', 'wb')\n",
    "    pickle.dump(music_data1, file)\n",
    "    file.close()\n",
    "    print('Total number of muisc {}'.format(str(len(midi_tranformed))))"
   ]
  }
 ],
 "metadata": {
  "kernelspec": {
   "display_name": "Python 3 (ipykernel)",
   "language": "python",
   "name": "python3"
  },
  "language_info": {
   "codemirror_mode": {
    "name": "ipython",
    "version": 3
   },
   "file_extension": ".py",
   "mimetype": "text/x-python",
   "name": "python",
   "nbconvert_exporter": "python",
   "pygments_lexer": "ipython3",
   "version": "3.9.13"
  },
  "widgets": {
   "application/vnd.jupyter.widget-state+json": {
    "state": {},
    "version_major": 2,
    "version_minor": 0
   }
  }
 },
 "nbformat": 4,
 "nbformat_minor": 5
}
